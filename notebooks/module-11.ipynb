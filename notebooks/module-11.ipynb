{
 "cells": [
  {
   "cell_type": "markdown",
   "metadata": {
    "dotnet_interactive": {
     "language": "csharp"
    }
   },
   "source": [
    "# Module 11: Monitor and troubleshoot an Azure Cosmos DB SQL API solution\n",
    "\n",
    "- [[Learning path]](https://docs.microsoft.com/en-us/learn/paths/monitor-troubleshoot-azure-cosmos-db-sql-api-solution/?ns-enrollment-type=Collection&ns-enrollment-id=1k8wcz8zooj2nx)\n",
    "- [[Lab]](https://microsoftlearning.github.io/dp-420-cosmos-db-dev/instructions/25-monitor.html): Use Azure Monitor to analyze an Azure Cosmos DB SQL API account\n",
    "- [[Lab]](https://microsoftlearning.github.io/dp-420-cosmos-db-dev/instructions/26-sdk-troubleshoot.html): Troubleshoot an application using the Azure Cosmos DB SQL API SDK\n",
    "- [[Lab]](https://microsoftlearning.github.io/dp-420-cosmos-db-dev/instructions/28-key-vault.html): Store Azure Cosmos DB SQL API account keys in Azure Key Vault"
   ]
  }
 ],
 "metadata": {
  "kernelspec": {
   "display_name": ".NET (C#)",
   "language": "C#",
   "name": ".net-csharp"
  },
  "language_info": {
   "name": "C#"
  }
 },
 "nbformat": 4,
 "nbformat_minor": 2
}

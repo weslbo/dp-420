{
 "cells": [
  {
   "cell_type": "markdown",
   "metadata": {
    "dotnet_interactive": {
     "language": "csharp"
    }
   },
   "source": [
    "# Module 08: Implement a data modeling and partitioning strategy for Azure Cosmos DB SQL API\n",
    "\n",
    "- [[Learning path]](https://docs.microsoft.com/en-us/learn/paths/implement-modeling-partitioning-azure-cosmos-db-sql-api/?ns-enrollment-type=Collection&ns-enrollment-id=1k8wcz8zooj2nx)\n",
    "- [[Lab]](https://microsoftlearning.github.io/dp-420-cosmos-db-dev/instructions/16-measure-performance.html): Measure performance of entities in separate and embeded containers\n",
    "- [[Lab]](https://microsoftlearning.github.io/dp-420-cosmos-db-dev/instructions/17-denormalize.html): Cost of denormalizing data and aggregates and using the change feed for referential integrity"
   ]
  },
  {
   "cell_type": "markdown",
   "metadata": {},
   "source": [
    "## Implement a non-relational data model"
   ]
  },
  {
   "cell_type": "markdown",
   "metadata": {},
   "source": [
    "### What's the difference between NoSQL and relational databases\n",
    "\n",
    "Relational database:\n",
    "- Vertical scaling only\n",
    "- Fixed schema\n",
    "- Relational data\n",
    "\n",
    "NoSQL database:\n",
    "- Horizontal scaling\n",
    "- Flexible schema\n",
    "- Non-relational data"
   ]
  },
  {
   "cell_type": "markdown",
   "metadata": {},
   "source": [
    "### Scenario\n",
    "\n",
    "The following entity-relationship (ER) diagram details the nine entities used in the next modules.\n",
    "\n",
    "![image](https://docs.microsoft.com/en-us/learn/wwl-data-ai/implement-non-relational-data-model/media/1-full-relational-model.png)"
   ]
  },
  {
   "cell_type": "markdown",
   "metadata": {},
   "source": [
    "### Identify access patterns for your app\n",
    "\n",
    "When you're designing a data model for a NoSQL database, the objective is to ensure that operations on data are done in the fewest requests.\n",
    "\n",
    "Identify access patterns for customer entities\n",
    "\n",
    "![image](https://docs.microsoft.com/en-us/learn/wwl-data-ai/implement-non-relational-data-model/media/3-customer-relational-model.png)\n",
    "\n",
    "Model customer entities\n",
    "\n",
    "![image](https://docs.microsoft.com/en-us/learn/wwl-data-ai/implement-non-relational-data-model/media/3-modeled-customer-document.png)"
   ]
  },
  {
   "cell_type": "markdown",
   "metadata": {},
   "source": [
    "### When to embed or reference data\n",
    "\n",
    "There are rules for when you should embed data in a document instead of referencing it in a different row.\n",
    "\n",
    "When should you **embed** data?\n",
    "- Read or updated together\n",
    "- 1:1 relationship\n",
    "- 1:Few relationship\n",
    "\n",
    "When should you **reference** data?\n",
    "- Read or updated independently\n",
    "- 1:Many relationship\n",
    "- Many:Many relationship\n"
   ]
  },
  {
   "cell_type": "markdown",
   "metadata": {},
   "source": [
    "### Choose a partition key\n",
    "\n",
    "The partition key is a required document property that ensures documents with the same partition key value are routed to and stored within a specific physical partition.\n",
    "\n",
    "Physical and Logical partitions in Azure Cosmos DB\n",
    "\n",
    "![image](https://docs.microsoft.com/en-us/learn/wwl-data-ai/implement-non-relational-data-model/media/6-relationship-between-physical-and-logical-partitions.png)\n",
    "\n",
    "Partitions Key\n",
    "\n",
    "![image](https://docs.microsoft.com/en-us/learn/wwl-data-ai/implement-non-relational-data-model/media/6-container-partition-key.png)\n"
   ]
  },
  {
   "cell_type": "markdown",
   "metadata": {},
   "source": [
    "### Avoid hot partitions\n",
    "\n",
    "When data is not partitioned correctly, it can result in hot partitions. Hot partitions prevent your application workload from scaling.\n",
    "\n",
    "Storage hot partitions\n",
    "\n",
    "![image](https://docs.microsoft.com/en-us/learn/wwl-data-ai/implement-non-relational-data-model/media/6-storage-distribution-skew.png)\n",
    "\n",
    "Throughput hot partitions\n",
    "\n",
    "![image](https://docs.microsoft.com/en-us/learn/wwl-data-ai/implement-non-relational-data-model/media/6-partitions-even.png)"
   ]
  },
  {
   "cell_type": "markdown",
   "metadata": {},
   "source": [
    "### Consider reads versus writes\n",
    "\n",
    "When you're choosing a partition key, you also need to consider whether the data is read heavy or write heavy.\n",
    "\n",
    "Single Partition Query\n",
    "\n",
    "![image](https://docs.microsoft.com/en-us/learn/wwl-data-ai/implement-non-relational-data-model/media/6-in-partition-query.png)\n",
    "\n",
    "Cross Partition Query\n",
    "\n",
    "![image](https://docs.microsoft.com/en-us/learn/wwl-data-ai/implement-non-relational-data-model/media/6-cross-partition-query.png)"
   ]
  },
  {
   "cell_type": "markdown",
   "metadata": {},
   "source": [
    "### Choose a partition key for customers\n",
    "\n",
    "Now that you understand partitioning in Azure Cosmos DB, we can decide on a partition key for our customer data.\n",
    "\n",
    "![image](https://docs.microsoft.com/en-us/learn/wwl-data-ai/implement-non-relational-data-model/media/6-customer-partition-key.png)"
   ]
  },
  {
   "cell_type": "markdown",
   "metadata": {},
   "source": [
    "### Model small lookup entities\n",
    "\n",
    "Our data model includes two small reference data entities, ProductCategory and ProductTag.\n",
    "\n",
    "Product relational model\n",
    "\n",
    "![image](https://docs.microsoft.com/en-us/learn/wwl-data-ai/implement-non-relational-data-model/media/7-product-relational-model.png)\n",
    "\n",
    "Model product categories\n",
    "\n",
    "![image](https://docs.microsoft.com/en-us/learn/wwl-data-ai/implement-non-relational-data-model/media/7-product-category-model.png)\n",
    "\n",
    "![image](https://docs.microsoft.com/en-us/learn/wwl-data-ai/implement-non-relational-data-model/media/7-product-category-model-type.png)\n",
    "\n",
    "Model product tags\n",
    "\n",
    "![image](https://docs.microsoft.com/en-us/learn/wwl-data-ai/implement-non-relational-data-model/media/7-product-tag-model.png)"
   ]
  },
  {
   "cell_type": "markdown",
   "metadata": {},
   "source": [
    "## Design a data partitioning strategy"
   ]
  },
  {
   "cell_type": "markdown",
   "metadata": {},
   "source": [
    "### Denormalize data in your model\n",
    "\n",
    "Let’s model a product table from your relational database into a NoSQL database.\n",
    "\n",
    "Product/Product Tags relational model\n",
    "\n",
    "![image](https://docs.microsoft.com/en-us/learn/wwl-data-ai/design-data-partitioning-strategy/media/2-product-model.png)\n",
    "\n",
    "Model the product entities\n",
    "\n",
    "![image](https://docs.microsoft.com/en-us/learn/wwl-data-ai/design-data-partitioning-strategy/media/2-product-tags-model-container.png)\n",
    "\n",
    "Select a partition key\n",
    "\n",
    "![image](https://docs.microsoft.com/en-us/learn/wwl-data-ai/design-data-partitioning-strategy/media/2-product-container-categoryid.png)\n",
    "\n",
    "![image](https://docs.microsoft.com/en-us/learn/wwl-data-ai/design-data-partitioning-strategy/media/2-product-category-and-tags-queries.png)\n",
    "\n",
    "Denormalize product entities\n",
    "\n",
    "![image](https://docs.microsoft.com/en-us/learn/wwl-data-ai/design-data-partitioning-strategy/media/2-product-denormalized.png)"
   ]
  },
  {
   "cell_type": "markdown",
   "metadata": {},
   "source": [
    "### Manage referential integrity by using change feed\n",
    "\n",
    "When denormalizing data like shown for the Product, ProductCategory and ProductTag tables, referential integrity must be maintained when changes occur on the categories or tags.\n",
    "\n",
    "![image](https://docs.microsoft.com/en-us/learn/wwl-data-ai/design-data-partitioning-strategy/media/4-change-feed.png)"
   ]
  },
  {
   "cell_type": "markdown",
   "metadata": {},
   "source": [
    "### Combine multiple entities in the same container\n",
    "\n",
    "Review your operations and then decide whether to embed or reference your related data.\n",
    "\n",
    "Model sales order entities\n",
    "\n",
    "![image](https://docs.microsoft.com/en-us/learn/wwl-data-ai/design-data-partitioning-strategy/media/6-sales-order-model.png)\n",
    "\n",
    "![image](https://docs.microsoft.com/en-us/learn/wwl-data-ai/design-data-partitioning-strategy/media/6-sales-order-partition-key.png)\n",
    "\n",
    "Identify optimization opportunities\n",
    "\n",
    "![image](https://docs.microsoft.com/en-us/learn/wwl-data-ai/design-data-partitioning-strategy/media/6-sales-orders-customers.png)\n",
    "\n",
    "![image](https://docs.microsoft.com/en-us/learn/wwl-data-ai/design-data-partitioning-strategy/media/6-sales-orders-customers-query.png)"
   ]
  },
  {
   "cell_type": "markdown",
   "metadata": {},
   "source": [
    "### Finalize the data model\n",
    "\n",
    "You've nearly finished remodeling your database. You've transformed nine relational database tables into four containers for your NoSQL database.\n",
    "\n",
    "![image](https://docs.microsoft.com/en-us/learn/wwl-data-ai/design-data-partitioning-strategy/media/9-design-near-final.png)\n",
    "\n",
    "One final optimization\n",
    "\n",
    "![image](https://docs.microsoft.com/en-us/learn/wwl-data-ai/design-data-partitioning-strategy/media/9-product-meta.png)\n",
    "\n",
    "Final design\n",
    "\n",
    "![image](https://docs.microsoft.com/en-us/learn/wwl-data-ai/design-data-partitioning-strategy/media/9-design-final.png)"
   ]
  }
 ],
 "metadata": {
  "kernelspec": {
   "display_name": ".NET (C#)",
   "language": "C#",
   "name": ".net-csharp"
  },
  "language_info": {
   "name": "C#"
  }
 },
 "nbformat": 4,
 "nbformat_minor": 2
}

{
 "cells": [
  {
   "cell_type": "markdown",
   "metadata": {
    "dotnet_interactive": {
     "language": "csharp"
    }
   },
   "source": [
    "# Module 12: Manage an Azure Cosmos DB SQL API solution using DevOps practices\n",
    "\n",
    "- [[Learning path]](https://docs.microsoft.com/en-us/learn/paths/manage-cosmos-db-sql-api-solution-using-devops-practices/?ns-enrollment-type=Collection&ns-enrollment-id=1k8wcz8zooj2nx)\n",
    "- [[Lab]](https://microsoftlearning.github.io/dp-420-cosmos-db-dev/instructions/30-adjust-throughput-cli-script.html): Adjust provisioned throughput using an Azure CLI script\n",
    "- [[Lab]](https://microsoftlearning.github.io/dp-420-cosmos-db-dev/instructions/31-create-container-arm-template.html): Create an Azure Cosmos DB SQL API container using Azure Resource Manager templates"
   ]
  },
  {
   "cell_type": "markdown",
   "metadata": {},
   "source": [
    "## Write management scripts for Azure Cosmos DB SQL API"
   ]
  },
  {
   "cell_type": "markdown",
   "metadata": {},
   "source": [
    "### Create resources\n",
    "\n",
    "In this module, we will use Azure CLI to manage Azure Cosmos DB SQL API accounts."
   ]
  },
  {
   "cell_type": "code",
   "execution_count": null,
   "metadata": {
    "dotnet_interactive": {
     "language": "pwsh"
    },
    "vscode": {
     "languageId": "dotnet-interactive.pwsh"
    }
   },
   "outputs": [],
   "source": [
    "az cosmosdb create --help"
   ]
  },
  {
   "cell_type": "markdown",
   "metadata": {},
   "source": [
    "Create the account"
   ]
  },
  {
   "cell_type": "code",
   "execution_count": null,
   "metadata": {
    "dotnet_interactive": {
     "language": "pwsh"
    },
    "vscode": {
     "languageId": "dotnet-interactive.pwsh"
    }
   },
   "outputs": [],
   "source": [
    "az cosmosdb create `\n",
    "  --name 'cosmos-dp-420-sql-cli' `\n",
    "  --resource-group 'rg-dp-420' `\n",
    "  --default-consistency-level 'eventual' `\n",
    "  --enable-free-tier 'true' `\n",
    "  --locations regionName='eastus'"
   ]
  },
  {
   "cell_type": "markdown",
   "metadata": {},
   "source": [
    "Create a database"
   ]
  },
  {
   "cell_type": "code",
   "execution_count": null,
   "metadata": {
    "dotnet_interactive": {
     "language": "pwsh"
    },
    "vscode": {
     "languageId": "dotnet-interactive.pwsh"
    }
   },
   "outputs": [],
   "source": [
    "az cosmosdb sql database create `\n",
    "  --account-name 'cosmos-dp-420-sql-cli' `\n",
    "  --resource-group 'rg-dp-420' `\n",
    "  --name 'mydatabase'"
   ]
  },
  {
   "cell_type": "markdown",
   "metadata": {},
   "source": [
    "Create a container"
   ]
  },
  {
   "cell_type": "code",
   "execution_count": null,
   "metadata": {
    "dotnet_interactive": {
     "language": "pwsh"
    },
    "vscode": {
     "languageId": "dotnet-interactive.pwsh"
    }
   },
   "outputs": [],
   "source": [
    "az cosmosdb sql container create `\n",
    "    --account-name 'cosmos-dp-420-sql-cli' `\n",
    "    --resource-group 'rg-dp-420' `\n",
    "    --database-name \"mydatabase\" `\n",
    "    --name mycontainer `\n",
    "    --partition-key-path \"/my/path\" `\n",
    "    --ttl 1000 `\n",
    "    --throughput \"400\"\n"
   ]
  },
  {
   "cell_type": "markdown",
   "metadata": {},
   "source": [
    "### Manage index policies\n",
    "\n",
    "When creating a container, you specify the indexing policy using CLI."
   ]
  },
  {
   "cell_type": "code",
   "execution_count": null,
   "metadata": {
    "dotnet_interactive": {
     "language": "pwsh"
    },
    "vscode": {
     "languageId": "dotnet-interactive.pwsh"
    }
   },
   "outputs": [],
   "source": [
    "az cosmosdb sql container create `\n",
    "    --account-name 'cosmos-dp-420-sql-cli' `\n",
    "    --resource-group 'rg-dp-420' `\n",
    "    --database-name \"mydatabase\" `\n",
    "    --name mycontainerwithindex `\n",
    "    --partition-key-path \"/my/path\" `\n",
    "    --ttl 1000 `\n",
    "    --throughput \"400\" `\n",
    "    --idx '{\\\"indexingMode\\\":\\\"consistent\\\",\\\"automatic\\\":true,\\\"includedPaths\\\":[{\\\"path\\\":\\\"/*\\\"}],\\\"excludedPaths\\\":[{\\\"path\\\":\\\"/headquarters/*\\\"},{\\\"path\\\":\\\"/\\\\\\\"_etag\\\\\\\"/?\\\"}]}’\n"
   ]
  },
  {
   "cell_type": "markdown",
   "metadata": {},
   "source": [
    "### Configure database or container-provisioned throughput\n",
    "\n",
    "You can manage the provisioned throughput for both containers and databases using the CLI."
   ]
  },
  {
   "cell_type": "code",
   "execution_count": null,
   "metadata": {
    "dotnet_interactive": {
     "language": "pwsh"
    },
    "vscode": {
     "languageId": "dotnet-interactive.pwsh"
    }
   },
   "outputs": [],
   "source": [
    "az cosmosdb sql database create `\n",
    "  --account-name 'cosmos-dp-420-sql-cli' `\n",
    "  --resource-group 'rg-dp-420' `\n",
    "  --name 'mydatabasewiththroughput' `\n",
    "  --throughput 400"
   ]
  },
  {
   "cell_type": "code",
   "execution_count": null,
   "metadata": {
    "dotnet_interactive": {
     "language": "pwsh"
    },
    "vscode": {
     "languageId": "dotnet-interactive.pwsh"
    }
   },
   "outputs": [],
   "source": [
    "az cosmosdb sql database throughput update `\n",
    "  --account-name 'cosmos-dp-420-sql-cli' `\n",
    "  --resource-group 'rg-dp-420' `\n",
    "  --name 'mydatabasewiththroughput' `\n",
    "  --throughput 600"
   ]
  },
  {
   "cell_type": "code",
   "execution_count": null,
   "metadata": {
    "dotnet_interactive": {
     "language": "pwsh"
    },
    "vscode": {
     "languageId": "dotnet-interactive.pwsh"
    }
   },
   "outputs": [],
   "source": [
    "az cosmosdb sql container throughput update `\n",
    "    --account-name 'cosmos-dp-420-sql-cli' `\n",
    "    --resource-group 'rg-dp-420' `\n",
    "    --database-name \"mydatabase\" `\n",
    "    --name mycontainerwithindex `\n",
    "    --throughput 1000"
   ]
  },
  {
   "cell_type": "markdown",
   "metadata": {},
   "source": [
    "### Migrate between standard and autoscale throughput"
   ]
  },
  {
   "cell_type": "code",
   "execution_count": null,
   "metadata": {
    "dotnet_interactive": {
     "language": "pwsh"
    },
    "vscode": {
     "languageId": "dotnet-interactive.pwsh"
    }
   },
   "outputs": [],
   "source": [
    "az cosmosdb sql container throughput migrate `\n",
    "    --account-name 'cosmos-dp-420-sql-cli' `\n",
    "    --resource-group 'rg-dp-420' `\n",
    "    --database-name \"mydatabase\" `\n",
    "    --name mycontainerwithindex `\n",
    "    --throughput-type 'autoscale'"
   ]
  },
  {
   "cell_type": "code",
   "execution_count": null,
   "metadata": {
    "dotnet_interactive": {
     "language": "pwsh"
    },
    "vscode": {
     "languageId": "dotnet-interactive.pwsh"
    }
   },
   "outputs": [],
   "source": [
    "az cosmosdb sql container throughput update `\n",
    "    --account-name 'cosmos-dp-420-sql-cli' `\n",
    "    --resource-group 'rg-dp-420' `\n",
    "    --database-name \"mydatabase\" `\n",
    "    --name mycontainerwithindex `\n",
    "    --max-throughput 2000"
   ]
  },
  {
   "cell_type": "code",
   "execution_count": null,
   "metadata": {
    "dotnet_interactive": {
     "language": "pwsh"
    },
    "vscode": {
     "languageId": "dotnet-interactive.pwsh"
    }
   },
   "outputs": [],
   "source": [
    "az cosmosdb sql container throughput migrate `\n",
    "    --account-name 'cosmos-dp-420-sql-cli' `\n",
    "    --resource-group 'rg-dp-420' `\n",
    "    --database-name \"mydatabase\" `\n",
    "    --name mycontainerwithindex `\n",
    "    --throughput-type 'manual'"
   ]
  },
  {
   "cell_type": "markdown",
   "metadata": {},
   "source": [
    "### Configure failovers and failover priorities\n",
    "\n",
    "Add account regions"
   ]
  },
  {
   "cell_type": "code",
   "execution_count": null,
   "metadata": {
    "dotnet_interactive": {
     "language": "pwsh"
    },
    "vscode": {
     "languageId": "dotnet-interactive.pwsh"
    }
   },
   "outputs": [],
   "source": [
    "az cosmosdb update `\n",
    "    --name 'cosmos-dp-420-sql-cli' `\n",
    "    --resource-group 'rg-dp-420' `\n",
    "    --locations regionName='eastus' failoverPriority=0 isZoneRedundant=False `\n",
    "    --locations regionName='westus2' failoverPriority=1 isZoneRedundant=False `\n",
    "    --locations regionName='centralus' failoverPriority=2 isZoneRedundant=False"
   ]
  },
  {
   "cell_type": "markdown",
   "metadata": {},
   "source": [
    "Remove account regions"
   ]
  },
  {
   "cell_type": "code",
   "execution_count": null,
   "metadata": {
    "dotnet_interactive": {
     "language": "pwsh"
    },
    "vscode": {
     "languageId": "dotnet-interactive.pwsh"
    }
   },
   "outputs": [],
   "source": [
    "az cosmosdb update `\n",
    "  --name 'cosmos-dp-420-sql-cli' `\n",
    "  --resource-group 'rg-dp-420' `\n",
    "  --locations regionName='eastus' failoverPriority=0 isZoneRedundant=False `\n",
    "  --locations regionName='westus2' failoverPriority=1 isZoneRedundant=False"
   ]
  },
  {
   "cell_type": "markdown",
   "metadata": {},
   "source": [
    "Enable automatic failover"
   ]
  },
  {
   "cell_type": "code",
   "execution_count": null,
   "metadata": {
    "dotnet_interactive": {
     "language": "pwsh"
    },
    "vscode": {
     "languageId": "dotnet-interactive.pwsh"
    }
   },
   "outputs": [],
   "source": [
    "az cosmosdb update `\n",
    "  --name 'cosmos-dp-420-sql-cli' `\n",
    "  --resource-group 'rg-dp-420' `\n",
    "  --enable-automatic-failover 'true'"
   ]
  },
  {
   "cell_type": "markdown",
   "metadata": {},
   "source": [
    "Change failover priorities"
   ]
  },
  {
   "cell_type": "code",
   "execution_count": null,
   "metadata": {
    "dotnet_interactive": {
     "language": "pwsh"
    },
    "vscode": {
     "languageId": "dotnet-interactive.pwsh"
    }
   },
   "outputs": [],
   "source": [
    "az cosmosdb failover-priority-change `\n",
    "  --name 'cosmos-dp-420-sql-cli' `\n",
    "  --resource-group 'rg-dp-420' `\n",
    "  --failover-policies 'eastus=0' 'centralus=1' 'westus2=2'"
   ]
  },
  {
   "cell_type": "markdown",
   "metadata": {},
   "source": [
    "Initiate failovers"
   ]
  },
  {
   "cell_type": "code",
   "execution_count": null,
   "metadata": {
    "dotnet_interactive": {
     "language": "pwsh"
    },
    "vscode": {
     "languageId": "dotnet-interactive.pwsh"
    }
   },
   "outputs": [],
   "source": [
    "az cosmosdb failover-priority-change `\n",
    "  --name 'cosmos-dp-420-sql-cli' `\n",
    "  --resource-group 'rg-dp-420' `\n",
    "  --failover-policies 'westus2=0' 'eastus=1'"
   ]
  },
  {
   "cell_type": "markdown",
   "metadata": {},
   "source": [
    "Enable multi-region write"
   ]
  },
  {
   "cell_type": "code",
   "execution_count": null,
   "metadata": {
    "dotnet_interactive": {
     "language": "pwsh"
    },
    "vscode": {
     "languageId": "dotnet-interactive.pwsh"
    }
   },
   "outputs": [],
   "source": [
    "az cosmosdb update `\n",
    "  --name 'cosmos-dp-420-sql-cli' `\n",
    "  --resource-group 'rg-dp-420' `\n",
    "  --enable-multiple-write-locations 'true'"
   ]
  },
  {
   "cell_type": "markdown",
   "metadata": {},
   "source": [
    "## Create resource template for Azure Cosmos DB SQL API"
   ]
  },
  {
   "cell_type": "markdown",
   "metadata": {},
   "source": [
    "### Understand Azure Resource Manager resources\n",
    "\n",
    "![image](https://docs.microsoft.com/en-us/learn/wwl-data-ai/create-resource-template-for-azure-cosmos-db-sql-api/media/2-hierarchy.png)"
   ]
  },
  {
   "cell_type": "markdown",
   "metadata": {},
   "source": [
    "### Author Azure Resource Manager templates\n",
    "\n",
    "There are three primary resources to define in a specific relationship order when authoring a template for an Azure Cosmos DB SQL API account.\n",
    "\n",
    "```json\n",
    "{ \n",
    "  \"$schema\": \"https://schema.management.azure.com/schemas/2019-04-01/deploymentTemplate.json#\", \n",
    "  \"contentVersion\": \"1.0.0.0\", \n",
    "  \"resources\": [ \n",
    "      { \n",
    "         \"type\": \"Microsoft.DocumentDB/databaseAccounts\", \n",
    "         \"apiVersion\": \"2021-05-15\", \n",
    "         \"name\": \"[concat('csmsarm', uniqueString(resourceGroup().id))]\",\n",
    "         \"location\": \"[resourceGroup().location]\", \n",
    "         \"properties\": { \n",
    "               \"databaseAccountOfferType\": \"Standard\", \n",
    "               \"locations\": [ { \"locationName\": \"westus\" } ] \n",
    "          } \n",
    "       }, \n",
    "       { \n",
    "           \"type\": \"Microsoft.DocumentDB/databaseAccounts/sqlDatabases\", \n",
    "           \"apiVersion\": \"2021-05-15\", \n",
    "           \"name\": \"[concat('csmsarm', uniqueString(resourceGroup().id), '/cosmicworks')]\", \n",
    "           \"dependsOn\": [ \"[resourceId('Microsoft.DocumentDB/databaseAccounts', concat('csmsarm', uniqueString(resourceGroup().id)))]\" ], \n",
    "           \"properties\": { \"resource\": { \"id\": \"cosmicworks\" } } \n",
    "       }, \n",
    "       { \n",
    "           \"type\": \"Microsoft.DocumentDB/databaseAccounts/sqlDatabases/containers\", \n",
    "           \"apiVersion\": \"2021-05-15\", \n",
    "           \"name\": \"[concat('csmsarm', uniqueString(resourceGroup().id), '/cosmicworks/products')]\", \n",
    "           \"dependsOn\": [ \"[resourceId('Microsoft.DocumentDB/databaseAccounts', concat('csmsarm', uniqueString(resourceGroup().id)))]\",\n",
    "                          \"[resourceId('Microsoft.DocumentDB/databaseAccounts/sqlDatabases', concat('csmsarm', uniqueString(resourceGroup().id)), 'cosmicworks')]\" \n",
    "                        ], \n",
    "           \"properties\": { \"options\": { \"throughput\": 400 }, \"resource\": { \"id\": \"products\", \"partitionKey\": { \"paths\": [ \"/categoryId\" ] } } } \n",
    "       } \n",
    "   ] \n",
    "}\n",
    "\n",
    "```"
   ]
  },
  {
   "cell_type": "markdown",
   "metadata": {},
   "source": [
    "### Configure database or container-resources in Bicep\n",
    "\n",
    "Each template resource uses the same resource type and version between both Azure Resource Manager and Bicep templates.\n",
    "\n",
    "```bicep\n",
    "resource Account 'Microsoft.DocumentDB/databaseAccounts@2021-05-15’ = \n",
    "{ \n",
    "  name: 'csmsbicep${uniqueString(resourceGroup().id)}’ \n",
    "  location: resourceGroup().location \n",
    "  properties: { \n",
    "    databaseAccountOfferType: 'Standard’ \n",
    "    locations: [ { locationName: 'westus' } ] \n",
    "  } \n",
    "}\n",
    "\n",
    "resource Database 'Microsoft.DocumentDB/databaseAccounts/sqlDatabases@2021-05-15’ = \n",
    "{ \n",
    "  parent: Account name: 'cosmicworks’ \n",
    "  properties: { \n",
    "    options: { } \n",
    "    resource: { id: 'cosmicworks’ } \n",
    "  } \n",
    "}\n",
    "\n",
    "resource Container 'Microsoft.DocumentDB/databaseAccounts/sqlDatabases/containers@2021-05-15’ = \n",
    "{ \n",
    "  parent: Database name: 'customers’ \n",
    "  properties: { \n",
    "    resource: { \n",
    "      id: 'customers’ \n",
    "      partitionKey: { paths: [ '/regionId’ ] } \n",
    "    } \n",
    "  } \n",
    "}\n",
    "```"
   ]
  },
  {
   "cell_type": "markdown",
   "metadata": {},
   "source": [
    "### Deploy templates to a resource group\n",
    "\n",
    "Now that the templates have been defined, use the Azure CLI to deploy either JSON or Bicep Azure Resource Manager templates.\n"
   ]
  },
  {
   "cell_type": "code",
   "execution_count": null,
   "metadata": {
    "dotnet_interactive": {
     "language": "pwsh"
    },
    "vscode": {
     "languageId": "dotnet-interactive.pwsh"
    }
   },
   "outputs": [],
   "source": [
    "az deployment group create ` \n",
    "  --resource-group rg-dp-420 ` \n",
    "  --name 'my-cosmos-db-deployment' `\n",
    "  --template-file '.\\template.json’ `\n",
    "  --parameters '@.\\template.json'"
   ]
  },
  {
   "cell_type": "code",
   "execution_count": null,
   "metadata": {
    "dotnet_interactive": {
     "language": "pwsh"
    },
    "vscode": {
     "languageId": "dotnet-interactive.pwsh"
    }
   },
   "outputs": [],
   "source": [
    "az deployment group create ` \n",
    "  --resource-group rg-dp-420 ` \n",
    "  --name 'my-cosmos-db-deployment' `\n",
    "  --template-file '.\\template.bicep "
   ]
  },
  {
   "cell_type": "markdown",
   "metadata": {},
   "source": [
    "### Manage index policies – JSON templates\n",
    "\n",
    "Defining and deploying an indexing policy in JSON templates.\n",
    "\n",
    "```json\n",
    "{\n",
    "    \"type\": \"Microsoft.DocumentDB/databaseAccounts/sqlDatabases/containers\",\n",
    "    \"apiVersion\": \"2021-05-15\",\n",
    "    \"name\": \"[concat('csmsarm', uniqueString(resourceGroup().id), '/cosmicworks/products')]\",\n",
    "    \"dependsOn\": [\n",
    "        \"[resourceId('Microsoft.DocumentDB/databaseAccounts', concat('csmsarm', uniqueString(resourceGroup().id)))]\",\n",
    "        \"[resourceId('Microsoft.DocumentDB/databaseAccounts/sqlDatabases', concat('csmsarm', uniqueString(resourceGroup().id)), 'cosmicworks')]\"\n",
    "    ],\n",
    "    \"properties\": {\n",
    "        \"options\": {\n",
    "            \"throughput\": 400\n",
    "        },\n",
    "        \"resource\": {\n",
    "            \"id\": \"products\",\n",
    "            \"partitionKey\": {\n",
    "                \"paths\": [\n",
    "                    \"/categoryId\"\n",
    "                ]\n",
    "            },\n",
    "            \"indexingPolicy\": {\n",
    "                \"indexingMode\": \"consistent\",\n",
    "                \"automatic\": true,\n",
    "                \"includedPaths\": [\n",
    "                    {\n",
    "                        \"path\": \"/price/*\"\n",
    "                    }\n",
    "                ],\n",
    "                \"excludedPaths\": [\n",
    "                    {\n",
    "                        \"path\": \"/*\"\n",
    "                    }\n",
    "                ]\n",
    "            }\n",
    "        }\n",
    "    }\n",
    "}\n",
    "```"
   ]
  },
  {
   "cell_type": "markdown",
   "metadata": {},
   "source": [
    "### Manage index policies – Bicep templates\n",
    "\n",
    "```bicep\n",
    "resource Container 'Microsoft.DocumentDB/databaseAccounts/sqlDatabases/containers@2021-05-15' = { \n",
    "    parent: Database \n",
    "    name: 'customers’ \n",
    "    properties: { \n",
    "        resource: { \n",
    "            id: 'customers’ \n",
    "            partitionKey: { paths: [ '/regionId' ] } \n",
    "            indexingPolicy: { \n",
    "                indexingMode: 'consistent’ \n",
    "                automatic: true includedPaths: [ { path: '/address/*' } ] \n",
    "                excludedPaths: [ { path: '/*' } ] \n",
    "            } \n",
    "        } \n",
    "    } \n",
    "}\n",
    "```"
   ]
  },
  {
   "cell_type": "markdown",
   "metadata": {},
   "source": [
    "## Demo teardown"
   ]
  },
  {
   "cell_type": "code",
   "execution_count": null,
   "metadata": {
    "dotnet_interactive": {
     "language": "pwsh"
    },
    "vscode": {
     "languageId": "dotnet-interactive.pwsh"
    }
   },
   "outputs": [],
   "source": [
    "az cosmosdb delete --name cosmos-dp-420-sql-cli --resource-group rg-dp-420 --yes"
   ]
  }
 ],
 "metadata": {
  "kernelspec": {
   "display_name": ".NET (C#)",
   "language": "C#",
   "name": ".net-csharp"
  },
  "language_info": {
   "name": "C#"
  }
 },
 "nbformat": 4,
 "nbformat_minor": 2
}

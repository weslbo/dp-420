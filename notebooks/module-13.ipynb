{
 "cells": [
  {
   "cell_type": "markdown",
   "metadata": {
    "dotnet_interactive": {
     "language": "csharp"
    }
   },
   "source": [
    "# Module 13: Create server-side programming constructs in Azure Cosmos DB SQL API\n",
    "\n",
    "- [[Learning path]](https://docs.microsoft.com/en-us/learn/paths/create-server-side-programming-azure-cosmos-db-sql-api/?ns-enrollment-type=Collection&ns-enrollment-id=1k8wcz8zooj2nx)\n",
    "- [[Lab]](https://microsoftlearning.github.io/dp-420-cosmos-db-dev/instructions/32-create-sproc-portal.html): Create a stored procedure with the Azure portal\n",
    "- [[Lab]](https://microsoftlearning.github.io/dp-420-cosmos-db-dev/instructions/33-create-use-udf-sdk.html): Implement and then use a UDF using the SDK\n",
    "\n",
    "![image](https://docs.microsoft.com/en-us/learn/achievements/azure-cosmos-db-multi-item-transaction.svg)"
   ]
  }
 ],
 "metadata": {
  "kernelspec": {
   "display_name": ".NET (C#)",
   "language": "C#",
   "name": ".net-csharp"
  },
  "language_info": {
   "name": "C#"
  }
 },
 "nbformat": 4,
 "nbformat_minor": 2
}

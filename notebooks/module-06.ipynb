{
 "cells": [
  {
   "cell_type": "markdown",
   "metadata": {
    "dotnet_interactive": {
     "language": "csharp"
    }
   },
   "source": [
    "# Module 06: Define and implement an indexing strategy for Azure Cosmos DB SQL API\n",
    "\n",
    "- [[Learning path]](https://docs.microsoft.com/en-us/learn/paths/define-implement-indexing-strategy-cosmos-db-sql-api/?ns-enrollment-type=Collection&ns-enrollment-id=1k8wcz8zooj2nx)\n",
    "- [[Lab]](https://microsoftlearning.github.io/dp-420-cosmos-db-dev/instructions/11-default-indexing-policy.html): Review the default index policy for an Azure Cosmos DB SQL API container with the portal\n",
    "- [[Lab]](https://microsoftlearning.github.io/dp-420-cosmos-db-dev/instructions/12-sdk-indexing-policy-custom.html): Configure an Azure Cosmos DB SQL API container’s index policy with the portal"
   ]
  },
  {
   "cell_type": "markdown",
   "metadata": {},
   "source": [
    "## Demo setup"
   ]
  },
  {
   "cell_type": "code",
   "execution_count": null,
   "metadata": {
    "dotnet_interactive": {
     "language": "pwsh"
    }
   },
   "outputs": [],
   "source": [
    "Connect-AzAccount\n",
    "Set-AzContext -Subscription \"b895a719-7034-411a-9944-ff196d1f450f\"\n",
    "$connectionString = (Get-AzCosmosDBAccountKey -ResourceGroupName rg-dp-420 -Name cosmos-dp-420-sql-provisioned -Type \"ConnectionStrings\")[\"Primary SQL Connection String\"]\n",
    "$primaryMasterKey = (Get-AzCosmosDBAccountKey -ResourceGroupName rg-dp-420 -Name cosmos-dp-420-sql-provisioned -Type \"Keys\")[\"PrimaryMasterKey\"]\n",
    "$documentEndpoint = (Get-AzCosmosDBAccount -ResourceGroupName rg-dp-420 -Name cosmos-dp-420-sql-provisioned).DocumentEndpoint"
   ]
  },
  {
   "cell_type": "code",
   "execution_count": null,
   "metadata": {
    "dotnet_interactive": {
     "language": "pwsh"
    }
   },
   "outputs": [],
   "source": [
    "cosmicworks --endpoint $documentEndpoint --key $primaryMasterKey --datasets product"
   ]
  },
  {
   "cell_type": "code",
   "execution_count": null,
   "metadata": {
    "dotnet_interactive": {
     "language": "csharp"
    }
   },
   "outputs": [],
   "source": [
    "#r \"nuget: Newtonsoft.Json, 13.0.1\"\n",
    "#r \"nuget: Microsoft.Azure.Cosmos , 3.22.1\"\n",
    "\n",
    "#!share --from pwsh connectionString\n",
    "#!share --from pwsh primaryMasterKey\n",
    "#!share --from pwsh documentEndpoint"
   ]
  },
  {
   "cell_type": "code",
   "execution_count": null,
   "metadata": {
    "dotnet_interactive": {
     "language": "csharp"
    }
   },
   "outputs": [],
   "source": [
    "using Microsoft.Azure.Cosmos;\n",
    "using System;\n",
    "using System.Collections.Generic;\n",
    "\n",
    "CosmosClient client = new (connectionString);\n",
    "Database database = client.GetDatabase(\"cosmicworks\");\n",
    "Container container = database.GetContainer(\"products\");\n",
    "\n",
    "public class Product\n",
    "{\n",
    "\tpublic string id { get; set; }\n",
    "\tpublic string categoryId { get; set; }\n",
    "\tpublic string categoryName { get; set; }\n",
    "\tpublic string sku { get; set; }\n",
    "\tpublic string name { get; set; }\n",
    "\tpublic string description { get; set; }\n",
    "\tpublic double price { get; set; }\n",
    "}"
   ]
  },
  {
   "cell_type": "markdown",
   "metadata": {},
   "source": [
    "## Define indexes in Azure Cosmos DB SQL API"
   ]
  },
  {
   "cell_type": "markdown",
   "metadata": {},
   "source": [
    "### Understand indexes\n",
    "\n",
    "- Every Azure Cosmos DB SQL API container has a built-in index policy. \n",
    "- By default, the index includes all properties of every item in the container.\n",
    "- By default, all create, update, or delete operations update the index.\n",
    "\n",
    "Example of the default policy in action:\n",
    "\n",
    "Item 1 in the product container\n",
    "\n",
    "```json\n",
    "{ \n",
    "   \"name\": \"Touring-1000 Blue\", \n",
    "   \"tags\": [ \n",
    "              { \"name\": \"bike\" }, \n",
    "              { \"name\": \"touring\" }, \n",
    "              { \"name\": \"blue\" } \n",
    "           ] \n",
    "}\n",
    "```\n",
    "\n",
    "Item 2 in the product container\n",
    "\n",
    "```json\n",
    "{ \n",
    "    \"name\": \"Mountain-400-W Silver\", \n",
    "    \"sku\": \"BK-M38S-38\", \n",
    "    \"tags\": [ \n",
    "               { \"name\": \"bike\" }, \n",
    "               { \"name\": \"silver\" } \n",
    "            ] \n",
    "}\n",
    "```\n",
    "\n",
    "How is the index used when we run this query?\n",
    "\n",
    "```sql\n",
    "SELECT p.id \n",
    "FROM products p \n",
    "WHERE p.name = 'Touring-1000 Blue'\n",
    "```\n",
    "\n",
    "Index created for these product container items\n",
    "\n",
    "![image](https://docs.microsoft.com/en-us/learn/wwl-data-ai/define-indexes-azure-cosmos-db-sql-api/media/2-search-tree-02.png)"
   ]
  },
  {
   "cell_type": "markdown",
   "metadata": {},
   "source": [
    "### Understand indexing policies\n",
    "\n",
    "The default indexing policy consists of the following settings:\n",
    "\n",
    "- The inverted index is updated for all create, update, or delete operations on an item\n",
    "- All properties for every item is automatically indexed\n",
    "- Range indexes are used for all strings or numbers\n",
    "\n",
    "Indexing policies are defined and managed in JSON. This is the default:\n",
    "\n",
    "```json\n",
    "{\n",
    "  \"indexingMode\": \"consistent\",\n",
    "  \"automatic\": true,\n",
    "  \"includedPaths\": [\n",
    "    {\n",
    "      \"path\": \"/*\"\n",
    "    }\n",
    "  ],\n",
    "  \"excludedPaths\": [\n",
    "    {\n",
    "      \"path\": \"/\\\"_etag\\\"/?\"\n",
    "    }\n",
    "  ]\n",
    "}\n",
    "```"
   ]
  },
  {
   "cell_type": "markdown",
   "metadata": {},
   "source": [
    "### Indexing modes and Include/Exclude paths\n",
    "\n",
    "Index policies can be updated to better meet your container’s usage patterns.\n",
    "\n",
    "Configure indexing mode:\n",
    "\n",
    "- **Consistent**: Updates index synchronously with all item modifications. Default mode.\n",
    "- **None**: Disables indexing on a container. Useful for bulk operations.\n",
    "\n",
    "Including and excluding paths:\n",
    "\n",
    "Three primary operators are used when defining a property path:\n",
    "- The ? operator indicates that a path terminates with a string or number (scalar) value\n",
    "- The [] operator indicates that this path includes an array and avoids having to specify an array index value\n",
    "- The * operator is a wildcard and matches any element beyond the current path\n",
    "\n",
    "Consider this JSON object that represents a product item in our Azure Cosmos DB SQL API container:\n",
    "\n",
    "```json\n",
    "{\n",
    "  \"id\": \"8B363B8B-378E-402A-9E68-A935302000B8\",\n",
    "  \"name\": \"HL Touring Frame - Yellow, 46\",\n",
    "  \"category\": {\n",
    "    \"id\": \"F3FBB167-11D8-41E4-84B4-5AAA92B1E737\",\n",
    "    \"name\": \"Components, Touring Frames\"\n",
    "  },\n",
    "  \"metadata\": {\n",
    "    \"sku\": \"FR-T98Y-46\"\n",
    "  },\n",
    "  \"price\": 1003.91,\n",
    "  \"tags\": [\n",
    "    {\n",
    "      \"name\": \"accessory\"\n",
    "    },\n",
    "    {\n",
    "      \"name\": \"yellow\"\n",
    "    },\n",
    "    {\n",
    "      \"name\": \"frame\"\n",
    "    }\n",
    "  ]\n",
    "}\n",
    "```\n",
    "Path examples:\n",
    "\n",
    "| **Path expression** | **Description** |\n",
    "| ---: | :--- |\n",
    "| **/\\*** | All properties |\n",
    "| **/name/?** | The scalar value of the **name** property |\n",
    "| **/category/\\*** | All properties under the **category** property |\n",
    "| **/metadata/sku/?** | The scalar value of the **metadata.sku** property |\n",
    "| **/tags/[]/name/?** | Within the **tags** array, the scalar values of all possible **name** properties |"
   ]
  },
  {
   "cell_type": "markdown",
   "metadata": {},
   "source": [
    "### Review indexing policy strategies\n",
    "\n",
    "An indexing policy:\n",
    "\n",
    "- Is two sets of include/exclude expressions that evaluates which actual properties are indexed.\n",
    "- Must include the root path and all possible values (/*) as either an included or excluded path.\n",
    "\n",
    "\n",
    "Example indexing policy that includes all properties except category.id:\n",
    "\n",
    "```json\n",
    "{ \n",
    "    \"indexingMode\": \"consistent\", \n",
    "    \"automatic\": true, \n",
    "    \"includedPaths\": [ \n",
    "                       { \n",
    "                           \"path\": \"/*\" \n",
    "                       } \n",
    "                     ], \n",
    "    \"excludedPaths\": [ \n",
    "                       { \n",
    "                           \"path\": \"/category/id/?“\n",
    "                       } \n",
    "                     ] \n",
    "}\n",
    "```\n",
    "Example indexing policy excluding all properties and selectively indexes only the name and tags[].name properties:\n",
    "\n",
    "```json\n",
    "{ \n",
    "    \"indexingMode\": \"consistent\", \n",
    "    \"automatic\": true, \n",
    "    \"includedPaths\": [ \n",
    "                       { \n",
    "                           \"path\": \"/name/?\" \n",
    "                       }, \n",
    "                       { \n",
    "                           \"path\": \"/tags/[]/name/?\" \n",
    "                       } \n",
    "                     ], \n",
    "    \"excludedPaths\": [ \n",
    "                       { \n",
    "                           \"path\": \"/*\" \n",
    "                       } \n",
    "                     ] \n",
    "}\n",
    "```"
   ]
  },
  {
   "cell_type": "code",
   "execution_count": null,
   "metadata": {
    "dotnet_interactive": {
     "language": "csharp"
    }
   },
   "outputs": [],
   "source": [
    "using Newtonsoft.Json;\n",
    "\n",
    "var query = new QueryDefinition(\"SELECT TOP 10 * FROM products\");\n",
    "var requestOptions = new QueryRequestOptions() { PopulateIndexMetrics = false };\n",
    "var iterator = container.GetItemQueryIterator<dynamic>(query, requestOptions: requestOptions);\n",
    "var resultSet = await iterator.ReadNextAsync();\n",
    "var diagnosticsJsonString = resultSet.Diagnostics.ToString();\n",
    "dynamic jsonResponse = JsonConvert.DeserializeObject(diagnosticsJsonString);\n",
    "\n",
    "\n",
    "Console.WriteLine(jsonResponse.children[1].children[1].children[0].children[0].data[\"Query Metrics\"]);\n",
    "Console.WriteLine($\"RequestCharge: {resultSet.RequestCharge}\");\n",
    "Console.WriteLine($\"IndexMetrics: {resultSet.IndexMetrics}\");\n",
    "\n",
    "//Console.WriteLine($\"Diagnostics: {resultSet.Diagnostics}\");"
   ]
  },
  {
   "cell_type": "markdown",
   "metadata": {},
   "source": [
    "## Customize indexes in Azure Cosmos DB SQL API"
   ]
  },
  {
   "cell_type": "markdown",
   "metadata": {},
   "source": [
    "### Customize the indexing policy\n",
    "\n",
    "The .NET SDK ships with a Microsoft.Azure.Cosmos.IndexingPolicy class that is a representation of a JSON policy object.\n",
    "\n",
    "Assume we would like to use the following index policy when we create a container\n",
    "\n",
    "```json\n",
    "{ \n",
    "    \"indexingMode\": \"consistent\", \n",
    "    \"automatic\": true, \n",
    "    \"includedPaths\": [ \n",
    "                       { \n",
    "                           \"path\": \"/name/?\" \n",
    "                       }, \n",
    "                       { \n",
    "                           \"path\": \"/categoryName/?\" \n",
    "                       } \n",
    "                     ], \n",
    "    \"excludedPaths\": [ \n",
    "                       { \n",
    "                            \"path\": \"/*\" \n",
    "                       } \n",
    "                     ]\n",
    "}\n",
    "```\n",
    "\n",
    "Let’s use the SDK to define the policy, and create the container with that index policy"
   ]
  },
  {
   "cell_type": "code",
   "execution_count": null,
   "metadata": {
    "dotnet_interactive": {
     "language": "csharp"
    }
   },
   "outputs": [],
   "source": [
    "// first cleanup the existing container\n",
    "//await database.DeleteAsync();\n",
    "Database database = await client.CreateDatabaseIfNotExistsAsync(\"cosmicworks\");\n",
    "\n",
    "IndexingPolicy policy = new () \n",
    "{ \n",
    "    IndexingMode = IndexingMode.Consistent, \n",
    "    Automatic = true \n",
    "};\n",
    "\n",
    "policy.IncludedPaths.Add( new IncludedPath{ Path = \"/name/?\" } ); \n",
    "policy.IncludedPaths.Add( new IncludedPath{ Path = \"/categoryName/?\" } );\n",
    "\n",
    "policy.ExcludedPaths.Add( new ExcludedPath{ Path = \"/*\" } );\n",
    "\n",
    "ContainerProperties options = new () { \n",
    "    Id = \"products\", \n",
    "    PartitionKeyPath = \"/categoryId\", \n",
    "    IndexingPolicy = policy }; \n",
    "\n",
    "Container container = await database.CreateContainerIfNotExistsAsync(options, throughput: 400);\n",
    "\n",
    "// check the azure portal for index"
   ]
  },
  {
   "cell_type": "markdown",
   "metadata": {},
   "source": [
    "### Evaluate composite indexes\n",
    "\n",
    "For queries that sort or filter on multiple properties, create one or more composite indexes.\n",
    "\n",
    "Let’s assume we will run the following queries:\n",
    "\n",
    "```sql\n",
    "-- This query has a filter on two properties.\n",
    "-- Note that the direction (ASC/DESC) and order of the\n",
    "-- composite index properties is not used by the filter.\n",
    "SELECT * \n",
    "FROM products p \n",
    "WHERE p.price > 50 AND p.category = \"Saddles\" \n",
    "```\n",
    "\n",
    "```sql\n",
    "-- This query will sort the results on two properties.\n",
    "-- Note that this composite index must match the order\n",
    "-- of the properties.\n",
    "SELECT * \n",
    "FROM products p \n",
    "ORDER BY p.price ASC, p.name ASC\n",
    "```\n",
    "\n",
    "We can define a composite index for each query type:\n",
    "\n",
    "```json\n",
    "{ \n",
    "    \"indexingMode\": \"consistent\", \n",
    "    \"automatic\": true, \n",
    "    \"includedPaths\": [ \n",
    "                       { \n",
    "                           \"path\": \"/*\" \n",
    "                       } \n",
    "                     ], \n",
    "    \"excludedPaths\": [ \n",
    "                       { \n",
    "                           \"path\": \"/_etag/?\" \n",
    "                       } \n",
    "                     ], \n",
    "    \"compositeIndexes\": \n",
    "                     [ \n",
    "                       [ \n",
    "                         { \n",
    "                            \"path\": \"/category\", \n",
    "                            \"order\": \"ascending\" \n",
    "                         }, \n",
    "                         { \n",
    "                            \"path\": \"/price\", \n",
    "                            \"order\": \"descending\" \n",
    "                         } \n",
    "                       ], \n",
    "                       [ \n",
    "                         { \n",
    "                            \"path\": \"/price\", \n",
    "                            \"order\": \"ascending\" \n",
    "                         }, \n",
    "                         { \n",
    "                            \"path\": \"/name\", \n",
    "                            \"order\": \"ascending\" \n",
    "                         } \n",
    "                       ]\n",
    "                    ] \n",
    "}\n",
    "```"
   ]
  },
  {
   "cell_type": "markdown",
   "metadata": {},
   "source": [
    "## Demo teardown"
   ]
  },
  {
   "cell_type": "code",
   "execution_count": null,
   "metadata": {
    "dotnet_interactive": {
     "language": "csharp"
    }
   },
   "outputs": [],
   "source": [
    "await database.DeleteAsync();"
   ]
  }
 ],
 "metadata": {
  "kernelspec": {
   "display_name": ".NET (C#)",
   "language": "C#",
   "name": ".net-csharp"
  },
  "language_info": {
   "name": "C#"
  }
 },
 "nbformat": 4,
 "nbformat_minor": 2
}

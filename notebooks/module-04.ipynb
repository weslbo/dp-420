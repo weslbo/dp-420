{
 "cells": [
  {
   "cell_type": "markdown",
   "metadata": {
    "dotnet_interactive": {
     "language": "csharp"
    }
   },
   "source": [
    "# Module 04: Access and manage data with the Azure Cosmos DB SQL API SDKs\n",
    "\n",
    "- [[Learning path]](https://docs.microsoft.com/en-us/learn/paths/access-manage-data-azure-cosmos-db-sql-api-sdks/?ns-enrollment-type=Collection&ns-enrollment-id=1k8wcz8zooj2nx)\n",
    "- [[Lab]](https://microsoftlearning.github.io/dp-420-cosmos-db-dev/instructions/06-sdk-crud.html): Create and update documents with the Azure Cosmos DB SQL API SDK\n",
    "- [[Lab]](https://microsoftlearning.github.io/dp-420-cosmos-db-dev/instructions/07-sdk-batch.html): Batch multiple point operations together with the Azure Cosmos DB SQL API SDK\n",
    "- [[Lab]](https://microsoftlearning.github.io/dp-420-cosmos-db-dev/instructions/08-sdk-bulk.html): Move multiple documents in bulk with the Azure Cosmos DB SQL API SDK"
   ]
  },
  {
   "cell_type": "markdown",
   "metadata": {},
   "source": [
    "## Demo setup"
   ]
  },
  {
   "cell_type": "code",
   "execution_count": null,
   "metadata": {
    "dotnet_interactive": {
     "language": "pwsh"
    }
   },
   "outputs": [],
   "source": [
    "Connect-AzAccount\n",
    "Set-AzContext -Subscription \"b895a719-7034-411a-9944-ff196d1f450f\"\n",
    "$connectionString = (Get-AzCosmosDBAccountKey -ResourceGroupName rg-dp-420 -Name cosmos-dp-420-sql-provisioned -Type \"ConnectionStrings\")[\"Primary SQL Connection String\"]\n",
    "$primaryMasterKey = (Get-AzCosmosDBAccountKey -ResourceGroupName rg-dp-420 -Name cosmos-dp-420-sql-provisioned -Type \"Keys\")[\"PrimaryMasterKey\"]\n",
    "$documentEndpoint = (Get-AzCosmosDBAccount -ResourceGroupName rg-dp-420 -Name cosmos-dp-420-sql-provisioned).DocumentEndpoint"
   ]
  },
  {
   "cell_type": "code",
   "execution_count": null,
   "metadata": {
    "dotnet_interactive": {
     "language": "csharp"
    }
   },
   "outputs": [],
   "source": [
    "#r \"nuget: Newtonsoft.Json, 13.0.1\"\n",
    "#r \"nuget: Microsoft.Azure.Cosmos , 3.22.1\"\n",
    "#r \"nuget: Bogus, 34.0.1\"\n",
    "\n",
    "#!share --from pwsh connectionString\n",
    "#!share --from pwsh primaryMasterKey\n",
    "#!share --from pwsh documentEndpoint"
   ]
  },
  {
   "cell_type": "markdown",
   "metadata": {},
   "source": [
    "## Implement Azure Cosmos DB SQL API point operations"
   ]
  },
  {
   "cell_type": "markdown",
   "metadata": {},
   "source": [
    "### Understand point operations\n",
    "\n",
    "The Microsoft.Azure.Cosmos library includes first-class support for generics in the C# language. At the most foundational level, you can create a C# class that represents an item in your container that, at a minimum, contains two members:\n",
    "- a string property named id with a public getter and setter\n",
    "- a string property with the same name as your partition key path with a public getter and setter"
   ]
  },
  {
   "cell_type": "code",
   "execution_count": null,
   "metadata": {
    "dotnet_interactive": {
     "language": "csharp"
    }
   },
   "outputs": [],
   "source": [
    "// Container class at the most foundational level\n",
    "\n",
    "public class item \n",
    "{ \n",
    "    public string id { get; set; } \n",
    "    public string partitionKey { get; set; }\n",
    "}"
   ]
  },
  {
   "cell_type": "code",
   "execution_count": null,
   "metadata": {
    "dotnet_interactive": {
     "language": "csharp"
    }
   },
   "outputs": [],
   "source": [
    "// Example of a Product class for a Product container\n",
    "\n",
    "public class Product \n",
    "{ \n",
    "    public string id { get; set; }\n",
    "    public string name { get; set; }\n",
    "    public string categoryId { get; set; } // Assume categoryId is the partition key\n",
    "    public double price { get; set; }\n",
    "    public string[] tags { get; set; } \n",
    "}"
   ]
  },
  {
   "cell_type": "code",
   "execution_count": null,
   "metadata": {
    "dotnet_interactive": {
     "language": "csharp"
    }
   },
   "outputs": [],
   "source": [
    "// You can disassociate the id property if needed\n",
    "\n",
    "using Newtonsoft.Json;\n",
    "\n",
    "public class item \n",
    "{ \n",
    "    [JsonProperty(PropertyName = \"id\")] \n",
    "    public string InternalId { get; set; }\n",
    "    \n",
    "    public string partitionKey { get; set; }\n",
    "}\n"
   ]
  },
  {
   "cell_type": "markdown",
   "metadata": {},
   "source": [
    "### Create documents\n",
    "Let’s add a new item of the previously defined Product class type."
   ]
  },
  {
   "cell_type": "code",
   "execution_count": null,
   "metadata": {
    "dotnet_interactive": {
     "language": "csharp"
    }
   },
   "outputs": [],
   "source": [
    "Product saddle = new() \n",
    "{ \n",
    "    id = \"027D0B9A-F9D9-4C96-8213-C8546C4AAE71\", \n",
    "    categoryId = \"26C74104-40BC-4541-8EF5-9892F7F03D72\", \n",
    "    name = \"LL Road Seat/Saddle\", \n",
    "    price = 27.12d, \n",
    "    tags = new string[] { \"brown\", \"weathered\" } \n",
    "};"
   ]
  },
  {
   "cell_type": "code",
   "execution_count": null,
   "metadata": {
    "dotnet_interactive": {
     "language": "csharp"
    }
   },
   "outputs": [],
   "source": [
    "using Microsoft.Azure.Cosmos;\n",
    "using System.Net;\n",
    "\n",
    "CosmosClient client = new (connectionString);\n",
    "Database database = await client.CreateDatabaseIfNotExistsAsync(\"cosmicworks\");\n",
    "ContainerProperties properties = new ContainerProperties(\"cosmicworks\", \"/categoryId\");\n",
    "properties.DefaultTimeToLive = 1000;  // we will configure the default time to live for the next exercise\n",
    "Container container = await database.CreateContainerIfNotExistsAsync(properties,ThroughputProperties.CreateManualThroughput(400));\n",
    "\n",
    "try \n",
    "{ \n",
    "    await container.CreateItemAsync<Product>(saddle); \n",
    "} \n",
    "catch(CosmosException ex) when (ex.StatusCode == HttpStatusCode.Conflict) \n",
    "{ \n",
    "    // Add logic to handle conflicting ids \n",
    "    // Console.WriteLine(ex.ToString());\n",
    "} \n",
    "catch(CosmosException ex) \n",
    "{ \n",
    "    // Add general exception handling logic \n",
    "}"
   ]
  },
  {
   "cell_type": "markdown",
   "metadata": {},
   "source": [
    "| **Code** | **Title** | **Reason** |\n",
    "| --- | --- | --- |\n",
    "| **400** | Bad Request | Something was wrong with the item in the body of the request |\n",
    "| **403** | Forbidden | Container was likely full |\n",
    "| **409** | Conflict | Item in container likely already had a matching id |\n",
    "| **413** | RequestEntityTooLarge | Item exceeds max entity size |\n",
    "| **429** | TooManyRequests | Current request exceeds the maximum RU/s provisioned for the container |"
   ]
  },
  {
   "cell_type": "markdown",
   "metadata": {},
   "source": [
    "### Read an existing document"
   ]
  },
  {
   "cell_type": "code",
   "execution_count": null,
   "metadata": {
    "dotnet_interactive": {
     "language": "csharp"
    }
   },
   "outputs": [],
   "source": [
    "// We first need the Unique Id of the document we are searching for.\n",
    "string id = \"027D0B9A-F9D9-4C96-8213-C8546C4AAE71\";\n",
    "\n",
    "// We then need the partition key of the document we are searching for.\n",
    "string categoryId = \"26C74104-40BC-4541-8EF5-9892F7F03D72\"; \n",
    "PartitionKey partitionKey = new (categoryId);\n",
    "\n",
    "// With both the id and the partition key we can now search for the document.\n",
    "Product saddle = await container.ReadItemAsync<Product>(id, partitionKey);\n",
    "\n",
    "// If we find the document, we can now do something with its data like display it to the console.\n",
    "string formattedName = $\"New Product [{saddle.name}]\"; \n",
    "Console.WriteLine(formattedName);\n",
    "\n",
    "saddle"
   ]
  },
  {
   "cell_type": "markdown",
   "metadata": {},
   "source": [
    "### Update a document"
   ]
  },
  {
   "cell_type": "code",
   "execution_count": null,
   "metadata": {
    "dotnet_interactive": {
     "language": "csharp"
    }
   },
   "outputs": [],
   "source": [
    "// You can modify the saddle variable we defined earlier.\n",
    "saddle.price = 35.00d;\n",
    "\n",
    "// We can persist the change invoking the asynchronous UpsertItemAsync<> method passing in only the update item.\n",
    "await container.UpsertItemAsync<Product>(saddle);\n",
    "\n",
    "// We can modify other properties of the saddle variable.\n",
    "saddle.tags = new string[] { \"brown\", \"new\", \"crisp\" };\n",
    "\n",
    "// Even though we upserted the document already, we don’t have to read a new item before upserting the item again.\n",
    "await container.UpsertItemAsync<Product>(saddle);\n",
    "\n",
    "saddle = await container.ReadItemAsync<Product>(id, partitionKey);\n",
    "\n",
    "saddle"
   ]
  },
  {
   "cell_type": "markdown",
   "metadata": {},
   "source": [
    "### Delete documents"
   ]
  },
  {
   "cell_type": "code",
   "execution_count": null,
   "metadata": {
    "dotnet_interactive": {
     "language": "csharp"
    }
   },
   "outputs": [],
   "source": [
    "// We first need the Unique Id of the document we want to delete.\n",
    "string id = \"027D0B9A-F9D9-4C96-8213-C8546C4AAE71\";\n",
    "\n",
    "// We then need the partition key of the document we want to delete.\n",
    "string categoryId = \"26C74104-40BC-4541-8EF5-9892F7F03D72\"; \n",
    "PartitionKey partitionKey = new (categoryId);\n",
    "\n",
    "// With the id and partition key, you invoke the asynchronous DeleteItemAsync<> method in a manner like \n",
    "// the ReadItemAsync<> method.\n",
    "await container.DeleteItemAsync<Product>(id, partitionKey);"
   ]
  },
  {
   "cell_type": "markdown",
   "metadata": {},
   "source": [
    "### Configure time-to-live (TTL) value for a specific document"
   ]
  },
  {
   "cell_type": "code",
   "execution_count": null,
   "metadata": {
    "dotnet_interactive": {
     "language": "csharp"
    }
   },
   "outputs": [],
   "source": [
    "// We first need to define a TimeToLive property on the Product class.\n",
    "public class Product \n",
    "{ \n",
    "    [JsonProperty(PropertyName = \"ttl\", NullValueHandling = NullValueHandling.Ignore)] \n",
    "    public int? ttl { get; set; }\n",
    " \n",
    "    public string id { get; set; }\n",
    "    public string name { get; set; }\n",
    "    public string categoryId { get; set; } // Assume categoryId is the partition key\n",
    "    public double price { get; set; }\n",
    "    public string[] tags { get; set; } \n",
    "}\n",
    "\n",
    "Product saddle = new() \n",
    "{ \n",
    "    id = \"027D0B9A-F9D9-4C96-8213-C8546C4AAE71\", \n",
    "    categoryId = \"26C74104-40BC-4541-8EF5-9892F7F03D72\", \n",
    "    name = \"LL Road Seat/Saddle\", \n",
    "    price = 27.12d, \n",
    "    tags = new string[] { \"brown\", \"weathered\" },\n",
    "    ttl = 10          // We need to assign a value in seconds to the saddle ttl.\n",
    "};\n",
    "\n",
    "await container.CreateItemAsync<Product>(saddle); "
   ]
  },
  {
   "cell_type": "markdown",
   "metadata": {},
   "source": [
    "## Perform cross-document transactional operations with the Azure Cosmos DB SQL API"
   ]
  },
  {
   "cell_type": "markdown",
   "metadata": {},
   "source": [
    "### Create a transactional batch with the SDK"
   ]
  },
  {
   "cell_type": "code",
   "execution_count": null,
   "metadata": {
    "dotnet_interactive": {
     "language": "csharp"
    }
   },
   "outputs": [],
   "source": [
    "using System.Collections.Generic;\n",
    "\n",
    "// The transactional batch supports operations with the same logical partition key. \n",
    "public record Product(string id, string name, string categoryId);\n",
    "\n",
    "Product saddle = new(\"0120\", \"Worn Saddle\", \"accessories-used\"); \n",
    "Product handlebar = new(\"012A\", \"Rusty Handlebar\", \"accessories-used\");\n",
    "\n",
    "PartitionKey partitionKey = new (\"accessories-used\"); \n",
    "\n",
    "TransactionalBatch batch = container.CreateTransactionalBatch(partitionKey)\n",
    "    .CreateItem<Product>(saddle)\n",
    "    .CreateItem<Product>(handlebar);\n",
    "\n",
    "TransactionalBatchResponse response = await batch.ExecuteAsync();\n",
    "for(int i=0; i<response.Count; i++) { Console.WriteLine($\"{i}, {response[i].StatusCode}\"); }"
   ]
  },
  {
   "cell_type": "code",
   "execution_count": null,
   "metadata": {
    "dotnet_interactive": {
     "language": "csharp"
    }
   },
   "outputs": [],
   "source": [
    "// Operations with different logical partition keys will FAIL batch operation.\n",
    "public record Product(string id, string name, string categoryId);\n",
    "\n",
    "Product saddle = new(\"0240\", \"Worn Saddle\", \"accessories-used\"); \n",
    "Product handlebar = new(\"024A\", \"Rusty Handlebar\", \"accessories-new\");  // new logical partition key value!\n",
    "\n",
    "PartitionKey partitionKey = new (\"accessories-used\");\n",
    "\n",
    "TransactionalBatch batch = container.CreateTransactionalBatch(partitionKey)\n",
    "    .CreateItem<Product>(saddle)\n",
    "    .CreateItem<Product>(handlebar);\n",
    " \n",
    "TransactionalBatchResponse response = await batch.ExecuteAsync();\n",
    "for(int i=0; i<response.Count; i++) { Console.WriteLine($\"{i}, {response[i].StatusCode}\"); }"
   ]
  },
  {
   "cell_type": "markdown",
   "metadata": {},
   "source": [
    "### Review batch operation results with the SDK"
   ]
  },
  {
   "cell_type": "code",
   "execution_count": null,
   "metadata": {
    "dotnet_interactive": {
     "language": "csharp"
    }
   },
   "outputs": [],
   "source": [
    "if (response.IsSuccessStatusCode)\n",
    "{\n",
    "    Console.WriteLine(\"That was a success!\");\n",
    "}\n",
    "\n",
    "TransactionalBatchOperationResult<Product> result0 = response.GetOperationResultAtIndex<Product>(0);\n",
    "Product firstProductResult = result0.Resource;\n",
    "\n",
    "TransactionalBatchOperationResult<Product> result1 = response.GetOperationResultAtIndex<Product>(1);\n",
    "Product secondProductResult = result1.Resource;\n",
    "\n",
    "Console.WriteLine(firstProductResult);\n",
    "Console.WriteLine(secondProductResult);"
   ]
  },
  {
   "cell_type": "markdown",
   "metadata": {},
   "source": [
    "### Implement optimistic concurrency control\n",
    "\n",
    "Using the SDK to read an item and then update the same item in a subsequent operation carries some inherent risk. \n",
    "\n",
    "Another operation could potentially come in from a separate client and change the underlying document before the first client’s update operation is finalized. This conflict could create a “lost update” situation."
   ]
  },
  {
   "cell_type": "code",
   "execution_count": null,
   "metadata": {
    "dotnet_interactive": {
     "language": "csharp"
    }
   },
   "outputs": [],
   "source": [
    "public class Product \n",
    "{ \n",
    "    public string id { get; set; }\n",
    "    public string name { get; set; }\n",
    "    public string categoryId { get; set; } // Assume categoryId is the partition key\n",
    "    public double price { get; set; }\n",
    "}\n",
    "\n",
    "string categoryId = \"accessories-used\";\n",
    "PartitionKey partitionKey = new (categoryId);\n",
    "\n",
    "Product product = await container.ReadItemAsync<Product>(\"0120\", partitionKey);\n",
    "\n",
    "product.price = 50d;\n",
    "\n",
    "await container.UpsertItemAsync<Product>(product, partitionKey);"
   ]
  },
  {
   "cell_type": "markdown",
   "metadata": {},
   "source": [
    "![latency](https://docs.microsoft.com/en-us/learn/wwl-data-ai/perform-cross-document-transactional-operations-azure-cosmos-db-sql-api/media/5-latency.png)"
   ]
  },
  {
   "cell_type": "code",
   "execution_count": null,
   "metadata": {
    "dotnet_interactive": {
     "language": "csharp"
    }
   },
   "outputs": [],
   "source": [
    "// The C# code only required minor changes to implement optimistic concurrency control.\n",
    "string categoryId = \"accessories-used\"; \n",
    "\n",
    "PartitionKey partitionKey = new (categoryId); \n",
    "ItemResponse<Product> response = await container.ReadItemAsync<Product>(\"0120\", partitionKey); \n",
    "\n",
    "Product product = response.Resource; \n",
    "string eTag = response.ETag; \n",
    "product.price = 50d; \n",
    "\n",
    "// To prevent lost updates, you can use the if-match rule to see if the ETag still matches the current ETag header of the item server-side as part of your update request.\n",
    "ItemRequestOptions options = new ItemRequestOptions { IfMatchEtag = eTag }; \n",
    "\n",
    "await container.UpsertItemAsync<Product>(product, partitionKey, requestOptions: options);"
   ]
  },
  {
   "cell_type": "code",
   "execution_count": null,
   "metadata": {
    "dotnet_interactive": {
     "language": "csharp"
    }
   },
   "outputs": [],
   "source": [
    "// Let's see if we can break the ETag\n",
    "ItemResponse<Product> response1 = await container.ReadItemAsync<Product>(\"0120\", partitionKey); \n",
    "ItemResponse<Product> response2 = await container.ReadItemAsync<Product>(\"0120\", partitionKey); \n",
    "\n",
    "Product product1 = response1.Resource; \n",
    "Product product2 = response2.Resource; \n",
    "\n",
    "string eTag1 = response1.ETag; \n",
    "string eTag2 = response2.ETag;\n",
    "product1.price = 20d; \n",
    "product2.price = 40d;\n",
    "\n",
    "ItemRequestOptions options1 = new ItemRequestOptions { IfMatchEtag = eTag1 }; \n",
    "ItemRequestOptions options2 = new ItemRequestOptions { IfMatchEtag = eTag2 }; \n",
    "\n",
    "await container.UpsertItemAsync<Product>(product1, partitionKey, requestOptions: options1);"
   ]
  },
  {
   "cell_type": "code",
   "execution_count": null,
   "metadata": {
    "dotnet_interactive": {
     "language": "csharp"
    }
   },
   "outputs": [],
   "source": [
    "// Will FAIL (because the eTag is still the old value)\n",
    "await container.UpsertItemAsync<Product>(product2, partitionKey, requestOptions: options2);"
   ]
  },
  {
   "cell_type": "markdown",
   "metadata": {},
   "source": [
    "## Process bulk data in Azure Cosmos DB SQL API"
   ]
  },
  {
   "cell_type": "code",
   "execution_count": null,
   "metadata": {
    "dotnet_interactive": {
     "language": "csharp"
    }
   },
   "outputs": [],
   "source": [
    "CosmosClientOptions options = new () \n",
    "{ \n",
    "    AllowBulkExecution = true \n",
    "};\n",
    "\n",
    "CosmosClient client = new (connectionString, options);"
   ]
  },
  {
   "cell_type": "code",
   "execution_count": null,
   "metadata": {
    "dotnet_interactive": {
     "language": "csharp"
    }
   },
   "outputs": [],
   "source": [
    "using Bogus;\n",
    "public record Product(string id, string name, string categoryId);\n",
    "var productsToInsert = new List<Product>();\n",
    "var faker = new Faker(\"en\");\n",
    "\n",
    "for (int i=0; i<2500; i++)\n",
    "{\n",
    "    productsToInsert.Add(new Product(Guid.NewGuid().ToString(), faker.Name.FullName(), faker.Commerce.Department(1)));\n",
    "}\n",
    "\n",
    "// there are about 20 categories/departments...\n",
    "\n",
    "productsToInsert"
   ]
  },
  {
   "cell_type": "code",
   "execution_count": null,
   "metadata": {
    "dotnet_interactive": {
     "language": "csharp"
    }
   },
   "outputs": [],
   "source": [
    "await container.ReplaceThroughputAsync(4000); // Response status code does not indicate success: TooManyRequests (429)\n",
    "\n",
    "List<Task> concurrentTasks = new List<Task>(); \n",
    "\n",
    "foreach(Product product in productsToInsert) \n",
    "{ \n",
    "    concurrentTasks.Add( \n",
    "        container.CreateItemAsync<Product>( \n",
    "            product, \n",
    "            new PartitionKey(product.categoryId)\n",
    "        ) \n",
    "    ); \n",
    "}\n",
    "\n",
    "// The Task.WhenAll will create batches to group our operations by physical partition, \n",
    "// then distribute the requests to run concurrently.\n",
    "await Task.WhenAll(concurrentTasks);\n",
    "\n",
    "await container.ReplaceThroughputAsync(400); "
   ]
  },
  {
   "cell_type": "markdown",
   "metadata": {
    "dotnet_interactive": {
     "language": "csharp"
    }
   },
   "source": [
    "Following code will show the total number of records"
   ]
  },
  {
   "cell_type": "code",
   "execution_count": null,
   "metadata": {
    "dotnet_interactive": {
     "language": "csharp"
    }
   },
   "outputs": [],
   "source": [
    "var query = new QueryDefinition(\"SELECT value count(1) FROM c\");\n",
    "var iterator = container.GetItemQueryIterator<int>(query);\n",
    "var count = 0;\n",
    "\n",
    "while (iterator.HasMoreResults)\n",
    "{\n",
    "    var currentResultSet = await iterator.ReadNextAsync();\n",
    "    foreach (var res in currentResultSet)\n",
    "    {\n",
    "        count += res;\n",
    "    }\n",
    "}\n",
    "\n",
    "Console.WriteLine(\"Count of items {0}\", count);"
   ]
  },
  {
   "cell_type": "markdown",
   "metadata": {},
   "source": [
    "### Review bulk operation caveats\n",
    "\n",
    "- The provisioned throughput (RU/s) is higher than if the operations were executed individually.\n",
    "- While waiting to fill the batch, if it doesn't have enough items, it will wait 100 ms for more items.\n",
    "- Batches are created for optimization with a maximum of 2 Mb (or 100 operations).\n",
    "\n",
    "### Implement bulk best practices\n",
    "\n",
    "- While not required for bulk operations, it's a good practice to provide the partition key.\n",
    "- Use stream APU iun serialize-deserialize scenarios.\n",
    "- Configure worker task per partition key."
   ]
  },
  {
   "cell_type": "markdown",
   "metadata": {},
   "source": [
    "## Demo teardown"
   ]
  },
  {
   "cell_type": "code",
   "execution_count": null,
   "metadata": {
    "dotnet_interactive": {
     "language": "csharp"
    }
   },
   "outputs": [],
   "source": [
    "await database.DeleteAsync();"
   ]
  }
 ],
 "metadata": {
  "kernelspec": {
   "display_name": ".NET (C#)",
   "language": "C#",
   "name": ".net-csharp"
  },
  "language_info": {
   "name": "C#"
  }
 },
 "nbformat": 4,
 "nbformat_minor": 2
}

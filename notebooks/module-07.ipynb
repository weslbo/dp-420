{
 "cells": [
  {
   "cell_type": "markdown",
   "metadata": {
    "dotnet_interactive": {
     "language": "csharp"
    }
   },
   "source": [
    "# Module 07: Integrate Azure Cosmos DB SQL API with Azure services\n",
    "\n",
    "- [[Learning path]](https://docs.microsoft.com/en-us/learn/paths/integrate-azure-cosmos-db-sql-api-azure-services/?ns-enrollment-type=Collection&ns-enrollment-id=1k8wcz8zooj2nx)\n",
    "- [[Lab]](https://microsoftlearning.github.io/dp-420-cosmos-db-dev/instructions/13-change-feed.html): Process change feed events using the Azure Cosmos DB SQL API SDK\n",
    "- [[Lab]](https://microsoftlearning.github.io/dp-420-cosmos-db-dev/instructions/14-functions.html): Process Azure Cosmos DB SQL API data using Azure Functions\n",
    "- [[Lab]](https://microsoftlearning.github.io/dp-420-cosmos-db-dev/instructions/15-cognitive-search.html): Search data using Azure Cognitive Search and Azure Cosmos DB SQL API"
   ]
  },
  {
   "cell_type": "markdown",
   "metadata": {},
   "source": [
    "## Demo setup"
   ]
  },
  {
   "cell_type": "code",
   "execution_count": null,
   "metadata": {
    "dotnet_interactive": {
     "language": "pwsh"
    }
   },
   "outputs": [],
   "source": [
    "Connect-AzAccount\n",
    "Set-AzContext -Subscription \"b895a719-7034-411a-9944-ff196d1f450f\"\n",
    "$connectionString = (Get-AzCosmosDBAccountKey -ResourceGroupName rg-dp-420 -Name cosmos-dp-420-sql-provisioned -Type \"ConnectionStrings\")[\"Primary SQL Connection String\"]\n",
    "$primaryMasterKey = (Get-AzCosmosDBAccountKey -ResourceGroupName rg-dp-420 -Name cosmos-dp-420-sql-provisioned -Type \"Keys\")[\"PrimaryMasterKey\"]\n",
    "$documentEndpoint = (Get-AzCosmosDBAccount -ResourceGroupName rg-dp-420 -Name cosmos-dp-420-sql-provisioned).DocumentEndpoint"
   ]
  },
  {
   "cell_type": "code",
   "execution_count": null,
   "metadata": {
    "dotnet_interactive": {
     "language": "pwsh"
    }
   },
   "outputs": [],
   "source": [
    "cosmicworks --endpoint $documentEndpoint --key $primaryMasterKey --datasets product"
   ]
  },
  {
   "cell_type": "code",
   "execution_count": null,
   "metadata": {
    "dotnet_interactive": {
     "language": "csharp"
    }
   },
   "outputs": [],
   "source": [
    "#r \"nuget: Newtonsoft.Json, 13.0.1\"\n",
    "#r \"nuget: Microsoft.Azure.Cosmos , 3.26.0\"\n",
    "\n",
    "#!share --from pwsh connectionString\n",
    "#!share --from pwsh primaryMasterKey\n",
    "#!share --from pwsh documentEndpoint"
   ]
  },
  {
   "cell_type": "code",
   "execution_count": null,
   "metadata": {
    "dotnet_interactive": {
     "language": "csharp"
    }
   },
   "outputs": [],
   "source": [
    "using Microsoft.Azure.Cosmos;\n",
    "using System;\n",
    "using System.Collections.Generic;\n",
    "\n",
    "CosmosClient client = new (connectionString);\n",
    "Database database = client.GetDatabase(\"cosmicworks\");\n",
    "Container container = database.GetContainer(\"products\");\n",
    "\n",
    "public class Product\n",
    "{\n",
    "\tpublic string id { get; set; }\n",
    "\tpublic string categoryId { get; set; }\n",
    "\tpublic string categoryName { get; set; }\n",
    "\tpublic string sku { get; set; }\n",
    "\tpublic string name { get; set; }\n",
    "\tpublic string description { get; set; }\n",
    "\tpublic double price { get; set; }\n",
    "}"
   ]
  },
  {
   "cell_type": "markdown",
   "metadata": {},
   "source": [
    "## Consume an Azure Cosmos DB SQL API change feed using the SDK"
   ]
  },
  {
   "cell_type": "markdown",
   "metadata": {},
   "source": [
    "### Understand change feed features in the SDK\n",
    "\n",
    "The .NET SDK for Azure Cosmos DB SQL API ships with a change feed processor that simplifies the task of reading changes from the feed.\n",
    "\n",
    "| **Component** | **Description** |\n",
    "| --- | --- |\n",
    "| **Monitored container** | This container is monitored for any insert or update operations. These changes are then reflected in the feed. |\n",
    "| **Lease container** | The lease container serves as a storage mechanism to manage state across multiple change feed consumers (clients). |\n",
    "| **Host** | The host is a client application instance that listens for and reacts to changes from the change feed. |\n",
    "| **Delegate** | The delegate is code within the client application that will implement business logic for each batch of changes. |\n",
    "\n",
    "Prior to using the change feed processor, you should create a lease container that you will reference when configuring the processor."
   ]
  },
  {
   "cell_type": "markdown",
   "metadata": {},
   "source": [
    "### Implement a delegate for the change feed processor\n",
    "\n",
    "For the change feed processor, the library expects a delegate of type ChangesHandler<>. This delegate will handle a list of changes on the feed."
   ]
  },
  {
   "cell_type": "code",
   "execution_count": null,
   "metadata": {
    "dotnet_interactive": {
     "language": "csharp"
    }
   },
   "outputs": [],
   "source": [
    "// Create an instance for both the source and lease container.\n",
    "Container sourceContainer = await database.CreateContainerIfNotExistsAsync(\"products\", \"/categoryId\", 400); \n",
    "Container leaseContainer = await database.CreateContainerIfNotExistsAsync(\"productslease\", \"/partitionKey\", 400);"
   ]
  },
  {
   "cell_type": "code",
   "execution_count": null,
   "metadata": {
    "dotnet_interactive": {
     "language": "csharp"
    }
   },
   "outputs": [],
   "source": [
    "// The delegate includes two parameters; a read-only list of changes and a cancellation token.\n",
    "using System;\n",
    "using System.Collections.Generic;\n",
    "using System.IO;\n",
    "using System.Threading;\n",
    "using System.Threading.Tasks;\n",
    "using Microsoft.Azure.Cosmos;\n",
    "using Microsoft.Azure.Cosmos.Fluent;\n",
    "using static Microsoft.Azure.Cosmos.Container;\n",
    "\n",
    "ChangesHandler<Product> changeHandlerDelegate = async ( \n",
    "    IReadOnlyCollection<Product> changes, \n",
    "    CancellationToken cancellationToken ) => \n",
    "        { \n",
    "            // A foreach loop is used to iterate through the current batch of changes, \n",
    "            // and print each item to the console window\n",
    "            foreach(Product product in changes) \n",
    "            { \n",
    "                await Console.Out.WriteLineAsync($\"Detected Operation:\\t[{product.id}]\\t{product.name}\"); \n",
    "                // Do something else with each change \n",
    "            } \n",
    "         };"
   ]
  },
  {
   "cell_type": "markdown",
   "metadata": {},
   "source": [
    "### Implement the change feed processor\n",
    "\n",
    "The processor needs to be built with a source and lease container, and then needs to be started."
   ]
  },
  {
   "cell_type": "code",
   "execution_count": null,
   "metadata": {
    "dotnet_interactive": {
     "language": "csharp"
    }
   },
   "outputs": [],
   "source": [
    "ChangesHandler<Product> changeHandlerDelegate = async ( \n",
    "    IReadOnlyCollection<Product> changes, \n",
    "    CancellationToken cancellationToken ) => \n",
    "        { \n",
    "            // A foreach loop is used to iterate through the current batch of changes, \n",
    "            // and print each item to the console window\n",
    "            foreach(Product product in changes) \n",
    "            { \n",
    "                await Console.Out.WriteLineAsync($\"Detected Operation:\\t[{product.id}]\\t{product.name}\"); \n",
    "                // Do something else with each change \n",
    "            } \n",
    "         };\n",
    "\n",
    "// Use the GetChangeFeedProcessorBuilder method from the source container instance to create a builder.\n",
    "var builder = sourceContainer.GetChangeFeedProcessorBuilder<Product>( \n",
    "    processorName: \"productItemProcessor\", \n",
    "    onChangesDelegate: changeHandlerDelegate // Delegate defined in previous slide \n",
    ");\n",
    "\n",
    "// Build the change feed processor with the defined builder and lease container\n",
    "ChangeFeedProcessor processor = builder \n",
    "    .WithInstanceName(\"desktopApplication\") \n",
    "    .WithLeaseContainer(leaseContainer) \n",
    "    .Build();\n",
    "\n",
    "// Run processor asynchronously.\n",
    "await processor.StartAsync(); \n",
    "\n",
    "// Wait while processor handles items \n",
    "await Task.Delay(10000);\n",
    "\n",
    "// Terminate processor asynchronously.\n",
    "await processor.StopAsync();"
   ]
  },
  {
   "cell_type": "code",
   "execution_count": null,
   "metadata": {
    "dotnet_interactive": {
     "language": "pwsh"
    }
   },
   "outputs": [],
   "source": [
    "cosmicworks --endpoint $documentEndpoint --key $primaryMasterKey --datasets product"
   ]
  },
  {
   "cell_type": "markdown",
   "metadata": {},
   "source": [
    "## Handle events with Azure Functions and Azure Cosmos DB SQL API change feed"
   ]
  },
  {
   "cell_type": "code",
   "execution_count": null,
   "metadata": {
    "dotnet_interactive": {
     "language": "pwsh"
    }
   },
   "outputs": [],
   "source": []
  },
  {
   "cell_type": "markdown",
   "metadata": {},
   "source": [
    "## Search Azure Cosmos DB SQL API data with Azure Cognitive Search"
   ]
  }
 ],
 "metadata": {
  "kernelspec": {
   "display_name": ".NET (C#)",
   "language": "C#",
   "name": ".net-csharp"
  },
  "language_info": {
   "name": "C#"
  }
 },
 "nbformat": 4,
 "nbformat_minor": 2
}

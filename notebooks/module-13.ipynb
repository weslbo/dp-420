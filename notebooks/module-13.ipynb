{
 "cells": [
  {
   "cell_type": "markdown",
   "metadata": {
    "dotnet_interactive": {
     "language": "csharp"
    }
   },
   "source": [
    "# Module 13: Create server-side programming constructs in Azure Cosmos DB SQL API\n",
    "\n",
    "- [[Learning path]](https://docs.microsoft.com/en-us/learn/paths/create-server-side-programming-azure-cosmos-db-sql-api/?ns-enrollment-type=Collection&ns-enrollment-id=1k8wcz8zooj2nx)\n",
    "- [[Lab]](https://microsoftlearning.github.io/dp-420-cosmos-db-dev/instructions/32-create-sproc-portal.html): Create a stored procedure with the Azure portal\n",
    "- [[Lab]](https://microsoftlearning.github.io/dp-420-cosmos-db-dev/instructions/33-create-use-udf-sdk.html): Implement and then use a UDF using the SDK"
   ]
  },
  {
   "cell_type": "markdown",
   "metadata": {},
   "source": [
    "## Demo setup"
   ]
  },
  {
   "cell_type": "code",
   "execution_count": null,
   "metadata": {
    "dotnet_interactive": {
     "language": "pwsh"
    }
   },
   "outputs": [],
   "source": [
    "Connect-AzAccount\n",
    "Set-AzContext -Subscription \"b895a719-7034-411a-9944-ff196d1f450f\"\n",
    "$connectionString = (Get-AzCosmosDBAccountKey -ResourceGroupName rg-dp-420 -Name cosmos-dp-420-sql-provisioned -Type \"ConnectionStrings\")[\"Primary SQL Connection String\"]\n",
    "$primaryMasterKey = (Get-AzCosmosDBAccountKey -ResourceGroupName rg-dp-420 -Name cosmos-dp-420-sql-provisioned -Type \"Keys\")[\"PrimaryMasterKey\"]\n",
    "$documentEndpoint = (Get-AzCosmosDBAccount -ResourceGroupName rg-dp-420 -Name cosmos-dp-420-sql-provisioned).DocumentEndpoint"
   ]
  },
  {
   "cell_type": "code",
   "execution_count": null,
   "metadata": {
    "dotnet_interactive": {
     "language": "csharp"
    }
   },
   "outputs": [],
   "source": [
    "#r \"nuget: Newtonsoft.Json, 13.0.1\"\n",
    "#r \"nuget: Microsoft.Azure.Cosmos , 3.22.1\"\n",
    "\n",
    "#!share --from pwsh connectionString\n",
    "#!share --from pwsh primaryMasterKey\n",
    "#!share --from pwsh documentEndpoint\n",
    "\n",
    "public class Product \n",
    "{ \n",
    "    public string id { get; set; }\n",
    "    public string name { get; set; }\n",
    "    public string categoryId { get; set; } // Assume categoryId is the partition key\n",
    "    public string categoryName { get; set; }\n",
    "    public double price { get; set; }\n",
    "    public string[] tags { get; set; } \n",
    "}"
   ]
  },
  {
   "cell_type": "code",
   "execution_count": null,
   "metadata": {
    "dotnet_interactive": {
     "language": "pwsh"
    }
   },
   "outputs": [],
   "source": [
    "cosmicworks --endpoint $documentEndpoint --key $primaryMasterKey --datasets product"
   ]
  },
  {
   "cell_type": "markdown",
   "metadata": {},
   "source": [
    "## Build multi-item transactions with the Azure Cosmos DB SQL API"
   ]
  },
  {
   "cell_type": "markdown",
   "metadata": {},
   "source": [
    "### Understand transactions\n",
    "\n",
    "In a database, a transaction is typically defined as a sequence of point operations grouped together into a single unit of work. It's expected that a transaction provides ACID guarantees.\n",
    "\n",
    "- **Atomicity** guarantees that all the work done inside a transaction is treated as a single unit where either all of it is committed or none.\n",
    "- **Consistency** makes sure that the data is always in a healthy internal state across transactions.\n",
    "- **Isolation** guarantees that no two transactions interfere with each other – generally, most commercial systems provide multiple isolation levels that can be used based on the application's needs.\n",
    "- **Durability** ensures that any change that's committed in the database will always be present.\n",
    "\n",
    "Stored procedures are scoped to a single logical partition. You cannot execute a stored procedure that performs operations across logical partition key values.\n",
    "\n",
    "![image](https://docs.microsoft.com/en-us/learn/wwl-data-ai/build-multi-item-transactions-azure-cosmos-db-sql-api/media/2-transaction.png)\n",
    "\n",
    "For long-running lists of operations, a helper boolean value is returned by any JavaScript function that performs an operation indicating whether that operation is expected to complete within the request timeout duration. \n",
    "\n",
    "![image](https://docs.microsoft.com/en-us/learn/wwl-data-ai/build-multi-item-transactions-azure-cosmos-db-sql-api/media/2-continuation.png)"
   ]
  },
  {
   "cell_type": "markdown",
   "metadata": {},
   "source": [
    "### Author Stored procedures\n",
    "\n",
    "```javascript\n",
    "function createProduct(item) {\n",
    "    var context = getContext();\n",
    "    var container = context.getCollection(); \n",
    "    var accepted = container.createDocument(\n",
    "        container.getSelfLink(),\n",
    "        item,\n",
    "        (error, newItem) => {\n",
    "            if (error) throw error;\n",
    "            context.getResponse().setBody(newItem)\n",
    "        }\n",
    "    );\n",
    "    if (!accepted) return;\n",
    "}\n",
    "```"
   ]
  },
  {
   "cell_type": "markdown",
   "metadata": {},
   "source": [
    "### Rollback transactions\n",
    "\n",
    "Azure Cosmos DB’s SQL API will roll back the entire transaction if a single exception is thrown from the strored procedure script.\n",
    "\n",
    "![image](https://docs.microsoft.com/en-us/learn/wwl-data-ai/build-multi-item-transactions-azure-cosmos-db-sql-api/media/4-rollback.png)"
   ]
  },
  {
   "cell_type": "markdown",
   "metadata": {},
   "source": [
    "### Create stored procedures with the SDK"
   ]
  },
  {
   "cell_type": "code",
   "execution_count": null,
   "metadata": {
    "dotnet_interactive": {
     "language": "csharp"
    }
   },
   "outputs": [],
   "source": [
    "using System;\n",
    "using System.Linq;\n",
    "using Microsoft.Azure.Cosmos;\n",
    "using Microsoft.Azure.Cosmos.Scripts;\n",
    "\n",
    "StoredProcedureProperties properties = new()\n",
    "{\n",
    "    Id = \"createProduct\",\n",
    "    Body = @\"\n",
    "    function createProduct(title) {\n",
    "        var context = getContext();\n",
    "        var container = context.getCollection();\n",
    "        var doc = {\n",
    "          name: title,\n",
    "          categoryId: 'demo'\n",
    "        }\n",
    "        var accepted = container.createDocument(\n",
    "          container.getSelfLink(),\n",
    "          doc,\n",
    "          (error, newDoc) => {\n",
    "            if (error) throw new Error(error.message);\n",
    "            context.getResponse().setBody(newDoc);\n",
    "          }\n",
    "        );\n",
    "        if (!accepted) return;\n",
    "      }\n",
    "    \"\n",
    "};\n",
    "\n",
    "CosmosClient client = new (connectionString);\n",
    "Database database = client.GetDatabase(\"cosmicworks\");\n",
    "Container container = database.GetContainer(\"products\");\n",
    "\n",
    "await container.Scripts.CreateStoredProcedureAsync(properties);\n",
    "\n",
    "var result = await container.Scripts.ExecuteStoredProcedureAsync<dynamic>(\"createProduct\", new PartitionKey(\"demo\"), new dynamic[] {\"Bike\"});\n",
    "\n",
    "result"
   ]
  },
  {
   "cell_type": "markdown",
   "metadata": {},
   "source": [
    "Check with following SQL Query if item was created:\n",
    "\n",
    "```sql\n",
    "SELECT * FROM c\n",
    "where c.name = \"Bike\"\n",
    "```"
   ]
  },
  {
   "cell_type": "markdown",
   "metadata": {},
   "source": [
    "## Expand query and transaction functionality in Azure Cosmos DB SQL API"
   ]
  },
  {
   "cell_type": "markdown",
   "metadata": {},
   "source": [
    "### Create User-defined functions (UDFs)\n",
    "\n",
    "UDFs are used to extend the Azure Cosmos DB SQL API’s query language grammar and implement custom business logic and can only be called from inside queries.\n",
    "\n",
    "Suppose you have the following item\n",
    "\n",
    "```json\n",
    "{ \n",
    "  \"name\": \"Black Bib Shorts (Small)\", \n",
    "  \"price\": 80.00 \n",
    "}\n",
    "```\n",
    "\n",
    "Create a UDF that calculates 15% tax\n",
    "\n",
    "```javascript\n",
    "function addTax(preTax) \n",
    "{ \n",
    "    return preTax * 1.15; \n",
    "}\n",
    "```\n",
    "\n",
    "Run this query that returns the price and the tax\n",
    "\n",
    "```sql\n",
    "SELECT \n",
    "    p.name, \n",
    "    p.price, \n",
    "    udf.addTax(p.price) AS priceWithTax \n",
    "FROM products p\n",
    "WHERE p.name = \"Black Bib Shorts (Small)“\n",
    "```"
   ]
  },
  {
   "cell_type": "markdown",
   "metadata": {},
   "source": [
    "### Create User-defined functions (UDFs) with the SDK"
   ]
  },
  {
   "cell_type": "code",
   "execution_count": null,
   "metadata": {
    "dotnet_interactive": {
     "language": "csharp"
    }
   },
   "outputs": [],
   "source": [
    "using System;\n",
    "using System.Linq;\n",
    "using Microsoft.Azure.Cosmos;\n",
    "using Microsoft.Azure.Cosmos.Scripts;\n",
    "\n",
    "UserDefinedFunctionProperties udf = new () {\n",
    "  Id = \"addTax\",\n",
    "  Body = @\"\n",
    "    function addTax(preTax) {\n",
    "      return preTax * 1.15;\n",
    "    }\"\n",
    "};\n",
    "\n",
    "CosmosClient client = new (connectionString);\n",
    "Database database = client.GetDatabase(\"cosmicworks\");\n",
    "Container container = database.GetContainer(\"products\");\n",
    "\n",
    "await container.Scripts.CreateUserDefinedFunctionAsync(udf);"
   ]
  },
  {
   "cell_type": "code",
   "execution_count": null,
   "metadata": {
    "dotnet_interactive": {
     "language": "csharp"
    }
   },
   "outputs": [],
   "source": [
    "QueryDefinition query = new (\"SELECT TOP 10 c.name, c.price, udf.addTax(c.price) AS priceWithTax FROM c\");\n",
    "\n",
    "var iterator = container.GetItemQueryIterator<dynamic>(query);\n",
    "\n",
    "while (iterator.HasMoreResults)\n",
    "{\n",
    "    var currentResultSet = await iterator.ReadNextAsync();\n",
    "    foreach (var record in currentResultSet)\n",
    "    {\n",
    "        Console.WriteLine($\"[{record.name,40}]\\t{record.price,15:C}\\t{record.priceWithTax,15:C}\");\n",
    "    }\n",
    "}"
   ]
  },
  {
   "cell_type": "markdown",
   "metadata": {},
   "source": [
    "### Add triggers to an operation – Pre-trigger\n",
    "\n",
    "Pre-triggers are the core way that Azure Cosmos DB SQL API can inject business logic before an operations and cannot have any input parameters.\n",
    "\n",
    "Suppose you want to insert the following item\n",
    "\n",
    "```json\n",
    "{ \n",
    "  \"id\": \"caab0e5e-c037-48a4-a760-140497d19452\", \n",
    "  \"name\": \"Handlebar\", \n",
    "  \"categoryId\": \"e89a34d2-47ee-4da8-bcf6-10f552604b79\",\n",
    "  \"categoryName\": \"Accessories\", \n",
    "  \"price\": 50\n",
    "}\n",
    "```\n",
    "\n",
    "You want to automatically insert a \"label\" so that the document becomes\n",
    "\n",
    "```json\n",
    "{ \n",
    "  \"id\": \"caab0e5e-c037-48a4-a760-140497d19452\", \n",
    "  \"name\": \"Handlebar\", \n",
    "  \"categoryId\": \"e89a34d2-47ee-4da8-bcf6-10f552604b79\",\n",
    "  \"categoryName\": \"Accessories\", \n",
    "  \"price\": 50, \n",
    "  \"label\": \"new\"\n",
    "}\n",
    "```\n",
    "\n",
    "Define the following pre-trigger\n",
    "\n",
    "```javascript\n",
    "function addLabel(item) \n",
    "{ \n",
    "    var context = getContext(); \n",
    "    var request = context.getRequest(); \n",
    "    var pendingItem = request.getBody(); \n",
    "\n",
    "    if (!('label' in pendingItem)) \n",
    "        pendingItem['label'] = 'new’; \n",
    "\n",
    "    request.setBody(pendingItem); \n",
    "}\n",
    "```"
   ]
  },
  {
   "cell_type": "markdown",
   "metadata": {},
   "source": [
    "### Add triggers to an operation – Post-trigger\n",
    "\n",
    "Post-triggers are the core way that Azure Cosmos DB SQL API can inject business logic after an operations completes and if needed, can have any input parameters.\n",
    "\n",
    "Define the following post-trigger\n",
    "\n",
    "```javascript\n",
    "function createView() \n",
    "{ \n",
    "    var context = getContext(); \n",
    "    var container = context.getCollection(); \n",
    "    var response = context.getResponse(); \n",
    "    var createdItem = response.getBody(); \n",
    "\n",
    "    var viewItem = { \n",
    "        sourceId: createdItem.id,\n",
    "        categoryId: createdItem.categoryId, \n",
    "        displayName: `${createdItem.name} [${createdItem.categoryName}]` \n",
    "    };\n",
    " \n",
    "    var accepted = container.createDocument( \n",
    "        container.getSelfLink(), \n",
    "        viewItem, (\n",
    "            error, newItem) => { if (error) throw error; } \n",
    "        ); \n",
    "\n",
    "    if (!accepted) return; \n",
    "}\n",
    "```\n",
    "\n",
    "When you insert the following item\n",
    "\n",
    "```json\n",
    "{ \n",
    "  \"id\": \"caab0e5e-c037-48a4-a760-140497d19452\", \n",
    "  \"name\": \"Handlebar\", \n",
    "  \"categoryId\": \"e89a34d2-47ee-4da8-bcf6-10f552604b79\",\n",
    "  \"categoryName\": \"Accessories\", \n",
    "  \"price\": 50\n",
    "}\n",
    "```\n",
    "\n",
    "The post-trigger will create this additional item\n",
    "\n",
    "```json\n",
    "{ \n",
    "    \"sourceId\": \"caab0e5e-c037-48a4-a760-140497d19452\", \n",
    "    \"categoryId\": \"e89a34d2-47ee-4da8-bcf6-10f552604b79\", \n",
    "    \"displayName\": \"Handlebar [Accessories]\"\n",
    "}\n",
    "```"
   ]
  },
  {
   "cell_type": "markdown",
   "metadata": {},
   "source": [
    "### Create triggers with the SDK\n",
    "\n",
    "The Scripts property in the Microsoft.Azure.Cosmos.Container class contains a CreateTriggerAsync method that is used to create a new pre/post trigger from code.\n",
    "\n",
    "Define a Pre-trigger"
   ]
  },
  {
   "cell_type": "code",
   "execution_count": null,
   "metadata": {
    "dotnet_interactive": {
     "language": "csharp"
    }
   },
   "outputs": [],
   "source": [
    "string preTrigger = \n",
    "@\"function addLabel() { \n",
    "    var context = getContext(); \n",
    "    var request = context.getRequest();\n",
    " \n",
    "    var pendingItem = request.getBody(); \n",
    "\n",
    "    if (!('label' in pendingItem)) \n",
    "        pendingItem['label'] = 'new'; \n",
    "\n",
    "    request.setBody(pendingItem); \n",
    "}\";\n",
    "\n",
    "TriggerProperties properties = new() \n",
    "{ \n",
    "    Id = \"addLabel\", \n",
    "    Body = preTrigger, \n",
    "    TriggerOperation = TriggerOperation.Create, \n",
    "    TriggerType = TriggerType.Pre \n",
    "};\n",
    "await container.Scripts.CreateTriggerAsync(properties);"
   ]
  },
  {
   "cell_type": "markdown",
   "metadata": {},
   "source": [
    "Define a Post-trigger"
   ]
  },
  {
   "cell_type": "code",
   "execution_count": null,
   "metadata": {
    "dotnet_interactive": {
     "language": "csharp"
    }
   },
   "outputs": [],
   "source": [
    "string postTrigger = \n",
    "@\"function createView() { \n",
    "    var context = getContext(); \n",
    "    var container = context.getCollection(); \n",
    "    var response = context.getResponse(); \n",
    "    var createdItem = response.getBody(); \n",
    "    var viewItem = { \n",
    "        sourceId: createdItem.id, \n",
    "        categoryId: createdItem.categoryId, \n",
    "        displayName: `${createdItem.name} [${createdItem.categoryName}]` };\n",
    "    var accepted = container.createDocument( \n",
    "        container.getSelfLink(), \n",
    "        viewItem, (error, newItem) => { if (error) throw error; } ); \n",
    "    if (!accepted) return; \n",
    "}\";\n",
    "\n",
    "TriggerProperties properties = new() \n",
    "{ \n",
    "    Id = \"createView\", \n",
    "    Body = postTrigger, \n",
    "    TriggerOperation = TriggerOperation.Create, \n",
    "    TriggerType = TriggerType.Post\n",
    "};\n",
    "\n",
    "await container.Scripts.CreateTriggerAsync(properties);\n"
   ]
  },
  {
   "cell_type": "markdown",
   "metadata": {},
   "source": [
    "### Use a trigger in an operation with the SDK\n",
    "\n",
    "When the triggers have been defined and created within the container, you can use them in an operation on the same container."
   ]
  },
  {
   "cell_type": "code",
   "execution_count": null,
   "metadata": {
    "dotnet_interactive": {
     "language": "csharp"
    }
   },
   "outputs": [],
   "source": [
    "ItemRequestOptions options = new() \n",
    "{ \n",
    "    PreTriggers = new List<string> { \"addLabel\" }, \n",
    "    PostTriggers = new List<string> { \"createView\" } \n",
    "};\n",
    "\n",
    "var id = Guid.NewGuid().ToString();\n",
    "\n",
    "Product saddle = new() \n",
    "{ \n",
    "    id = id, \n",
    "    categoryId = \"26C74104-40BC-4541-8EF5-9892F7F03D72\", \n",
    "    name = \"LL Road Seat/Saddle\", \n",
    "    categoryName = \"Horses\",\n",
    "    price = 27.12d, \n",
    "    tags = new string[] { \"brown\", \"weathered\" } \n",
    "};\n",
    "\n",
    "await container.CreateItemAsync(saddle, requestOptions: options);\n",
    "\n",
    "id"
   ]
  },
  {
   "cell_type": "markdown",
   "metadata": {
    "dotnet_interactive": {
     "language": "sql"
    }
   },
   "source": [
    "Validate if the document LABEL has been added:\n",
    "\n",
    "```sql\n",
    "SELECT * FROM c where c.id = \"97f5e49f-9beb-4e2a-af84-eae7a5cf1fc3\"\n",
    "```\n",
    "\n",
    "Validate that an additional document has been created (post trigger \"createView\"). It should contain a displayName\n",
    "\n",
    "```sql\n",
    "SELECT * FROM c where c.sourceId = \"97f5e49f-9beb-4e2a-af84-eae7a5cf1fc3\"\n",
    "```"
   ]
  }
 ],
 "metadata": {
  "kernelspec": {
   "display_name": ".NET (C#)",
   "language": "C#",
   "name": ".net-csharp"
  },
  "language_info": {
   "name": "C#"
  }
 },
 "nbformat": 4,
 "nbformat_minor": 2
}

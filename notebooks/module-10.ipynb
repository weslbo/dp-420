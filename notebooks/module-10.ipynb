{
 "cells": [
  {
   "cell_type": "markdown",
   "metadata": {
    "dotnet_interactive": {
     "language": "csharp"
    }
   },
   "source": [
    "# Module 10: Optimize query and operation performance in Azure Cosmos DB SQL API\n",
    "\n",
    "- [[Learning path]](https://docs.microsoft.com/en-us/learn/paths/optimize-query-performance-azure-cosmos-db-sql-api/?ns-enrollment-type=Collection&ns-enrollment-id=1k8wcz8zooj2nx)\n",
    "- [[Lab]](https://microsoftlearning.github.io/dp-420-cosmos-db-dev/instructions/23-index-optimization.html): Optimize an Azure Cosmos DB SQL API container indexing policy for write operations\n",
    "- [[Lab]](https://microsoftlearning.github.io/dp-420-cosmos-db-dev/instructions/24-query-optimization.html): Optimize an Azure Cosmos DB SQL API container indexing policy for a query"
   ]
  },
  {
   "cell_type": "markdown",
   "metadata": {},
   "source": [
    "## Demo setup"
   ]
  },
  {
   "cell_type": "code",
   "execution_count": null,
   "metadata": {
    "dotnet_interactive": {
     "language": "pwsh"
    }
   },
   "outputs": [],
   "source": [
    "Connect-AzAccount\n",
    "Set-AzContext -Subscription \"b895a719-7034-411a-9944-ff196d1f450f\"\n",
    "$connectionString = (Get-AzCosmosDBAccountKey -ResourceGroupName rg-dp-420 -Name cosmos-dp-420-sql-provisioned -Type \"ConnectionStrings\")[\"Primary SQL Connection String\"]\n",
    "$primaryMasterKey = (Get-AzCosmosDBAccountKey -ResourceGroupName rg-dp-420 -Name cosmos-dp-420-sql-provisioned -Type \"Keys\")[\"PrimaryMasterKey\"]\n",
    "$documentEndpoint = (Get-AzCosmosDBAccount -ResourceGroupName rg-dp-420 -Name cosmos-dp-420-sql-provisioned).DocumentEndpoint"
   ]
  },
  {
   "cell_type": "code",
   "execution_count": null,
   "metadata": {
    "dotnet_interactive": {
     "language": "pwsh"
    }
   },
   "outputs": [],
   "source": [
    "cosmicworks --endpoint $documentEndpoint --key $primaryMasterKey --datasets product"
   ]
  },
  {
   "cell_type": "code",
   "execution_count": null,
   "metadata": {
    "dotnet_interactive": {
     "language": "csharp"
    }
   },
   "outputs": [],
   "source": [
    "#r \"nuget: Newtonsoft.Json, 13.0.1\"\n",
    "#r \"nuget: Microsoft.Azure.Cosmos, 3.26.0-preview\"\n",
    "\n",
    "#!share --from pwsh connectionString\n",
    "#!share --from pwsh primaryMasterKey\n",
    "#!share --from pwsh documentEndpoint"
   ]
  },
  {
   "cell_type": "code",
   "execution_count": null,
   "metadata": {
    "dotnet_interactive": {
     "language": "csharp"
    }
   },
   "outputs": [],
   "source": [
    "using Microsoft.Azure.Cosmos;\n",
    "using System;\n",
    "using System.Collections.Generic;\n",
    "\n",
    "CosmosClient client = new (connectionString);\n",
    "Database database = client.GetDatabase(\"cosmicworks\");\n",
    "Container container = database.GetContainer(\"products\");\n",
    "\n",
    "public class Product\n",
    "{\n",
    "\tpublic string id { get; set; }\n",
    "\tpublic string categoryId { get; set; }\n",
    "\tpublic string categoryName { get; set; }\n",
    "\tpublic string sku { get; set; }\n",
    "\tpublic string name { get; set; }\n",
    "\tpublic string description { get; set; }\n",
    "\tpublic double price { get; set; }\n",
    "}"
   ]
  },
  {
   "cell_type": "markdown",
   "metadata": {},
   "source": [
    "## Optimize indexes in Azure Cosmos DB SQL API"
   ]
  },
  {
   "cell_type": "markdown",
   "metadata": {},
   "source": [
    "### Index usage \n",
    "\n",
    "The query engine will automatically try to use the most efficient method of evaluating filters, index seek, index scan, full scan.\n",
    "\n",
    "| **Method** | **Description** | **RU implication** |\n",
    "| ---: | :--- | :--- |\n",
    "| **Index seek** | The query engine will seek an exact match on a field’s value by traversing directly to that value and looking up how many items match. Once the matched items are determined, the query engine will return the items as the query result. | The RU charge is constant for the lookup. The RU charge for loading and returning items is linear based on the number of items. |\n",
    "| **Index scan** | The query engine will find all possible values for a field and then perform various comparisons only on the values. Once matches are found, the query engine will load and return the items as the query result. | The RU charge is still constant for the lookup, with a slight increase over the index seek based on the cardinality of the indexed properties. The RU charge for loading and returning items is still linear based on the number of items returned. |\n",
    "| **Full scan** | The query engine will load the items, in their entirety, to the transactional store to evaluate the filters. | This type of scan does not use the index; however, the RU charge for loading items is based on the number of items in the entire container. |\n",
    "\n",
    "Suppose the items in the product container are:\n",
    "\n",
    "```javascript\n",
    "[ \n",
    "  { \"id\": \"1\", \"name\": \"Mountain-400-W Silver\", \"price\": 675.55 },\n",
    "  { \"id\": \"2\", \"name\": \"Touring-1000 Blue\", \"price\": 1215.40 },\n",
    "  { \"id\": \"3\", \"name\": \"Road-200 Red\", \"price\": 405.85 } \n",
    "]\n",
    "```\n",
    "\n",
    "![image](https://docs.microsoft.com/en-us/learn/wwl-data-ai/choose-indexes-azure-cosmos-db-sql-api/media/2-inverted-tree-alt.png)\n",
    "\n",
    "How will the index be used with the following queries?\n",
    "\n",
    "```sql\n",
    "SELECT *\n",
    "FROM products p\n",
    "WHERE p.name = 'Touring-1000 Blue'\n",
    "```\n",
    "\n",
    "![image](https://docs.microsoft.com/en-us/learn/wwl-data-ai/choose-indexes-azure-cosmos-db-sql-api/media/2-search-name-equality.png)\n",
    "\n",
    "```sql\n",
    "SELECT *\n",
    "FROM products p\n",
    "WHERE p.name IN ('Road-200 Red', 'Mountain-400-W Silver')\n",
    "```\n",
    "\n",
    "![image](https://docs.microsoft.com/en-us/learn/wwl-data-ai/choose-indexes-azure-cosmos-db-sql-api/media/2-search-name.png)\n",
    "\n",
    "```sql\n",
    "SELECT *\n",
    "FROM products p\n",
    "WHERE\n",
    "    p.price >= 500 AND\n",
    "    p.price <= 1000\n",
    "```\n",
    "\n",
    "![image](https://docs.microsoft.com/en-us/learn/wwl-data-ai/choose-indexes-azure-cosmos-db-sql-api/media/2-search-price-range.png)"
   ]
  },
  {
   "cell_type": "markdown",
   "metadata": {},
   "source": [
    "### Review read-heavy index patterns\n",
    "\n",
    "Read-centric workloads benefit from having an inverted index that includes as many fields as possible to maximize query performance and minimize request unit charges.\n",
    "\n",
    "Consider this sample item in the product container. Consider that the applications querying items on this container never search or filter on the description or metadata properties.\n",
    "\n",
    "```javascript\n",
    "{ \n",
    "    \"id\": \"3324789\", \n",
    "    \"name\": \"Road-200 Green\", \n",
    "    \"price\": 510.55, \n",
    "    \"description\": \"Lorem ipsum dolor sit amet, consectetur adipiscing elit. Cras faucibus, turpis ut pulvinar bibendum, sapien mauris fermentum magna, a tincidunt magna diam tincidunt enim. Fusce convallis justo nulla, at tristique diam tempus vel. Suspendisse potenti. Curabitur rhoncus neque vel elit condimentum finibus. Nullam porta lorem vitae enim tincidunt elementum. Vestibulum id felis sit amet neque commodo scelerisque. Suspendisse euismod ex ut hendrerit eleifend. Quisque euismod consectetur vulputate.\",\n",
    "    \"metadata\": { \"created_by\": \"sdfuouu\", \n",
    "                  \"created_on\": \"2020-05-05T19:21:27.0000000Z\",\n",
    "                  \"department\": \"cycling\", \n",
    "                  \"sku\": \"RD200-G\" \n",
    "                } \n",
    "}\n",
    "```\n",
    "\n",
    "Default indexing policy:\n",
    "\n",
    "```javascript\n",
    "{ \n",
    "  \"indexingMode\": \"consistent\", \n",
    "  \"automatic\": true, \n",
    "  \"includedPaths\": [ { \"path\": \"/*\" } ], \n",
    "  \"excludedPaths\": [ { \"path\": \"/\\\"_etag\\\"/?\" } ] \n",
    "}\n",
    "```\n",
    "\n",
    "Proposed indexing policies:\n",
    "\n",
    "```javascript\n",
    "{ \n",
    "  \"indexingMode\": \"consistent\", \n",
    "  \"automatic\": true, \n",
    "  \"includedPaths\": [ { \"path\": \"/*\" } ], \n",
    "  \"excludedPaths\": [ { \"path\": \"/description/?\" }, \n",
    "                     { \"path\": \"/metadata/*\" } ] \n",
    "}\n",
    "```\n",
    "\n",
    "```javascript\n",
    "{ \n",
    "  \"indexingMode\": \"consistent\", \n",
    "  \"automatic\": true, \n",
    "  \"includedPaths\": [ { \"path\": \"/name/?\" }, \n",
    "                     { \"path\": \"/price/?\" } ], \n",
    "  \"excludedPaths\": [ { \"path\": \"/*\" } ] \n",
    "}\n",
    "```"
   ]
  },
  {
   "cell_type": "markdown",
   "metadata": {},
   "source": [
    "### Review write-heavy index patterns\n",
    "\n",
    "Insert or update operations also make the indexer update the inverted index with data from your newly created or updated item. The more properties you index the more RUs used by the indexer.\n",
    "\n",
    "Consider this sample item in the product container. \n",
    "\n",
    "```javascript\n",
    "{ \n",
    "  \"id\": \"3324734\",\n",
    "  \"name\": \"Road-200 Green\", \n",
    "  \"internal\": { \n",
    "     \"tracking\": { \"id\": \"eac06d51-2462-4bfb-8eb6-46281da16f8e\" } }, \n",
    "  \"inStock\": true, \n",
    "  \"price\": 1303.33, \n",
    "  \"description\": \"Consequat dolore commodo tempor pariatur consectetur fugiat labore velit aliqua ut anim. Et anim eu ea reprehenderit sit ullamco elit irure laborum sunt ea adipisicing eu qui. Officia commodo ad amet ea consectetur ea est fugiat.\",\n",
    "  \"warehouse\": { \"shelfLocations\": [ 20, 37, 35, 27, 38 ] },\n",
    "  \"metadata\": { \"color\": \"brown\", \n",
    "                \"manufacturer\": \"Fabrikam\",\n",
    "                \"supportEmail\": \"support@fabrik.am\", \n",
    "                \"created_by\": \"sdfuouu\", \n",
    "                \"created_on\": \"2020-05-05T19:21:27.0000000Z\",\n",
    "                \"department\": \"cycling\", \n",
    "                \"sku\": \"RD200-B\" }, \n",
    "  \"tags\": [ \"pariatur\", \"et\", \"commodo\", \"ex\", \"tempor\", \"esse\",\n",
    "            \"nisi\", \"ullamco\", \"Lorem\", \"ullamco\", \"ex\", \"ea\",\n",
    "            \"laborum\", \"tempor\", \"consequat\" ] \n",
    "}\n",
    "```\n",
    "\n",
    "Assume the application only uses these two queries\n",
    "\n",
    "```sql\n",
    "SELECT * \n",
    "FROM products p \n",
    "WHERE p.price >= <numeric-value> AND p.price <= <numeric-value>\n",
    "\n",
    "SELECT * \n",
    "FROM products p \n",
    "WHERE p.price = <numeric-value>\n",
    "```\n",
    "\n",
    "Proposed index policy\n",
    "\n",
    "```javascript\n",
    "{ \n",
    "  \"indexingMode\": \"consistent\", \"automatic\": true, \n",
    "  \"includedPaths\": [ { \"path\": \"/price/?\" } ], \n",
    "  \"excludedPaths\": [ { \"path\": \"/*\" } ] \n",
    "}\n",
    "```\n",
    "\n",
    "![image](https://docs.microsoft.com/en-us/learn/wwl-data-ai/choose-indexes-azure-cosmos-db-sql-api/media/4-inverted-tree.png)\n",
    "\n",
    "Suppose your application is write-heavy and only ever does point reads using the id and partition key values. In that case, you can choose to disable indexing entirely using a customized indexing policy.\n",
    "\n",
    "```javascript\n",
    "{\n",
    "  \"indexingMode\": \"none\",\n",
    "}\n",
    "```"
   ]
  },
  {
   "cell_type": "markdown",
   "metadata": {},
   "source": [
    "## Measure index performance in Azure Cosmos DB SQL API"
   ]
  },
  {
   "cell_type": "markdown",
   "metadata": {},
   "source": [
    "### Enable indexing metrics\n",
    "\n",
    "Azure Cosmos DB SQL API includes opt-in indexing metrics that illuminate how the current state of the index affects your query filters."
   ]
  },
  {
   "cell_type": "code",
   "execution_count": null,
   "metadata": {
    "dotnet_interactive": {
     "language": "csharp"
    }
   },
   "outputs": [],
   "source": [
    "Container container = client.GetContainer(\"cosmicworks\", \"products\");\n",
    " \n",
    "string sql = \"SELECT * FROM products p\"; \n",
    "\n",
    "QueryDefinition query = new(sql); \n",
    "\n",
    "//  PopulateIndexMetrics is disabled by default, enable it if troubleshooting query performance or are unsure how to modify your indexing policy.\n",
    "QueryRequestOptions options = new() \n",
    "{ \n",
    "   PopulateIndexMetrics = true \n",
    "};\n",
    "\n",
    "FeedIterator<Product> iterator = container.GetItemQueryIterator<Product>(query, requestOptions: options);\n",
    "\n",
    "while(iterator.HasMoreResults) \n",
    "{ \n",
    "    FeedResponse<Product> response = await iterator.ReadNextAsync(); \n",
    "    foreach(Product product in response) \n",
    "    { \n",
    "        product.price++;\n",
    "        //Console.WriteLine($\"[{product.id}]\\t{product.name,35}\\t{product.price,15:C}\"); \n",
    "    } \n",
    "\n",
    "    //  Do something with the metrics, in this example, we are sending it to the console output.\n",
    "    Console.WriteLine(response.IndexMetrics);\n",
    "}"
   ]
  },
  {
   "cell_type": "markdown",
   "metadata": {},
   "source": [
    "### Analyze indexing metrics results\n",
    "\n",
    "Assume we are using the default index policy for the following queries.\n",
    "\n",
    "```sql\n",
    "SELECT * \n",
    "FROM products p \n",
    "WHERE p.price > 500\n",
    "```"
   ]
  },
  {
   "cell_type": "code",
   "execution_count": null,
   "metadata": {
    "dotnet_interactive": {
     "language": "csharp"
    }
   },
   "outputs": [],
   "source": [
    "QueryDefinition query = new(\"SELECT * FROM products p WHERE p.price > 500\"); \n",
    "\n",
    "//  PopulateIndexMetrics is disabled by default, enable it if troubleshooting query performance or are unsure how to modify your indexing policy.\n",
    "QueryRequestOptions options = new() \n",
    "{ \n",
    "   PopulateIndexMetrics = true \n",
    "};\n",
    "\n",
    "FeedIterator<Product> iterator = container.GetItemQueryIterator<Product>(query, requestOptions: options);\n",
    "\n",
    "while(iterator.HasMoreResults) \n",
    "{ \n",
    "    FeedResponse<Product> response = await iterator.ReadNextAsync(); \n",
    "    foreach(Product product in response) \n",
    "    { \n",
    "        product.price++;\n",
    "        //Console.WriteLine($\"[{product.id}]\\t{product.name,35}\\t{product.price,15:C}\"); \n",
    "    } \n",
    "\n",
    "    //  Do something with the metrics, in this example, we are sending it to the console output.\n",
    "    Console.WriteLine(response.IndexMetrics);\n",
    "}"
   ]
  },
  {
   "cell_type": "markdown",
   "metadata": {},
   "source": [
    "Another query:\n",
    "\n",
    "```sql\n",
    "SELECT * \n",
    "FROM products p \n",
    "WHERE p.price > 500 \n",
    "    AND startsWith(p.name, 'Touring')\n",
    "```"
   ]
  },
  {
   "cell_type": "code",
   "execution_count": null,
   "metadata": {
    "dotnet_interactive": {
     "language": "csharp"
    }
   },
   "outputs": [],
   "source": [
    "QueryDefinition query = new(\"SELECT * FROM products p WHERE p.price > 500 AND startsWith(p.name, 'Touring')\"); \n",
    "\n",
    "//  PopulateIndexMetrics is disabled by default, enable it if troubleshooting query performance or are unsure how to modify your indexing policy.\n",
    "QueryRequestOptions options = new() \n",
    "{ \n",
    "   PopulateIndexMetrics = true \n",
    "};\n",
    "\n",
    "FeedIterator<Product> iterator = container.GetItemQueryIterator<Product>(query, requestOptions: options);\n",
    "\n",
    "while(iterator.HasMoreResults) \n",
    "{ \n",
    "    FeedResponse<Product> response = await iterator.ReadNextAsync(); \n",
    "    foreach(Product product in response) \n",
    "    { \n",
    "        product.price++;\n",
    "        //Console.WriteLine($\"[{product.id}]\\t{product.name,35}\\t{product.price,15:C}\"); \n",
    "    } \n",
    "\n",
    "    //  Do something with the metrics, in this example, we are sending it to the console output.\n",
    "    Console.WriteLine(response.IndexMetrics);\n",
    "}"
   ]
  },
  {
   "cell_type": "markdown",
   "metadata": {},
   "source": [
    "### Analyze indexing metrics results – composite indexes\n",
    "\n",
    "The indexing metrics could recommend we create a composite index.\n",
    "\n",
    "```sql\n",
    "SELECT * \n",
    "FROM products p \n",
    "WHERE p.price > 500 \n",
    "    AND p.categoryName = 'Bikes, Touring Bikes'\n",
    "```"
   ]
  },
  {
   "cell_type": "code",
   "execution_count": null,
   "metadata": {
    "dotnet_interactive": {
     "language": "csharp"
    }
   },
   "outputs": [],
   "source": [
    "QueryDefinition query = new(\"SELECT * FROM products p WHERE p.price > 500 AND p.categoryName = 'Bikes, Touring Bikes'\"); \n",
    "\n",
    "//  PopulateIndexMetrics is disabled by default, enable it if troubleshooting query performance or are unsure how to modify your indexing policy.\n",
    "QueryRequestOptions options = new() \n",
    "{ \n",
    "   PopulateIndexMetrics = true \n",
    "};\n",
    "\n",
    "FeedIterator<Product> iterator = container.GetItemQueryIterator<Product>(query, requestOptions: options);\n",
    "\n",
    "while(iterator.HasMoreResults) \n",
    "{ \n",
    "    FeedResponse<Product> response = await iterator.ReadNextAsync(); \n",
    "    foreach(Product product in response) \n",
    "    { \n",
    "        product.price++;\n",
    "        //Console.WriteLine($\"[{product.id}]\\t{product.name,35}\\t{product.price,15:C}\"); \n",
    "    } \n",
    "\n",
    "    //  Do something with the metrics, in this example, we are sending it to the console output.\n",
    "    Console.WriteLine(response.IndexMetrics);\n",
    "}"
   ]
  },
  {
   "cell_type": "markdown",
   "metadata": {
    "dotnet_interactive": {
     "language": "csharp"
    }
   },
   "source": [
    "Add the potential composite index and run the query again.\n",
    "\n",
    "```javascript\n",
    "{ \n",
    "  \"indexingMode\": \"consistent\", \"automatic\": true, \n",
    "  \"includedPaths\": [ { \"path\": \"/*\" } ], \n",
    "  \"excludedPaths\": [ { \"path\": \"/\\\"_etag\\\"/?\" } ],\n",
    "  \"compositeIndexes\": \n",
    "  [ [ { \"path\": \"/categoryName\", \"order\": \"ascending\" }, \n",
    "      { \"path\": \"/price\", \"order\": \"ascending\" } \n",
    "  ] ] \n",
    "} \n",
    "```"
   ]
  },
  {
   "cell_type": "code",
   "execution_count": null,
   "metadata": {
    "dotnet_interactive": {
     "language": "csharp"
    }
   },
   "outputs": [],
   "source": [
    "// Add a composite index\n",
    "using System.Collections.ObjectModel;\n",
    "\n",
    "IndexingPolicy policy = new () \n",
    "{ \n",
    "    IndexingMode = IndexingMode.Consistent, \n",
    "    Automatic = true \n",
    "};\n",
    "\n",
    "policy.IncludedPaths.Add( new IncludedPath{ Path = \"/*\" } ); \n",
    "policy.ExcludedPaths.Add( new ExcludedPath{ Path = \"/_etag/?\" } );\n",
    "policy.CompositeIndexes.Add(new Collection<CompositePath> {\n",
    "    new CompositePath() { Path = \"/categoryName\", Order = CompositePathSortOrder.Ascending }, \n",
    "    new CompositePath() { Path = \"/price\", Order = CompositePathSortOrder.Ascending }\n",
    "});\n",
    "\n",
    "ContainerProperties options = new () { \n",
    "    Id = \"products\", \n",
    "    PartitionKeyPath = \"/categoryId\", \n",
    "    IndexingPolicy = policy }; \n",
    "\n",
    "await container.ReplaceContainerAsync(options);"
   ]
  },
  {
   "cell_type": "markdown",
   "metadata": {},
   "source": [
    "Run the query one more time and validate it the **\"Utilized Composite Indexes\"**"
   ]
  },
  {
   "cell_type": "code",
   "execution_count": null,
   "metadata": {
    "dotnet_interactive": {
     "language": "csharp"
    }
   },
   "outputs": [],
   "source": [
    "QueryDefinition query = new(\"SELECT * FROM products p WHERE p.price > 500 AND p.categoryName = 'Bikes, Touring Bikes'\"); \n",
    "\n",
    "//  PopulateIndexMetrics is disabled by default, enable it if troubleshooting query performance or are unsure how to modify your indexing policy.\n",
    "QueryRequestOptions options = new() \n",
    "{ \n",
    "   PopulateIndexMetrics = true \n",
    "};\n",
    "\n",
    "FeedIterator<Product> iterator = container.GetItemQueryIterator<Product>(query, requestOptions: options);\n",
    "\n",
    "while(iterator.HasMoreResults) \n",
    "{ \n",
    "    FeedResponse<Product> response = await iterator.ReadNextAsync(); \n",
    "    foreach(Product product in response) \n",
    "    { \n",
    "        product.price++;\n",
    "        //Console.WriteLine($\"[{product.id}]\\t{product.name,35}\\t{product.price,15:C}\"); \n",
    "    } \n",
    "\n",
    "    //  Do something with the metrics, in this example, we are sending it to the console output.\n",
    "    Console.WriteLine(response.IndexMetrics);\n",
    "}"
   ]
  },
  {
   "cell_type": "markdown",
   "metadata": {},
   "source": [
    "### Measure query cost\n",
    "\n",
    "The **QueryRequestOptions** class is also helpful in measuring the cost of a query in RU/s."
   ]
  },
  {
   "cell_type": "code",
   "execution_count": null,
   "metadata": {
    "dotnet_interactive": {
     "language": "csharp"
    }
   },
   "outputs": [],
   "source": [
    "Container container = client.GetContainer(\"cosmicworks\", \"products\");\n",
    " string sql = \"SELECT * FROM products p\"; \n",
    "QueryDefinition query = new(sql); \n",
    "\n",
    "// Set the MaxItemCount property of the QueryRequestOptions class to the number // of items you would like to return in each result page.\n",
    "QueryRequestOptions options = new() \n",
    "{ \n",
    "   MaxItemCount = 25 \n",
    "};\n",
    "\n",
    "FeedIterator<Product> iterator = container.GetItemQueryIterator<Product>(query, requestOptions: options);\n",
    "\n",
    "double totalRUs = 0; \n",
    "\n",
    "while(iterator.HasMoreResults) \n",
    "{ \n",
    "    FeedResponse<Product> response = await iterator.ReadNextAsync(); \n",
    "    foreach(Product product in response) \n",
    "    {  // Do something with each product \n",
    "    } \n",
    "    //  Outputs the RU/s cost for returning every 25-item iteration.\n",
    "    Console.WriteLine($\"RU/s:\\t\\t{response.RequestCharge:0.00}\");\n",
    "    totalRUs += response.RequestCharge;\n",
    "}\n",
    "\n",
    "//  Returns the total RU/s cost of returning all items in the container..\n",
    "Console.WriteLine($\"Total RUs:\\t{totalRUs:0.00}\");\n"
   ]
  },
  {
   "cell_type": "markdown",
   "metadata": {},
   "source": [
    "### Measure point operation cost\n",
    "\n",
    "You can also use the .NET SDK to measure the cost, in RU/s, of individual operations."
   ]
  },
  {
   "cell_type": "code",
   "execution_count": null,
   "metadata": {
    "dotnet_interactive": {
     "language": "csharp"
    }
   },
   "outputs": [],
   "source": [
    "Container container = client.GetContainer(\"cosmicworks\", \"products\"); \n",
    "\n",
    "Product item = new() \n",
    "{ \n",
    "    id = $\"{Guid.NewGuid()}\", \n",
    "    categoryId = \"26C74104-40BC-4541-8EF5-9892F7F03D72\", \n",
    "    name = \"LL Road Seat/Saddle\", \n",
    "    price = 27.12d\n",
    "};\n",
    "\n",
    "ItemResponse<Product> response = await container.CreateItemAsync<Product>(item);\n",
    "\n",
    "Product createdItem = response.Resource;\n",
    "\n",
    "Console.WriteLine($\"RUs:\\t{response.RequestCharge:0.00}\");\n"
   ]
  },
  {
   "cell_type": "markdown",
   "metadata": {},
   "source": [
    "## Implement integrated cache"
   ]
  },
  {
   "cell_type": "markdown",
   "metadata": {},
   "source": [
    "### Review workloads that benefit from the cache\n",
    "\n",
    "Workloads that consistently perform the same point read and query operations are ideal to use with the integrated cache.\n",
    "\n",
    "- Workloads with far more read operations and queries than write operations\n",
    "- Workloads that read large individual items multiple times\n",
    "- Workloads that execute queries multiple times with a large amount of RU/s\n",
    "- Workloads that have hot partition key[s] for read operations and queries"
   ]
  },
  {
   "cell_type": "markdown",
   "metadata": {},
   "source": [
    "### Enable integrated cache – Create a dedicated gateway\n",
    "\n",
    "First step, Create a dedicated gateway in your Azure Cosmos DB SQL API account.\n",
    "\n",
    "![image](https://docs.microsoft.com/en-us/learn/wwl-data-ai/implement-integrated-cache/media/3-dedicated-gateway-config.png)\n",
    "\n",
    "Get the connection string for the gateway\n",
    "\n",
    "![image](https://docs.microsoft.com/en-us/learn/wwl-data-ai/implement-integrated-cache/media/3-connection-string.png)"
   ]
  },
  {
   "cell_type": "markdown",
   "metadata": {},
   "source": [
    "![image](https://docs.microsoft.com/en-us/azure/cosmos-db/media/dedicated-gateway/dedicated-gateway-mode.png)\n",
    "\n",
    "The dedicated gateway has the following limitations during the public preview:\n",
    "\n",
    "- Dedicated gateways are only supported on SQL API accounts.\n",
    "- You can't provision a dedicated gateway in Azure Cosmos DB accounts with IP firewalls or Private Link configured.\n",
    "- You can't provision a dedicated gateway in an Azure Cosmos DB account in a Virtual Network (Vnet)\n",
    "- You can't provision a dedicated gateway in Azure Cosmos DB accounts with availability zones.\n",
    "- You can't use role-based access control (RBAC) to authenticate data plane requests routed through the dedicated gateway"
   ]
  },
  {
   "cell_type": "markdown",
   "metadata": {},
   "source": [
    "### Enable integrated cache – Update .NET SDK code\n",
    "\n",
    "For the .NET SDK client to use the integrated cache you need the following changes:\n",
    "\n",
    "- The client uses the dedicated gateway connection string instead of the typical connection string\n",
    "(\"AccountEndpoint=https://<cosmos-account-name>.sqlx.cosmos.azure.com/;AccountKey=<cosmos-key>;\")\n",
    "\n",
    "- The client’s consistency level must be set to session or eventual\n",
    "\n",
    "The integrated cache has two parts:\n",
    "\n",
    "- An item cache for point reads\n",
    "- A query cache for queries"
   ]
  },
  {
   "cell_type": "code",
   "execution_count": null,
   "metadata": {
    "dotnet_interactive": {
     "language": "pwsh"
    }
   },
   "outputs": [],
   "source": [
    "$dedicatedConnectionString = (Get-AzCosmosDBAccountKey -ResourceGroupName rg-dp-420 -Name cosmos-dp-420-sql-provisioned -Type \"ConnectionStrings\")[\"Primary Sql Dedicated Gateway Connection String\"]\n",
    "$dedicatedConnectionString"
   ]
  },
  {
   "cell_type": "code",
   "execution_count": null,
   "metadata": {
    "dotnet_interactive": {
     "language": "csharp"
    }
   },
   "outputs": [],
   "source": [
    "#!share --from pwsh dedicatedConnectionString\n",
    "\n",
    "// The client is configured to use Gateway mode instead of the default Direct connectivity mode\n",
    "CosmosClientOptions options = new() \n",
    "{ \n",
    "    ConnectionMode = ConnectionMode.Gateway \n",
    "}; \n",
    "\n",
    "CosmosClient client = new (dedicatedConnectionString, options);\n",
    "\n",
    "// The client’s consistency level must be set to session or eventual\n",
    "QueryDefinition query = new(\"SELECT * FROM products\"); \n",
    "\n",
    "// Set the ConsistencyLevel property of the QueryRequestOptions class to ConsistencyLevel.Session or ConsistencyLevel.Eventual.\n",
    "QueryRequestOptions queryOptions = new() \n",
    "{ \n",
    "   ConsistencyLevel = ConsistencyLevel.Eventual \n",
    "};\n",
    " \n",
    "FeedIterator<Product> iterator = container.GetItemQueryIterator<Product>(query, requestOptions: queryOptions);\n",
    "\n",
    "double totalRUs = 0; \n",
    "\n",
    "while(iterator.HasMoreResults) \n",
    "{ \n",
    "    FeedResponse<Product> response = await iterator.ReadNextAsync(); \n",
    "    foreach(Product product in response) \n",
    "    {  \n",
    "        // Do something with each product \n",
    "        product.price++;\n",
    "    } \n",
    "    //  Outputs the RU/s cost for returning every 25-item iteration.\n",
    "    Console.WriteLine($\"RU/s:\\t\\t{response.RequestCharge:0.00}\");\n",
    "    totalRUs += response.RequestCharge;\n",
    "}\n",
    "\n",
    "//  Returns the total RU/s cost of returning all items in the container..\n",
    "Console.WriteLine($\"Total RUs:\\t{totalRUs:0.00}\");"
   ]
  },
  {
   "cell_type": "markdown",
   "metadata": {},
   "source": [
    "Finally, you can restart your application and verify integrated cache hits for repeated point reads or queries.\n",
    "\n",
    "### Configure cache staleness\n",
    "\n",
    "By default, the cache will keep data for five minutes. This staleness window can be configured using the MaxIntegratedCacheStaleness property in the SDK.\n",
    "\n",
    "Note: Customizing MaxIntegratedCacheStaleness is only supported in the latest .NET and Java preview SDK's."
   ]
  },
  {
   "cell_type": "code",
   "execution_count": null,
   "metadata": {
    "dotnet_interactive": {
     "language": "csharp"
    }
   },
   "outputs": [],
   "source": [
    "QueryRequestOptions queryOptions = new() \n",
    "{ \n",
    "    ConsistencyLevel = ConsistencyLevel.Eventual,\n",
    "    \n",
    "    DedicatedGatewayRequestOptions = new() \n",
    "    { \n",
    "        MaxIntegratedCacheStaleness = TimeSpan.FromSeconds(20)\n",
    "    } \n",
    "};\n",
    "\n",
    "QueryDefinition query = new(\"SELECT * FROM products\"); \n",
    "\n",
    "FeedIterator<Product> iterator = container.GetItemQueryIterator<Product>(query, requestOptions: queryOptions);\n",
    "\n",
    "double totalRUs = 0; \n",
    "\n",
    "while(iterator.HasMoreResults) \n",
    "{ \n",
    "    FeedResponse<Product> response = await iterator.ReadNextAsync(); \n",
    "    foreach(Product product in response) \n",
    "    {  // Do something with each product \n",
    "    } \n",
    "    //  Outputs the RU/s cost for returning every 25-item iteration.\n",
    "    Console.WriteLine($\"RU/s:\\t\\t{response.RequestCharge:0.00}\");\n",
    "    totalRUs += response.RequestCharge;\n",
    "}\n",
    "\n",
    "//  Returns the total RU/s cost of returning all items in the container..\n",
    "Console.WriteLine($\"Total RUs:\\t{totalRUs:0.00}\");"
   ]
  }
 ],
 "metadata": {
  "kernelspec": {
   "display_name": ".NET (C#)",
   "language": "C#",
   "name": ".net-csharp"
  },
  "language_info": {
   "name": "C#"
  }
 },
 "nbformat": 4,
 "nbformat_minor": 2
}

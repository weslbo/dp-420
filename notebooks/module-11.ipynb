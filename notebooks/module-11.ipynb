{
 "cells": [
  {
   "cell_type": "markdown",
   "metadata": {
    "dotnet_interactive": {
     "language": "csharp"
    }
   },
   "source": [
    "# Module 11: Monitor and troubleshoot an Azure Cosmos DB SQL API solution\n",
    "\n",
    "- [[Learning path]](https://docs.microsoft.com/en-us/learn/paths/monitor-troubleshoot-azure-cosmos-db-sql-api-solution/?ns-enrollment-type=Collection&ns-enrollment-id=1k8wcz8zooj2nx)\n",
    "- [[Lab]](https://microsoftlearning.github.io/dp-420-cosmos-db-dev/instructions/25-monitor.html): Use Azure Monitor to analyze an Azure Cosmos DB SQL API account\n",
    "- [[Lab]](https://microsoftlearning.github.io/dp-420-cosmos-db-dev/instructions/26-sdk-troubleshoot.html): Troubleshoot an application using the Azure Cosmos DB SQL API SDK\n",
    "- [[Lab]](https://microsoftlearning.github.io/dp-420-cosmos-db-dev/instructions/28-key-vault.html): Store Azure Cosmos DB SQL API account keys in Azure Key Vault"
   ]
  },
  {
   "cell_type": "markdown",
   "metadata": {},
   "source": [
    "## Demo setup"
   ]
  },
  {
   "cell_type": "code",
   "execution_count": null,
   "metadata": {
    "dotnet_interactive": {
     "language": "pwsh"
    },
    "vscode": {
     "languageId": "dotnet-interactive.pwsh"
    }
   },
   "outputs": [],
   "source": [
    "Connect-AzAccount\n",
    "Set-AzContext -Subscription \"b895a719-7034-411a-9944-ff196d1f450f\"\n",
    "$connectionString = (Get-AzCosmosDBAccountKey -ResourceGroupName rg-dp-420 -Name cosmos-dp-420-sql-provisioned -Type \"ConnectionStrings\")[\"Primary SQL Connection String\"]\n",
    "$primaryMasterKey = (Get-AzCosmosDBAccountKey -ResourceGroupName rg-dp-420 -Name cosmos-dp-420-sql-provisioned -Type \"Keys\")[\"PrimaryMasterKey\"]\n",
    "$documentEndpoint = (Get-AzCosmosDBAccount -ResourceGroupName rg-dp-420 -Name cosmos-dp-420-sql-provisioned).DocumentEndpoint"
   ]
  },
  {
   "cell_type": "code",
   "execution_count": null,
   "metadata": {
    "dotnet_interactive": {
     "language": "csharp"
    },
    "vscode": {
     "languageId": "dotnet-interactive.csharp"
    }
   },
   "outputs": [],
   "source": [
    "#r \"nuget: Newtonsoft.Json, 13.0.1\"\n",
    "#r \"nuget: Microsoft.Azure.Cosmos, 3.26.0-preview\"\n",
    "#r \"nuget: Azure.Identity, 1.5.0\"\n",
    "#r \"nuget:Microsoft.DotNet.Interactive.Kql,*-*\"\n",
    "\n",
    "#!share --from pwsh connectionString\n",
    "#!share --from pwsh primaryMasterKey\n",
    "#!share --from pwsh documentEndpoint"
   ]
  },
  {
   "cell_type": "markdown",
   "metadata": {},
   "source": [
    "## Measure performance in Azure Cosmos DB SQL API"
   ]
  },
  {
   "cell_type": "markdown",
   "metadata": {},
   "source": [
    "### Understand Azure Monitor\n",
    "\n",
    "Azure Monitor is used to monitor the Azure resource availability, performance, and operations metrics.\n",
    "\n",
    "![image](https://docs.microsoft.com/en-us/learn/wwl-data-ai/measure-performance-azure-cosmos-db-sql-api/media/2-monitor-cosmos-db.png)"
   ]
  },
  {
   "cell_type": "markdown",
   "metadata": {},
   "source": [
    "### Measure throughput\n",
    "\n",
    "The Total Request Units metric can then be used to analyze those operations with the highest throughput.\n",
    "\n",
    "View the Total Request Unit metrics:\n",
    "\n",
    "![image](https://docs.microsoft.com/en-us/learn/wwl-data-ai/measure-performance-azure-cosmos-db-sql-api/media/3-monitor-total-request-units.png)\n",
    "\n",
    "Filter the Total Request Units further:\n",
    "\n",
    "![image](https://docs.microsoft.com/en-us/learn/wwl-data-ai/measure-performance-azure-cosmos-db-sql-api/media/3-monitor-total-request-units-filter.png)"
   ]
  },
  {
   "cell_type": "markdown",
   "metadata": {},
   "source": [
    "### Observe rate-limiting events\n",
    "\n",
    "There are three main reasons why we get a 429 exception:\n",
    "- Request rate is large.\n",
    "- The request did not complete due to a high rate of metadata requests.\n",
    "- The request did not complete due to a transient service error.\n",
    "\n",
    "Review the Insights-Request charts for 429s\n",
    "\n",
    "![image](https://docs.microsoft.com/en-us/learn/wwl-data-ai/measure-performance-azure-cosmos-db-sql-api/media/4-monitor-429-exception.png)\n",
    "\n",
    "Review the Insights-Request charts for hot partitions \n",
    "\n",
    "![image](https://docs.microsoft.com/en-us/learn/wwl-data-ai/measure-performance-azure-cosmos-db-sql-api/media/4-monitor-hot-partition.png)"
   ]
  },
  {
   "cell_type": "markdown",
   "metadata": {},
   "source": [
    "### Query logs\n",
    "\n",
    "Diagnostics settings are used to collect Azure Diagnostic Logs  produced by Azure resources. These logs provide detailed resource operational data.\n",
    "\n",
    "Create Azure Cosmos DB diagnostics settings\n",
    "\n",
    "![image](https://docs.microsoft.com/en-us/learn/wwl-data-ai/measure-performance-azure-cosmos-db-sql-api/media/5-monitor-diagnostics-settings.png)\n",
    "\n",
    "Query that returns the count and the total request charged of the different Azure Cosmos DB operation types in the last hour.\n",
    "\n",
    "```kusto\n",
    "AzureDiagnostics \n",
    "| where TimeGenerated >= ago(1h)\n",
    "| where ResourceProvider==\"MICROSOFT.DOCUMENTDB\" and Category==\"DataPlaneRequests\" \n",
    "| summarize OperationCount = count(), TotalRequestCharged=sum(todouble(requestCharge_s)) by OperationName\n",
    "| order by TotalRequestCharged desc\n",
    "\n",
    "\n",
    "CDBDataPlaneRequests\n",
    "| where TimeGenerated >= ago(1h)\n",
    "| summarize OperationCount = count(), TotalRequestCharged=sum(todouble(RequestCharge)) by OperationName\n",
    "| order by TotalRequestCharged desc \n",
    "```\n",
    "\n",
    "Create a query that returns a timechart graph for all successful (status 200) and rate limited (status 429) request in the last hour. The requests will be aggregated every 10 minutes.\n",
    "\n",
    "```kusto\n",
    "AzureDiagnostics \n",
    "| where TimeGenerated >= ago(1h)\n",
    "| where ResourceProvider==\"MICROSOFT.DOCUMENTDB\" and Category==\"DataPlaneRequests\" \n",
    "| summarize requestcount=count() by statusCode_s, bin(TimeGenerated, 10m)\n",
    "| render timechart\n",
    "\n",
    "\n",
    "CDBDataPlaneRequests \n",
    "| where TimeGenerated >= ago(2h)\n",
    "| summarize requestcount=count() by StatusCode, bin(TimeGenerated, 10m)\n",
    "| render timechart \n",
    "```"
   ]
  },
  {
   "cell_type": "markdown",
   "metadata": {},
   "source": [
    "## Monitor responses and events in Azure Cosmos DB SQL API"
   ]
  },
  {
   "cell_type": "markdown",
   "metadata": {},
   "source": [
    "### Review common response codes\n",
    "\n",
    "| **Status Code** | **Name** | **Description** |\n",
    "| :--- | :--- | :--- |\n",
    "| **200** | OK | List, Get, Replace, Patch, Query -> The operation was successful. |\n",
    "| **201** | Created | The operation was successful. |\n",
    "| **204** | No Content |The delete operation was successful. |\n",
    "| **304** | Not Modified |The document requested wasn't modified since the specified eTag value in the If-Match header. The service returns an empty response body. |\n",
    "| **400** | Bad Request | The JSON body is invalid. Check for missing curly brackets or quotes. |\n",
    "| **403** | Forbidden | The operation couldn't be completed because the storage limit of the partition has been reached. |\n",
    "| **404** | Not Found | The document no longer exists, that is, the document was deleted. |\n",
    "| **408** | Request timeout | The operation did not complete within the allotted amount of time. This code is returned when a stored procedure, trigger, or UDF (within a query) does not complete execution within the maximum execution time. |\n",
    "| **409** | Conflict | The `id` provided for the new document has been taken by an existing document. |\n",
    "| **413** | Entity Too Large | The document size in the request exceeded the allowable document size in a request. |\n",
    "| **429** | Too many requests | The collection has exceeded the provisioned throughput limit. Retry the request after the server specified retry after duration. For more information, see request units. |\n",
    "| **500** | Internal Server Error | The operation failed because of an unexpected service error. Contact support.  |\n",
    "| **503** | Service Unavailable | The operation couldn't be completed because the service was unavailable. This situation could happen because of network connectivity or service availability issues. It's safe to retry the operation. If the issue persists, contact support.|"
   ]
  },
  {
   "cell_type": "markdown",
   "metadata": {},
   "source": [
    "### Understand transient errors\n",
    "\n",
    "We can identify and troubleshoot Azure Cosmos DB service unavailable exceptions when our request returns status code 503. \n",
    "\n",
    "- Required ports are blocked: Verify that the following ports are enabled for the SQL API.\n",
    "\n",
    "| **Connection mode** | **Supported protocol** | **Supported SDKs** | **API/Service port** |\n",
    "| :--- | :--- | :--- | :--- |\n",
    "| Gateway | HTTPS | All SDKs | SQL (443) |\n",
    "| Direct | TCP | .NET SDK, Java SDK | When using public/service endpoints: ports in the 10000 through 20000 range. When using private endpoints: ports in the 0 through 65535 range |\n",
    "\n",
    "- Client-side transient connectivity issues\n",
    "\n",
    "```csharp\n",
    "TransportException: A client transport error occurred: The request timed out while waiting for a server response. \n",
    "(Time: xxx, activity ID: xxx, error code: ReceiveTimeout [0x0010], base error: HRESULT 0x80131500\n",
    "```\n",
    "\n",
    "- Service Outage: Check the [Azure status](https://status.azure.com/status) page to see if there's an ongoing issue.\n"
   ]
  },
  {
   "cell_type": "markdown",
   "metadata": {},
   "source": [
    "### Review rate limiting errors\n",
    "\n",
    "Requests return status code 429 for the exception request rate too large status code, indicating that your requests against Azure Cosmos DB are being rate-limited.\n",
    "\n",
    "```kusto\n",
    "AzureDiagnostics\n",
    "| where TimeGenerated >= ago(24h)\n",
    "| where Category == \"DataPlaneRequests\"\n",
    "| summarize throttledOperations = dcountif(activityId_g, statusCode_s == 429), totalOperations = dcount(activityId_g), totalConsumedRUPerMinute = sum(todouble(requestCharge_s)) by databaseName_s, collectionName_s, OperationName, requestResourceType_s, bin(TimeGenerated, 1min)\n",
    "| extend averageRUPerOperation = 1.0 * totalConsumedRUPerMinute / totalOperations \n",
    "| extend fractionOf429s = 1.0 * throttledOperations / totalOperations\n",
    "| order by fractionOf429s desc\n",
    "```\n",
    "\n",
    "Rate-limiting due to transient service error: Retrying the request is the only recommended solution."
   ]
  },
  {
   "cell_type": "markdown",
   "metadata": {},
   "source": [
    "### Configure Alerts\n",
    "\n",
    "Azure Cosmos DB uses the Azure Monitor Service to set up and send alerts.\n",
    "\n",
    "![image](https://docs.microsoft.com/en-us/azure/cosmos-db/media/create-alerts/configure-alert-logic.png)\n",
    "\n",
    "Here's an example of an alert that will trigger if the storage for a logical partition key exceeds 70% of the 20 GB limit (has more than 14 GB of storage)\n",
    "\n",
    "![image](https://docs.microsoft.com/en-us/azure/cosmos-db/media/how-to-alert-on-logical-partition-key-storage-size/alert-signal-logic.png)"
   ]
  },
  {
   "cell_type": "markdown",
   "metadata": {},
   "source": [
    "### Audit security\n",
    "\n",
    "Activity logs, which are automatically available, contain all write operations (PUT, POST, DELETE) for your Cosmos DB resources except read operations (GET).\n",
    "\n",
    "![image](https://docs.microsoft.com/en-us/learn/wwl-data-ai/monitor-responses-events-azure-cosmos-db-sql-api/media/6-activity-log.png)"
   ]
  },
  {
   "cell_type": "markdown",
   "metadata": {},
   "source": [
    "## Implementing backup and restore for Azure Cosmos DB SQL API"
   ]
  },
  {
   "cell_type": "markdown",
   "metadata": {},
   "source": [
    "### Evaluate periodic backup\n",
    "\n",
    "Azure Cosmos DB takes automatic backups of your data at regular periodic intervals.\n",
    "\n",
    "Backup Storage Redundancy\n",
    "- Geo-redundant\n",
    "- Zone-redundant\n",
    "- Locally redundant\n",
    "\n",
    "Change the default backup interval and retention period\n",
    "- Backup Interval\n",
    "- Backup Retention\n",
    "- Backup storage redundancy\n",
    "\n",
    "![image](https://docs.microsoft.com/en-us/azure/cosmos-db/media/configure-periodic-backup-restore/configure-backup-options-existing-accounts.png)\n",
    "\n",
    "To request to restore a backup\n",
    "- Open a request ticket or call the Azure support team.\n",
    "\n",
    "![image](https://docs.microsoft.com/en-us/azure/cosmos-db/media/configure-periodic-backup-restore/backup-support-request-portal.png)\n",
    "\n",
    "Consider restoring a backup when you...\n",
    "- Delete the entire Azure Cosmos DB account.\n",
    "- Delete one or more Azure Cosmos DB databases.\n",
    "- Delete one or more Azure Cosmos DB containers.\n",
    "- Delete or modify the Azure Cosmos DB items within a container. This specific case is typically - referred to as data corruption.\n",
    "\n",
    "Costs of Extra backups:\n",
    "- Two backups included with the account for free.\n",
    "- Extra backups will be charged on a region-based backup-storing pricing. \n",
    "\n",
    "Manage your own backups:\n",
    "- Azure Data Factory\n",
    "- Change feed"
   ]
  },
  {
   "cell_type": "markdown",
   "metadata": {},
   "source": [
    "### Configure continuous backup and recovery\n",
    "\n",
    "When using the continuous backups mode, backups are continuously taken in every region where the Azure Cosmos DB account exists.\n",
    "\n",
    "![image](https://docs.microsoft.com/en-us/azure/cosmos-db/media/migrate-continuous-backup/enable-backup-migration.png)\n",
    "\n",
    "Backup Storage Redundancy\n",
    "- Locally redundant by default\n",
    "- Zone-redundant when using Availability zones\n",
    "\n",
    "Change backup options\n",
    "- Only option is to enable Continuous Backups\n",
    "- Once set on a new or existing account can not be changed\n",
    "\n",
    "Continuous backup mode charges\n",
    "- Backup storage space \n",
    "- A separate charge will be added every time a restore is started.\n",
    "\n",
    "Limitations when using the continuous backup mode\n",
    "- Azure Cosmos DB accounts using customer-managed keys are not supported.\n",
    "- Multi-region write accounts not supported.\n",
    "- You can't restore an account into a region where the source account did not exist.\n",
    "- The retention period is 30 days and can't be changed.\n",
    "- Can't modify or delete IAM policies when restore is in progress.\n",
    "- Accounts that create unique indexes after the container is created are not supported.\n",
    "- Point in time restore always restores to a new Azure Cosmos DB account.\n",
    "- Collection's consistent indexes may still be rebuilding after completing the restore.\n",
    "- Since TTL container properties are restored with the restore process, restores must be for timestamps before TTL properties were added to a container. This timestamp will prevent data from being deleted right after the restore.\n",
    "- Azure Synapse Link and continuous backup mode can't coexist in the same database account."
   ]
  },
  {
   "cell_type": "markdown",
   "metadata": {},
   "source": [
    "### Perform a point-in-time recovery\n",
    "\n",
    "Point-in-time recovery will allow you to choose any timestamp within the up to 30-days backup retention period and restore a combination of Azure DB containers, databases, or the accounts.\n",
    "\n",
    "Scenarios:\n",
    "- Restore deleted account\n",
    "- Restore data of an account in a particular region\n",
    "- Recover from an accidental write or delete operation within a container with a known restore timestamp\n",
    "- Restore an account to a previous point in time before the accidental delete of the database\n",
    "- Restore an account to a previous point in time before the accidental delete or modification of the container properties\n",
    "\n",
    "![image](https://docs.microsoft.com/en-us/azure/cosmos-db/media/restore-account-continuous-backup/restore-live-account-portal.png)"
   ]
  },
  {
   "cell_type": "markdown",
   "metadata": {},
   "source": [
    "## Implement security in Azure Cosmos DB SQL API"
   ]
  },
  {
   "cell_type": "markdown",
   "metadata": {},
   "source": [
    "### Implement network-level access control\n",
    "\n",
    "Azure Cosmos DB supports IP-based access controls for inbound firewall support.\n",
    "\n",
    "Configure an IP firewall by using the Azure portal\n",
    "\n",
    "![image](https://docs.microsoft.com/en-us/learn/wwl-data-ai/implement-security-azure-cosmos-db-sql-api/media/2-firewall-setting.png)"
   ]
  },
  {
   "cell_type": "markdown",
   "metadata": {},
   "source": [
    "### Review data encryption options\n",
    "\n",
    "Azure Cosmos DB now uses encryption at rest for all its databases, backups, and media. When Azure Cosmos DB data is in transit, or over the network, that data is also encrypted.\n",
    "\n",
    "Azure Cosmos DB at rest and in transit encryption implementation\n",
    "\n",
    "![image](https://docs.microsoft.com/en-us/learn/wwl-data-ai/implement-security-azure-cosmos-db-sql-api/media/3-encryption-keys.png)"
   ]
  },
  {
   "cell_type": "markdown",
   "metadata": {},
   "source": [
    "### Use role-based access control (RBAC)\n",
    "\n",
    "Azure role-based access control (RBAC) is provided in Azure Cosmos DB to do common management operations.\n",
    "\n",
    "| **Built-in role** | **Description** |\n",
    "| :--- | :--- |\n",
    "| DocumentDB Account Contributor | Can manage Azure Cosmos DB accounts. |\n",
    "| Cosmos DB Account Reader | Can read Azure Cosmos DB account data. |\n",
    "| Cosmos Backup Operator | Can submit a restore request for Azure portal for a periodic backup enabled database or a container. Can modify the backup interval and retention on the Azure portal. Can't access any data or use Data Explorer. |\n",
    "| CosmosRestoreOperator | Can do restore action for Azure Cosmos DB account with continuous backup mode. |\n",
    "| Cosmos DB Operator | Can provision Azure Cosmos accounts, databases, and containers. Can't access any data or use Data Explorer. |\n",
    "\n",
    "![image](https://docs.microsoft.com/en-us/learn/wwl-data-ai/implement-security-azure-cosmos-db-sql-api/media/4-use-role-based-access-control.png)\n",
    "\n",
    "Custom roles provide users a way to create Azure role definitions with a custom set of resource provider operations. \n",
    "\n",
    "![image](https://docs.microsoft.com/en-us/azure/cosmos-db/media/how-to-setup-rbac/concepts.svg)"
   ]
  },
  {
   "cell_type": "markdown",
   "metadata": {},
   "source": [
    "### Access account resources using AAD\n",
    "\n",
    "Access account resources using AAD allows you to authenticate your data requests with an Azure Active Directory (Azure AD) identity.\n",
    "\n",
    "Permission model\n",
    "\n",
    "- Microsoft.DocumentDB/databaseAccounts/sqlDatabases/containers/*\n",
    "- Microsoft.DocumentDB/databaseAccounts/sqlDatabases/containers/items/create\n",
    "- Microsoft.DocumentDB/databaseAccounts/sqlDatabases/containers/items/*\n",
    "- Microsoft.DocumentDB/databaseAccounts/readMetadata\n",
    "- Microsoft.DocumentDB/databaseAccounts/sqlDatabases/containers/executeStoredProcedure\n",
    "\n",
    "To use Azure Cosmos DB RBAC with the SDK, you'll no longer pass the primary key. You'll pass an instance of a TokenCredential class. \n",
    "\n",
    "```csharp\n",
    "TokenCredential servicePrincipal = new ClientSecretCredential(\n",
    "    \"<azure-ad-tenant-id>\",\n",
    "    \"<client-application-id>\",\n",
    "    \"<client-application-secret>\");\n",
    "CosmosClient client = new CosmosClient(\"<account-endpoint>\", servicePrincipal);\n",
    "```\n",
    "\n",
    "In situations where you want to force clients to connect to Azure Cosmos DB through RBAC exclusively, you have the option to disable the account's primary/secondary keys. When doing so, any incoming request using either a primary/secondary key or a resource token will be actively rejected."
   ]
  },
  {
   "cell_type": "code",
   "execution_count": null,
   "metadata": {
    "dotnet_interactive": {
     "language": "pwsh"
    },
    "vscode": {
     "languageId": "dotnet-interactive.pwsh"
    }
   },
   "outputs": [],
   "source": [
    "az ad sp create-for-rbac --name \"cosmosclientapp\" --sdk-auth"
   ]
  },
  {
   "cell_type": "markdown",
   "metadata": {},
   "source": [
    "This will generate a service principal\n",
    "\n",
    "{\n",
    "  \"clientId\": \"xxxxxxx-xxxx-xxxx-xxxx-xxxxxxxxxxxx\",\n",
    "  \"clientSecret\": \"xxxxxxxxxxxxxxxxxxxxxxxxxxx\",\n",
    "  \"subscriptionId\": \"b895a719-7034-411a-9944-ff196d1f450f\",\n",
    "  \"tenantId\": \"xxxxxxx-xxxx-xxxx-xxxx-xxxxxxxxxxxx\",\n",
    "  \"activeDirectoryEndpointUrl\": \"https://login.microsoftonline.com\",\n",
    "  \"resourceManagerEndpointUrl\": \"https://management.azure.com/\",\n",
    "  \"activeDirectoryGraphResourceId\": \"https://graph.windows.net/\",\n",
    "  \"sqlManagementEndpointUrl\": \"https://management.core.windows.net:8443/\",\n",
    "  \"galleryEndpointUrl\": \"https://gallery.azure.com/\",\n",
    "  \"managementEndpointUrl\": \"https://management.core.windows.net/\"\n",
    "}"
   ]
  },
  {
   "cell_type": "code",
   "execution_count": null,
   "metadata": {
    "dotnet_interactive": {
     "language": "pwsh"
    },
    "vscode": {
     "languageId": "dotnet-interactive.pwsh"
    }
   },
   "outputs": [],
   "source": [
    "az cosmosdb sql role definition list --account-name cosmos-dp-420-sql-provisioned --resource-group rg-dp-420"
   ]
  },
  {
   "cell_type": "code",
   "execution_count": null,
   "metadata": {
    "dotnet_interactive": {
     "language": "pwsh"
    },
    "vscode": {
     "languageId": "dotnet-interactive.pwsh"
    }
   },
   "outputs": [],
   "source": [
    "az cosmosdb sql role assignment create `\n",
    "    --account-name cosmos-dp-420-sql-provisioned `\n",
    "    --resource-group rg-dp-420 `\n",
    "    --scope \"/\" `\n",
    "    --principal-id \"b4a58102-a65b-42a9-ac32-93676fc8d3a9\" `\n",
    "    --role-definition-id \"00000000-0000-0000-0000-000000000001\""
   ]
  },
  {
   "cell_type": "code",
   "execution_count": null,
   "metadata": {
    "dotnet_interactive": {
     "language": "csharp"
    },
    "vscode": {
     "languageId": "dotnet-interactive.csharp"
    }
   },
   "outputs": [],
   "source": [
    "using Microsoft.Azure.Cosmos;\n",
    "using Azure.Identity;\n",
    "using Azure.Core;\n",
    "\n",
    "TokenCredential servicePrincipal = new ClientSecretCredential(\n",
    "    \"72f988bf-86f1-41af-91ab-2d7cd011db47\", // <azure-ad-tenant-id>\n",
    "    \"b4a58102-a65b-42a9-ac32-93676fc8d3a9\", // <client-application-id>\n",
    "    \"U-DWDXOOu7BVym7BHTPqsKxPNUPQDsHRfd\");  // <client-application-secret>\n",
    "CosmosClient client = new CosmosClient(documentEndpoint, servicePrincipal);"
   ]
  },
  {
   "cell_type": "markdown",
   "metadata": {},
   "source": [
    "### Understand Always Encrypted\n",
    "\n",
    "Always encrypted encrypts sensitive data like credit card numbers or payroll information inside client-side applications.\n",
    "\n",
    "Always encrypted uses encryption keys and decryption policies.\n",
    "\n",
    "Always encrypted requires that you create **data encryption keys (DEK)** ahead of time. The DEKs are created at client-side using the Azure Comsos DB SDK. These DEKs are stored in the Azure Cosmos DB service. The DEKs are defined at the database level so they can be shared across multiple containers. Each DEK you create can be used to encrypt only one property, or can be used to encrypt many properties. You can have multiple DEKs per databases.\n",
    "\n",
    "A DEK must be wrapped by a **customer-managed key (CMK)** before it stored in Azure Cosmos DB. Since CMKs control the wrapping and unwrapping of the DEKs, they control the access to the data that is encrypted with those DEKs. CMK storage is designed as an extensible/plug-in model, with a default implementation that expects them to be stored in Azure Key Vault. The relationship between these components is displayed in the following diagram.\n",
    "\n",
    "![image](https://docs.microsoft.com/en-us/learn/wwl-data-ai/implement-security-azure-cosmos-db-sql-api/media/6-always-encrypted-cmk-dek.png)\n",
    "\n",
    "Create a container with encryption policy:"
   ]
  },
  {
   "cell_type": "code",
   "execution_count": null,
   "metadata": {
    "dotnet_interactive": {
     "language": "csharp"
    },
    "vscode": {
     "languageId": "dotnet-interactive.csharp"
    }
   },
   "outputs": [],
   "source": [
    "#r \"nuget: Microsoft.Azure.Cosmos.Encryption, 1.0.0\"\n",
    "#r \"nuget: Azure.Identity, 1.5.0\"\n",
    "#r \"nuget: Azure.Security.KeyVault.Keys, 4.3.0\""
   ]
  },
  {
   "cell_type": "code",
   "execution_count": null,
   "metadata": {
    "dotnet_interactive": {
     "language": "csharp"
    },
    "vscode": {
     "languageId": "dotnet-interactive.csharp"
    }
   },
   "outputs": [],
   "source": [
    "using Microsoft.Azure.Cosmos;\n",
    "using Microsoft.Azure.Cosmos.Fluent;\n",
    "using Microsoft.Azure.Cosmos.Encryption;\n",
    "\n",
    "CosmosClient client = new (connectionString);\n",
    "Database database = client.GetDatabase(\"cosmicworks\");\n",
    "\n",
    "var path1 = new ClientEncryptionIncludedPath \n",
    "{ \n",
    "  Path = \"/property1\", \n",
    "  ClientEncryptionKeyId = \"my-key\", \n",
    "  EncryptionType = EncryptionType.Deterministic.ToString(), \n",
    "  EncryptionAlgorithm = \"AEAD_AES_256_CBC_HMAC_SHA256\"\n",
    "}; \n",
    "\n",
    "var path2 = new ClientEncryptionIncludedPath \n",
    "{ \n",
    "  Path = \"/property2\", \n",
    "  ClientEncryptionKeyId = \"my-key\", \n",
    "  EncryptionType = EncryptionType.Randomized.ToString(), \n",
    "  EncryptionAlgorithm = \"AEAD_AES_256_CBC_HMAC_SHA256\"\n",
    "}; \n",
    "\n",
    "await database.DefineContainer(\"my-container\", \"/partition-key\")\n",
    "  .WithClientEncryptionPolicy() \n",
    "  .WithIncludedPath(path1) \n",
    "  .WithIncludedPath(path2) \n",
    "  .Attach() \n",
    "  .CreateAsync();\n"
   ]
  },
  {
   "cell_type": "markdown",
   "metadata": {},
   "source": [
    "## Demo teardown"
   ]
  },
  {
   "cell_type": "code",
   "execution_count": null,
   "metadata": {
    "dotnet_interactive": {
     "language": "csharp"
    },
    "vscode": {
     "languageId": "dotnet-interactive.csharp"
    }
   },
   "outputs": [],
   "source": [
    "await database.DeleteAsync();"
   ]
  }
 ],
 "metadata": {
  "kernelspec": {
   "display_name": ".NET (C#)",
   "language": "C#",
   "name": ".net-csharp"
  },
  "language_info": {
   "name": "C#"
  }
 },
 "nbformat": 4,
 "nbformat_minor": 2
}

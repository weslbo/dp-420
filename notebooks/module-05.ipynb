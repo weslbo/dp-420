{
 "cells": [
  {
   "cell_type": "markdown",
   "metadata": {
    "dotnet_interactive": {
     "language": "csharp"
    }
   },
   "source": [
    "# Module 05: Execute queries in Azure Cosmos DB SQL API\n",
    "\n",
    "- [[Learning path]](https://docs.microsoft.com/en-us/learn/paths/execute-queries-azure-cosmos-db-sql-api/?ns-enrollment-type=Collection&ns-enrollment-id=1k8wcz8zooj2nx)\n",
    "- [[Lab]](https://microsoftlearning.github.io/dp-420-cosmos-db-dev/instructions/09-sdk-queries.html): Execute a query with the Azure Cosmos DB SQL API SDK\n",
    "- [[Lab]](https://microsoftlearning.github.io/dp-420-cosmos-db-dev/instructions/10-sdk-pagination.html): Paginate cross-product query results with the Azure Cosmos DB SQL API SDK"
   ]
  },
  {
   "cell_type": "markdown",
   "metadata": {},
   "source": [
    "## Demo setup"
   ]
  },
  {
   "cell_type": "code",
   "execution_count": null,
   "metadata": {
    "dotnet_interactive": {
     "language": "pwsh"
    }
   },
   "outputs": [],
   "source": [
    "Connect-AzAccount\n",
    "Set-AzContext -Subscription \"b895a719-7034-411a-9944-ff196d1f450f\"\n",
    "$connectionString = (Get-AzCosmosDBAccountKey -ResourceGroupName rg-dp-420 -Name cosmos-dp-420-sql-provisioned -Type \"ConnectionStrings\")[\"Primary SQL Connection String\"]\n",
    "$primaryMasterKey = (Get-AzCosmosDBAccountKey -ResourceGroupName rg-dp-420 -Name cosmos-dp-420-sql-provisioned -Type \"Keys\")[\"PrimaryMasterKey\"]\n",
    "$documentEndpoint = (Get-AzCosmosDBAccount -ResourceGroupName rg-dp-420 -Name cosmos-dp-420-sql-provisioned).DocumentEndpoint"
   ]
  },
  {
   "cell_type": "code",
   "execution_count": null,
   "metadata": {
    "dotnet_interactive": {
     "language": "pwsh"
    }
   },
   "outputs": [],
   "source": [
    "cosmicworks --endpoint $documentEndpoint --key $primaryMasterKey --datasets product"
   ]
  },
  {
   "cell_type": "code",
   "execution_count": null,
   "metadata": {
    "dotnet_interactive": {
     "language": "csharp"
    }
   },
   "outputs": [],
   "source": [
    "#r \"nuget: Newtonsoft.Json, 13.0.1\"\n",
    "#r \"nuget: Microsoft.Azure.Cosmos , 3.22.1\"\n",
    "\n",
    "#!share --from pwsh connectionString\n",
    "#!share --from pwsh primaryMasterKey\n",
    "#!share --from pwsh documentEndpoint"
   ]
  },
  {
   "cell_type": "code",
   "execution_count": null,
   "metadata": {
    "dotnet_interactive": {
     "language": "csharp"
    }
   },
   "outputs": [],
   "source": [
    "using Microsoft.Azure.Cosmos;\n",
    "using System;\n",
    "using System.Collections.Generic;\n",
    "\n",
    "CosmosClient client = new (connectionString);\n",
    "Database database = client.GetDatabase(\"cosmicworks\");\n",
    "Container container = database.GetContainer(\"products\");\n",
    "\n",
    "public class Product\n",
    "{\n",
    "\tpublic string id { get; set; }\n",
    "\tpublic string categoryId { get; set; }\n",
    "\tpublic string categoryName { get; set; }\n",
    "\tpublic string sku { get; set; }\n",
    "\tpublic string name { get; set; }\n",
    "\tpublic string description { get; set; }\n",
    "\tpublic double price { get; set; }\n",
    "}"
   ]
  },
  {
   "cell_type": "markdown",
   "metadata": {},
   "source": [
    "### Understand SQL query language\n",
    "\n",
    "Here is an example of a JSON object that would be in this container:\n",
    "\n",
    "```json\n",
    "{\n",
    "    \"id\": \"86FD9250-4BD5-42D2-B941-1C1865A6A65E\",\n",
    "    \"categoryId\": \"F3FBB167-11D8-41E4-84B4-5AAA92B1E737\",\n",
    "    \"categoryName\": \"Components, Touring Frames\",\n",
    "    \"sku\": \"FR-T67U-58\",\n",
    "    \"name\": \"LL Touring Frame - Blue, 58\",\n",
    "    \"description\": \"The product called \\\"LL Touring Frame - Blue, 58\\\"\",\n",
    "    \"price\": 333.42,\n",
    "    \"tags\": [\n",
    "        {\n",
    "            \"id\": \"764C1CC8-2E5F-4EF5-83F6-8FF7441290B3\",\n",
    "            \"name\": \"Tag-190\"\n",
    "        },\n",
    "        {\n",
    "            \"id\": \"765EF7D7-331C-42C0-BF23-A3022A723BF7\",\n",
    "            \"name\": \"Tag-191\"\n",
    "        }\n",
    "}\n",
    "```"
   ]
  },
  {
   "cell_type": "markdown",
   "metadata": {
    "dotnet_interactive": {
     "language": "sql"
    }
   },
   "source": [
    "### Create queries with SQL"
   ]
  },
  {
   "cell_type": "code",
   "execution_count": null,
   "metadata": {
    "dotnet_interactive": {
     "language": "csharp"
    }
   },
   "outputs": [],
   "source": [
    "var sql = \"SELECT TOP 10 * FROM products\";\n",
    "QueryDefinition query = new (sql);\n",
    "\n",
    "var iterator = container.GetItemQueryIterator<Product>(query);\n",
    "\n",
    "while (iterator.HasMoreResults)\n",
    "{\n",
    "    var currentResultSet = await iterator.ReadNextAsync();\n",
    "    foreach (Product product in currentResultSet)\n",
    "    {\n",
    "        Console.WriteLine($\"[{product.id}]\\t{product.name,35}\\t{product.price,15:C}\");\n",
    "    }\n",
    "}"
   ]
  },
  {
   "cell_type": "code",
   "execution_count": null,
   "metadata": {
    "dotnet_interactive": {
     "language": "csharp"
    }
   },
   "outputs": [],
   "source": [
    "// Here is another query that returns only a few fields from a container:\n",
    "var sql = @\"SELECT TOP 10 products.id,\n",
    "                          products.name,\n",
    "                          products.price,\n",
    "                          products.categoryName \n",
    "            FROM products\";\n",
    "\n",
    "QueryDefinition query = new (sql);\n",
    "\n",
    "var iterator = container.GetItemQueryIterator<Product>(query);\n",
    "\n",
    "while (iterator.HasMoreResults)\n",
    "{\n",
    "    var currentResultSet = await iterator.ReadNextAsync();\n",
    "    foreach (Product product in currentResultSet)\n",
    "    {\n",
    "        Console.WriteLine($\"[{product.id}]\\t{product.name,35}\\t{product.price,15:C}\\t{product.categoryName}\");\n",
    "    }\n",
    "}"
   ]
  },
  {
   "cell_type": "code",
   "execution_count": null,
   "metadata": {
    "dotnet_interactive": {
     "language": "csharp"
    }
   },
   "outputs": [],
   "source": [
    "// It doesn’t matter what name is used here for the source\n",
    "var sql = @\"SELECT TOP 10 p.name, \n",
    "                          p.price \n",
    "            FROM p\";\n",
    "\n",
    "QueryDefinition query = new (sql);\n",
    "\n",
    "var iterator = container.GetItemQueryIterator<dynamic>(query);\n",
    "\n",
    "while (iterator.HasMoreResults)\n",
    "{\n",
    "    var currentResultSet = await iterator.ReadNextAsync();\n",
    "    foreach (var record in currentResultSet)\n",
    "    {\n",
    "        Console.WriteLine($\"[{record.name,40}]\\t{record.price,15:C}\");\n",
    "    }\n",
    "}"
   ]
  },
  {
   "cell_type": "code",
   "execution_count": null,
   "metadata": {
    "dotnet_interactive": {
     "language": "csharp"
    }
   },
   "outputs": [],
   "source": [
    "// You can use any word or phrase like you would in developer code\n",
    "var sql = @\"SELECT TOP 10 ReferenceContainerHoweverYouLike.name,\n",
    "                          ReferenceContainerHoweverYouLike.price \n",
    "            FROM ReferenceContainerHoweverYouLike\";\n",
    "\n",
    "QueryDefinition query = new (sql);\n",
    "\n",
    "var iterator = container.GetItemQueryIterator<dynamic>(query);\n",
    "\n",
    "while (iterator.HasMoreResults)\n",
    "{\n",
    "    var currentResultSet = await iterator.ReadNextAsync();\n",
    "    foreach (var record in currentResultSet)\n",
    "    {\n",
    "        Console.WriteLine($\"[{record.name,40}]\\t{record.price,15:C}\");\n",
    "    }\n",
    "}"
   ]
  },
  {
   "cell_type": "code",
   "execution_count": null,
   "metadata": {
    "dotnet_interactive": {
     "language": "csharp"
    }
   },
   "outputs": [],
   "source": [
    "// We can also filter our queries using the WHERE keyword. In this example, we filter the list of products to those that have a price that is between \n",
    "// 50 and 100:\n",
    "var sql = @\"SELECT TOP 10   p.name, \n",
    "                            p.categoryName, \n",
    "                            p.price \n",
    "            FROM products p \n",
    "            WHERE p.price >= 50 \n",
    "                AND p.price <= 100\";\n",
    "\n",
    "QueryDefinition query = new (sql);\n",
    "\n",
    "var iterator = container.GetItemQueryIterator<dynamic>(query);\n",
    "\n",
    "while (iterator.HasMoreResults)\n",
    "{\n",
    "    var currentResultSet = await iterator.ReadNextAsync();\n",
    "    foreach (var record in currentResultSet)\n",
    "    {\n",
    "        Console.WriteLine($\"[{record.name,40}]\\t{record.price,15:C}\\t{record.categoryName}\");\n",
    "    }\n",
    "}"
   ]
  },
  {
   "cell_type": "markdown",
   "metadata": {
    "dotnet_interactive": {
     "language": "csharp"
    }
   },
   "source": [
    "### Project query results\n",
    "\n",
    "Azure Cosmos DB SQL API extends SQL to manipulate JSON results."
   ]
  },
  {
   "cell_type": "code",
   "execution_count": null,
   "metadata": {
    "dotnet_interactive": {
     "language": "csharp"
    }
   },
   "outputs": [],
   "source": [
    "// use an alias\n",
    "var sql = @\"SELECT TOP 10 p.categoryName AS category FROM products p\";\n",
    "QueryDefinition query = new (sql);\n",
    "\n",
    "var iterator = container.GetItemQueryIterator<dynamic>(query);\n",
    "\n",
    "while (iterator.HasMoreResults)\n",
    "{\n",
    "    var currentResultSet = await iterator.ReadNextAsync();\n",
    "    foreach (var record in currentResultSet)\n",
    "    {\n",
    "        Console.WriteLine($\"- {record.category}\");\n",
    "    }\n",
    "}"
   ]
  },
  {
   "cell_type": "code",
   "execution_count": null,
   "metadata": {
    "dotnet_interactive": {
     "language": "csharp"
    }
   },
   "outputs": [],
   "source": [
    "// use DISTINCT\n",
    "var sql = \"SELECT DISTINCT TOP 10 p.categoryName FROM products p\";\n",
    "QueryDefinition query = new (sql);\n",
    "\n",
    "var iterator = container.GetItemQueryIterator<dynamic>(query);\n",
    "\n",
    "while (iterator.HasMoreResults)\n",
    "{\n",
    "    var currentResultSet = await iterator.ReadNextAsync();\n",
    "    foreach (var record in currentResultSet)\n",
    "    {\n",
    "        Console.WriteLine($\"- {record.categoryName}\");\n",
    "    }\n",
    "}"
   ]
  },
  {
   "cell_type": "code",
   "execution_count": null,
   "metadata": {
    "dotnet_interactive": {
     "language": "csharp"
    }
   },
   "outputs": [],
   "source": [
    "// use VALUE -> returns a List<string>\n",
    "var sql = \"SELECT TOP 10 VALUE p.categoryName FROM products p\";\n",
    "\n",
    "QueryDefinition query = new (sql);\n",
    "\n",
    "var iterator = container.GetItemQueryIterator<string>(query);\n",
    "\n",
    "while (iterator.HasMoreResults)\n",
    "{\n",
    "    var currentResultSet = await iterator.ReadNextAsync();\n",
    "    foreach (var record in currentResultSet)\n",
    "    {\n",
    "        Console.WriteLine($\"- {record}\");\n",
    "    }\n",
    "}"
   ]
  },
  {
   "cell_type": "code",
   "execution_count": null,
   "metadata": {
    "dotnet_interactive": {
     "language": "csharp"
    }
   },
   "outputs": [],
   "source": [
    "// Suppose we have the following ProductAdvertisement class definition.\n",
    "public class ScannerData { \n",
    "    public decimal Price { get; set; } \n",
    "}\n",
    "\n",
    "public class ProductAdvertisement { \n",
    "    public string Name { get; set; } \n",
    "    public string Category { get; set; } \n",
    "    public ScannerData ScannerData { get; set;}      \n",
    "}"
   ]
  },
  {
   "cell_type": "code",
   "execution_count": null,
   "metadata": {
    "dotnet_interactive": {
     "language": "csharp"
    }
   },
   "outputs": [],
   "source": [
    "// scannerData expression added to return the expected class format.\n",
    "var sql = @\"SELECT TOP 10 p.name, \n",
    "                          p.categoryName AS category, \n",
    "                          { \"\"price\"\": p.price } AS scannerData \n",
    "            FROM products p \n",
    "            WHERE p.price >= 50 AND p.price <= 100\";\n",
    "\n",
    "QueryDefinition query = new (sql);\n",
    "\n",
    "var iterator = container.GetItemQueryIterator<ProductAdvertisement>(query);\n",
    "\n",
    "while (iterator.HasMoreResults)\n",
    "{\n",
    "    var currentResultSet = await iterator.ReadNextAsync();\n",
    "    foreach (var p in currentResultSet)\n",
    "    {\n",
    "        Console.WriteLine($\"[{p.Name,40}]\\t{p.ScannerData.Price,15:C}\");\n",
    "    }\n",
    "}"
   ]
  },
  {
   "cell_type": "markdown",
   "metadata": {
    "dotnet_interactive": {
     "language": "csharp"
    }
   },
   "source": [
    "### Implement type-checking in queries\n",
    "\n",
    "NoSQL is schema-less, the responsibility for type checking will often fall on your queries."
   ]
  },
  {
   "cell_type": "markdown",
   "metadata": {},
   "source": [
    "```json\n",
    "// Let’s assume this is a document on the Product container.\n",
    "{ \n",
    "    \"id\": \"6374995F-9A78-43CD-AE0D-5F6041078140\", \n",
    "    \"categoryid\": \"3E4CEACD-D007-46EB-82D7-31F6141752B2\", \n",
    "    \"sku\": \"FR-R38R-60\", \n",
    "    \"name\": \"LL Road Frame - Red, 60\", \n",
    "    \"price\": 337.22 \n",
    "}\n",
    "```"
   ]
  },
  {
   "cell_type": "code",
   "execution_count": null,
   "metadata": {
    "dotnet_interactive": {
     "language": "csharp"
    }
   },
   "outputs": [],
   "source": [
    "// Note how in the previous document there are no tags properties\n",
    "var sql = @\"SELECT TOP 10 p.id, \n",
    "                          IS_DEFINED(p.tags) AS tags_exist,  \n",
    "                          IS_ARRAY(p.tags) as tags_array,\n",
    "                          IS_NUMBER(p.price) as price_isnumber,\n",
    "                          IS_STRING(p.price) as price_isstring\n",
    "            FROM products p \";\n",
    "\n",
    "QueryDefinition query = new (sql);\n",
    "\n",
    "var iterator = container.GetItemQueryIterator<dynamic>(query);\n",
    "\n",
    "while (iterator.HasMoreResults)\n",
    "{\n",
    "    var currentResultSet = await iterator.ReadNextAsync();\n",
    "    foreach (var p in currentResultSet)\n",
    "    {\n",
    "        Console.WriteLine($\"[{p.id,40}]\\t{p.tags_exist}\\t{p.tags_array}\\t{p.price_isnumber}\\t{p.price_isstring}\");\n",
    "    }\n",
    "}"
   ]
  },
  {
   "cell_type": "markdown",
   "metadata": {
    "dotnet_interactive": {
     "language": "csharp"
    }
   },
   "source": [
    "### Use built-in functions\n",
    "\n",
    "SQL for the Azure Cosmos DB SQL API ships with built-in functions for common tasks in a query.\n",
    "\n",
    "Here are some examples of these functions:"
   ]
  },
  {
   "cell_type": "code",
   "execution_count": null,
   "metadata": {
    "dotnet_interactive": {
     "language": "csharp"
    }
   },
   "outputs": [],
   "source": [
    "// CONCAT\n",
    "var sql = \"SELECT TOP 10 VALUE CONCAT(p.name, ' | ', p.categoryName) FROM products p\";\n",
    "\n",
    "QueryDefinition query = new (sql);\n",
    "\n",
    "var iterator = container.GetItemQueryIterator<string>(query);\n",
    "\n",
    "while (iterator.HasMoreResults)\n",
    "{\n",
    "    var currentResultSet = await iterator.ReadNextAsync();\n",
    "    foreach (var record in currentResultSet)\n",
    "    {\n",
    "        Console.WriteLine($\"- {record}\");\n",
    "    }\n",
    "}"
   ]
  },
  {
   "cell_type": "code",
   "execution_count": null,
   "metadata": {
    "dotnet_interactive": {
     "language": "csharp"
    }
   },
   "outputs": [],
   "source": [
    "// LOWER\n",
    "var sql = \"SELECT TOP 10 VALUE LOWER(p.sku) FROM products p\";\n",
    "\n",
    "QueryDefinition query = new (sql);\n",
    "\n",
    "var iterator = container.GetItemQueryIterator<string>(query);\n",
    "\n",
    "while (iterator.HasMoreResults)\n",
    "{\n",
    "    var currentResultSet = await iterator.ReadNextAsync();\n",
    "    foreach (var record in currentResultSet)\n",
    "    {\n",
    "        Console.WriteLine($\"- {record}\");\n",
    "    }\n",
    "}"
   ]
  },
  {
   "cell_type": "code",
   "execution_count": null,
   "metadata": {
    "dotnet_interactive": {
     "language": "csharp"
    }
   },
   "outputs": [],
   "source": [
    "// RTRIM, LTRIM, LEFT, RIGHT\n",
    "\n",
    "var sql = @\"SELECT TOP 10 \n",
    "                        LTRIM(RTRIM(p.sku)) as sku, \n",
    "                        LEFT(p.name, 10) name \n",
    "            FROM products p\";\n",
    "\n",
    "QueryDefinition query = new (sql);\n",
    "\n",
    "var iterator = container.GetItemQueryIterator<dynamic>(query);\n",
    "\n",
    "while (iterator.HasMoreResults)\n",
    "{\n",
    "    var currentResultSet = await iterator.ReadNextAsync();\n",
    "    foreach (var p in currentResultSet)\n",
    "    {\n",
    "        Console.WriteLine($\"[{p.name,40}]\\t{p.sku}\");\n",
    "    }\n",
    "}"
   ]
  },
  {
   "cell_type": "code",
   "execution_count": null,
   "metadata": {
    "dotnet_interactive": {
     "language": "csharp"
    }
   },
   "outputs": [],
   "source": [
    "// CONTAINS\n",
    "\n",
    "var sql = @\"SELECT TOP 10 p.name \n",
    "            FROM products p\n",
    "            WHERE CONTAINS(p.name, \"\"classic\"\", true)\";\n",
    "\n",
    "QueryDefinition query = new (sql);\n",
    "\n",
    "var iterator = container.GetItemQueryIterator<dynamic>(query);\n",
    "\n",
    "while (iterator.HasMoreResults)\n",
    "{\n",
    "    var currentResultSet = await iterator.ReadNextAsync();\n",
    "    foreach (var p in currentResultSet)\n",
    "    {\n",
    "        Console.WriteLine($\"[{p.name,40}]\");\n",
    "    }\n",
    "}"
   ]
  },
  {
   "cell_type": "markdown",
   "metadata": {},
   "source": [
    "#### ARRAY_CONTAINS\n",
    "\n",
    "Following example returns all documents (top 10) that have a tagname value Tag-81 in it\n",
    "It makes use of ARRAY() to create a new array\n",
    "\n",
    "```json\n",
    "\"tags\": [\n",
    "    {\n",
    "        \"id\": \"3A3A99B6-E3BF-46D0-BAD9-F5F4DBB720F4\",\n",
    "        \"name\": \"Tag-70\"\n",
    "    },\n",
    "    {\n",
    "        \"id\": \"51CD93BF-098C-4C25-9829-4AD42046D038\",\n",
    "        \"name\": \"Tag-81\" // looking for this tag!\n",
    "    },\n",
    "    {\n",
    "        \"id\": \"6C2F05C8-1E61-4912-BE1A-C67A378429BB\",\n",
    "        \"name\": \"Tag-5\"\n",
    "    },\n",
    "    {\n",
    "        \"id\": \"B48D6572-67EB-4630-A1DB-AFD4AD7041C9\",\n",
    "        \"name\": \"Tag-100\"\n",
    "    }\n",
    "]\n",
    "```\n",
    "\n",
    "is translated into an array:\n",
    "\n",
    "```json\n",
    "[\n",
    "  \"Tag-70\",\n",
    "  \"Tag-81\",\n",
    "  \"Tag-5\",\n",
    "  \"Tag-100\"\n",
    "]\n",
    "```"
   ]
  },
  {
   "cell_type": "code",
   "execution_count": null,
   "metadata": {
    "dotnet_interactive": {
     "language": "csharp"
    }
   },
   "outputs": [],
   "source": [
    "// ARRAY_CONTAINS\n",
    "\n",
    "var sql = @\"SELECT TOP 10 \n",
    "                p.id,\n",
    "                ARRAY(SELECT DISTINCT VALUE t.name FROM t IN p.tags) as tagNames\n",
    "            FROM products p \n",
    "            WHERE ARRAY_CONTAINS(ARRAY(SELECT DISTINCT VALUE t.name FROM t IN p.tags), \"\"Tag-81\"\", true)\";\n",
    "\n",
    "QueryDefinition query = new (sql);\n",
    "\n",
    "var iterator = container.GetItemQueryIterator<dynamic>(query);\n",
    "\n",
    "while (iterator.HasMoreResults)\n",
    "{\n",
    "    var currentResultSet = await iterator.ReadNextAsync();\n",
    "    foreach (var p in currentResultSet)\n",
    "    {\n",
    "        Console.WriteLine($\"[{p.id,40}]\\t{p.tagNames}\");\n",
    "    }\n",
    "}"
   ]
  },
  {
   "cell_type": "markdown",
   "metadata": {
    "dotnet_interactive": {
     "language": "csharp"
    }
   },
   "source": [
    "## Author complex queries with the Azure Cosmos DB SQL API"
   ]
  },
  {
   "cell_type": "markdown",
   "metadata": {},
   "source": [
    "### Create cross-product queries\n",
    "\n",
    "Unlike a JOIN in a relational database, a JOIN in Azure Cosmos DB SQL API scope is a single item only.  A JOIN creates a cross-product between different sections of a single item.\n",
    "\n",
    "```json\n",
    "// Suppose this is a document in our product container.\n",
    "{ \n",
    "    \"id\": \"80D3630F-B661-4FD6-A296-CD03BB7A4A0C\", \n",
    "    \"categoryId\": \"629A8F3C-CFB0-4347-8DCC-505A4789876B\",\n",
    "    \"categoryName\": \"Clothing, Vests\", \n",
    "    \"sku\": \"VE-C304-L\", \n",
    "    \"name\": \"Classic Vest, L\", \n",
    "    \"description\": \"A worn brown classic\", \n",
    "    \"price\": 32.4, \n",
    "    \"tags\": [ \n",
    "              { \n",
    "                \"id\": \"2CE9DADE-DCAC-436C-9D69-B7C886A01B77\", \n",
    "                \"name\": \"apparel\", \"class\": \"group\" \n",
    "              }, \n",
    "              { \n",
    "                \"id\": \"CA170AAD-A5F6-42FF-B115-146FADD87298\", \n",
    "                \"name\": \"worn\", \"class\": \"trade-in\" \n",
    "              }, \n",
    "              { \n",
    "                \"id\": \"CA170AAD-A5F6-42FF-B115-146FADD87298\", \n",
    "                \"name\": \"no-damaged\", \"class\": \"trade-in\" \n",
    "              } \n",
    "            ] \n",
    "}\n",
    "```"
   ]
  },
  {
   "cell_type": "code",
   "execution_count": null,
   "metadata": {
    "dotnet_interactive": {
     "language": "csharp"
    }
   },
   "outputs": [],
   "source": [
    "// Return the tag name for all tags embedded in the document\n",
    "\n",
    "var sql = @\"SELECT TOP 20 p.id, p.name, t.name AS tag \n",
    "            FROM products p \n",
    "            JOIN t IN p.tags\";\n",
    "\n",
    "QueryDefinition query = new (sql);\n",
    "\n",
    "var iterator = container.GetItemQueryIterator<dynamic>(query);\n",
    "\n",
    "while (iterator.HasMoreResults)\n",
    "{\n",
    "    var currentResultSet = await iterator.ReadNextAsync();\n",
    "    foreach (var p in currentResultSet)\n",
    "    {\n",
    "        Console.WriteLine($\"[{p.id}]\\t{p.name,40}\\t{p.tag}\");\n",
    "    }\n",
    "}"
   ]
  },
  {
   "cell_type": "markdown",
   "metadata": {},
   "source": [
    "### Implement correlated subqueries\n",
    "\n",
    "We can optimize JOIN expressions further by writing subqueries to filter the number of array items we want to include in the cross-product set.\n",
    "\n",
    "```json\n",
    "{\n",
    "    \"id\": \"4DA12D36-495E-4DCA-95B0-F18CAA099779\",\n",
    "    \"categoryId\": \"56400CF3-446D-4C3F-B9B2-68286DA3BB99\",\n",
    "    \"categoryName\": \"Bikes, Mountain Bikes\",\n",
    "    \"sku\": \"BK-M82S-42\",\n",
    "    \"name\": \"Mountain-100 Silver, 42\",\n",
    "    \"description\": \"The product called \\\"Mountain-100 Silver, 42\\\"\",\n",
    "    \"price\": 3399.99,\n",
    "    \"tags\": [\n",
    "        {\n",
    "            \"id\": \"3C26DF5C-CE21-4EF6-AEE2-E8E1066D06B1\",\n",
    "            \"name\": \"Tag-81\" // we want to return this item (no other tags needed)\n",
    "        },\n",
    "        {\n",
    "            \"id\": \"BB35DF88-8BCE-4267-838B-9265BAE64EDF\",\n",
    "            \"name\": \"Tag-160\"\n",
    "        },\n",
    "        {\n",
    "            \"id\": \"F629F27D-3301-4906-BE9B-C46D6D6F6141\",\n",
    "            \"name\": \"Tag-65\"\n",
    "        }\n",
    "    ]\n",
    "}\n",
    "```"
   ]
  },
  {
   "cell_type": "code",
   "execution_count": null,
   "metadata": {
    "dotnet_interactive": {
     "language": "csharp"
    }
   },
   "outputs": [],
   "source": [
    "// Return the tag name for trade-in tags embedded in the document\n",
    "var sql = @\"\n",
    "SELECT p.id, \n",
    "    p.name, \n",
    "    t.name AS tag \n",
    "FROM products p \n",
    "JOIN (SELECT VALUE t \n",
    "      FROM t IN p.tags \n",
    "      WHERE t.name = 'Tag-81') AS t\";\n",
    "\n",
    "QueryDefinition query = new (sql);\n",
    "\n",
    "var iterator = container.GetItemQueryIterator<dynamic>(query);\n",
    "\n",
    "while (iterator.HasMoreResults)\n",
    "{\n",
    "    var currentResultSet = await iterator.ReadNextAsync();\n",
    "    foreach (var p in currentResultSet)\n",
    "    {\n",
    "        Console.WriteLine($\"[{p.id}]\\t{p.name,40}\\t{p.tag}\");\n",
    "    }\n",
    "}      "
   ]
  },
  {
   "cell_type": "markdown",
   "metadata": {
    "dotnet_interactive": {
     "language": "csharp"
    }
   },
   "source": [
    "### Implement variables in queries\n",
    "\n",
    "Using the QueryDefinition class, we can add query parameters."
   ]
  },
  {
   "cell_type": "code",
   "execution_count": null,
   "metadata": {
    "dotnet_interactive": {
     "language": "csharp"
    }
   },
   "outputs": [],
   "source": [
    "// Suppose we want to run the query below from the SDK, but we would like to send the condition values as parameters\n",
    "// SELECT p.name, t.name AS tag FROM products p JOIN t IN p.tags WHERE p.price > 700 AND p.price <= 800.\n",
    "\n",
    "// Let’s define a class for our products.\n",
    "public class Product \n",
    "{ \n",
    "    public string id { get; set; } \n",
    "    public string name { get; set; } \n",
    "    public string tag { get; set;}\n",
    "    public decimal price { get; set; } \n",
    "}\n",
    "\n",
    "// Let’s create our query definition.\n",
    "string sql = \"SELECT TOP 10 p.id, p.name, t.name AS tag, p.price FROM products p JOIN t IN p.tags WHERE p.price >= @lower AND p.price <= @upper\";\n",
    "\n",
    "QueryDefinition query = new QueryDefinition(sql) \n",
    "    .WithParameter(\"@lower\", 700) \n",
    "    .WithParameter(\"@upper\", 800);\n",
    "\n",
    "// Let’s finally execute our query. We will run it inside a foreach loop in case we get multiple documents back\n",
    "\n",
    "var iterator = container.GetItemQueryIterator<dynamic>(query);\n",
    "\n",
    "while (iterator.HasMoreResults)\n",
    "{\n",
    "    var currentResultSet = await iterator.ReadNextAsync();\n",
    "    foreach (var p in currentResultSet)\n",
    "    {\n",
    "        Console.WriteLine($\"[{p.id}]\\t{p.name,40}\\t{p.tag}\\t{p.price,15:C}\");\n",
    "    }\n",
    "}      "
   ]
  },
  {
   "cell_type": "markdown",
   "metadata": {
    "dotnet_interactive": {
     "language": "csharp"
    }
   },
   "source": [
    "### Paginate query results\n",
    "\n",
    "The Microsoft.Azure.Cosmos.Container class supports asynchronous streams to iterate over multiple pages of results."
   ]
  },
  {
   "cell_type": "code",
   "execution_count": null,
   "metadata": {
    "dotnet_interactive": {
     "language": "csharp"
    }
   },
   "outputs": [],
   "source": [
    "// Suppose we want to run the query below from the SDK, but we would like to return 5 documents at a time\n",
    "\n",
    "// Let’s define a class for our products.\n",
    "public class Product \n",
    "{ \n",
    "    public string id { get; set; } \n",
    "    public string name { get; set; } \n",
    "    public string price { get; set; } \n",
    "}\n",
    "\n",
    "// Let’s create our query definition.\n",
    "string sql = \"SELECT TOP 12 * FROM products p WHERE p.price > 500\"; \n",
    "\n",
    "QueryDefinition query = new (sql);\n",
    "QueryRequestOptions options = new() { MaxItemCount = 5 };\n",
    "\n",
    "// Let’s finally execute our query. We will run it inside a foreach and a while loop in case we get multiple documents back\n",
    "FeedIterator<Product> iterator = container.GetItemQueryIterator<Product>(query, requestOptions: options);\n",
    "int i = 1;\n",
    "\n",
    "while(iterator.HasMoreResults) \n",
    "{ \n",
    "    Console.WriteLine($\"Pass: {i++}\");\n",
    "    foreach(Product product in await iterator.ReadNextAsync()) \n",
    "    { \n",
    "        // Handle individual items \n",
    "        Console.WriteLine($\"- {product.name}\");\n",
    "    } \n",
    "}"
   ]
  },
  {
   "cell_type": "markdown",
   "metadata": {},
   "source": [
    "## Demo teardown"
   ]
  },
  {
   "cell_type": "code",
   "execution_count": null,
   "metadata": {
    "dotnet_interactive": {
     "language": "csharp"
    }
   },
   "outputs": [],
   "source": [
    "await database.DeleteAsync();"
   ]
  }
 ],
 "metadata": {
  "kernelspec": {
   "display_name": ".NET (C#)",
   "language": "C#",
   "name": ".net-csharp"
  },
  "language_info": {
   "name": "C#"
  }
 },
 "nbformat": 4,
 "nbformat_minor": 2
}

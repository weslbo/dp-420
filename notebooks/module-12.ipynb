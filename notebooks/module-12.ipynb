{
 "cells": [
  {
   "cell_type": "markdown",
   "metadata": {
    "dotnet_interactive": {
     "language": "csharp"
    }
   },
   "source": [
    "# Module 12: Manage an Azure Cosmos DB SQL API solution using DevOps practices\n",
    "\n",
    "- [[Learning path]](https://docs.microsoft.com/en-us/learn/paths/manage-cosmos-db-sql-api-solution-using-devops-practices/?ns-enrollment-type=Collection&ns-enrollment-id=1k8wcz8zooj2nx)\n",
    "- [[Lab]](https://microsoftlearning.github.io/dp-420-cosmos-db-dev/instructions/30-adjust-throughput-cli-script.html): Adjust provisioned throughput using an Azure CLI script\n",
    "- [[Lab]](https://microsoftlearning.github.io/dp-420-cosmos-db-dev/instructions/31-create-container-arm-template.html): Create an Azure Cosmos DB SQL API container using Azure Resource Manager templates"
   ]
  }
 ],
 "metadata": {
  "kernelspec": {
   "display_name": ".NET (C#)",
   "language": "C#",
   "name": ".net-csharp"
  },
  "language_info": {
   "name": "C#"
  }
 },
 "nbformat": 4,
 "nbformat_minor": 2
}

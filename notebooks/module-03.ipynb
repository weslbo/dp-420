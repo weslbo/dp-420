{
 "cells": [
  {
   "cell_type": "markdown",
   "metadata": {
    "dotnet_interactive": {
     "language": "csharp"
    }
   },
   "source": [
    "# Module 03: Connect to Azure Cosmos DB SQL API with the SDK\n",
    "\n",
    "- [[Learning path]](https://docs.microsoft.com/en-us/learn/paths/connect-to-azure-cosmos-db-sql-api-sdk/?ns-enrollment-type=Collection&ns-enrollment-id=1k8wcz8zooj2nx)\n",
    "- [[Lab]](https://microsoftlearning.github.io/dp-420-cosmos-db-dev/instructions/04-sdk-connect.html): Connect to Azure Cosmos DB SQL API with the SDK\n",
    "- [[Lab]](https://microsoftlearning.github.io/dp-420-cosmos-db-dev/instructions/05-sdk-offline.html): Configure the Azure Cosmos DB SQL API SDK for offline development"
   ]
  },
  {
   "cell_type": "markdown",
   "metadata": {},
   "source": [
    "## Demo setup\n",
    "\n",
    "Please execute these steps to setup the demo"
   ]
  },
  {
   "cell_type": "code",
   "execution_count": null,
   "metadata": {
    "dotnet_interactive": {
     "language": "pwsh"
    }
   },
   "outputs": [],
   "source": [
    "Connect-AzAccount\n",
    "Set-AzContext -Subscription \"b895a719-7034-411a-9944-ff196d1f450f\"\n",
    "$connectionString = (Get-AzCosmosDBAccountKey -ResourceGroupName rg-dp-420 -Name cosmos-dp-420-sql-provisioned -Type \"ConnectionStrings\")[\"Primary SQL Connection String\"]\n",
    "$primaryMasterKey = (Get-AzCosmosDBAccountKey -ResourceGroupName rg-dp-420 -Name cosmos-dp-420-sql-provisioned -Type \"Keys\")[\"PrimaryMasterKey\"]\n",
    "$documentEndpoint = (Get-AzCosmosDBAccount -ResourceGroupName rg-dp-420 -Name cosmos-dp-420-sql-provisioned).DocumentEndpoint"
   ]
  },
  {
   "cell_type": "markdown",
   "metadata": {},
   "source": [
    "## Import and use the Azure Cosmos DB SQL API SDK\n",
    "\n",
    "### Understand the SDK\n",
    "\n",
    "| **Class** | **Description** |\n",
    "| --- | --- |\n",
    "| Microsoft.Azure.Cosmos.**CosmosClient** | Client-side logical representation of an Azure Cosmos DB account and the primary class used for the SDK |\n",
    "| Microsoft.Azure.Cosmos.**Database** | Logically represents a database client-side and includes common operations for database management |\n",
    "| Microsoft.Azure.Cosmos.**Container** | Logically represents a container client-side and includes common operations for container management |\n",
    "\n",
    "### Import from package manager\n",
    "\n",
    "```bash\n",
    "dotnet add package Microsoft.Azure.Cosmos \\\n",
    "    --version 3.22.1\n",
    "```\n",
    "\n",
    "### .NET project file\n",
    "\n",
    "```xml\n",
    "<Project Sdk=\"Microsoft.NET.Sdk\">\n",
    "  <PropertyGroup>\n",
    "    <OutputType>Exe</OutputType>\n",
    "    <TargetFramework>net6.0</TargetFramework>\n",
    "  </PropertyGroup>\n",
    "  <ItemGroup>\n",
    "    <PackageReference Include=\"Microsoft.Azure.Cosmos\" Version=\"3.22.1\" />\n",
    "  </ItemGroup>\n",
    "</Project>\n",
    "```"
   ]
  },
  {
   "cell_type": "code",
   "execution_count": null,
   "metadata": {
    "dotnet_interactive": {
     "language": "csharp"
    }
   },
   "outputs": [],
   "source": [
    "#r \"nuget: Microsoft.Azure.Cosmos , 3.22.1\"\n",
    "\n",
    "#!share --from pwsh connectionString\n",
    "#!share --from pwsh primaryMasterKey\n",
    "#!share --from pwsh documentEndpoint"
   ]
  },
  {
   "cell_type": "markdown",
   "metadata": {},
   "source": [
    "### Connect to an online account - with connection string"
   ]
  },
  {
   "cell_type": "code",
   "execution_count": null,
   "metadata": {
    "dotnet_interactive": {
     "language": "csharp"
    }
   },
   "outputs": [],
   "source": [
    "using Microsoft.Azure.Cosmos;\n",
    "\n",
    "Console.WriteLine($\"Using connectionString: {connectionString}\");\n",
    "\n",
    "CosmosClient client = new (connectionString);\n",
    "\n",
    "client"
   ]
  },
  {
   "cell_type": "markdown",
   "metadata": {},
   "source": [
    "### Connect to an online account - with endpoint and key"
   ]
  },
  {
   "cell_type": "markdown",
   "metadata": {},
   "source": [
    "## Configure the Azure Cosmos DB SQL API SDK"
   ]
  },
  {
   "cell_type": "code",
   "execution_count": null,
   "metadata": {
    "dotnet_interactive": {
     "language": "csharp"
    }
   },
   "outputs": [],
   "source": [
    "using Microsoft.Azure.Cosmos;\n",
    "\n",
    "Console.WriteLine($\"Using documentEndpoint: {documentEndpoint}\");\n",
    "Console.WriteLine($\"Using primaryMasterKey: {primaryMasterKey}\");\n",
    "\n",
    "CosmosClient client = new (documentEndpoint, primaryMasterKey);\n",
    "\n",
    "client"
   ]
  },
  {
   "cell_type": "markdown",
   "metadata": {},
   "source": [
    "### Read properties of the account\n",
    "\n",
    "The **AccountProperties** class includes useful properties such as, but not limited to:\n",
    "\n",
    "| **Property** | **Description** |\n",
    "| --- | --- |\n",
    "| **Id** | Gets the unique name of the account |\n",
    "| **ReadableRegions** | Gets a list of readable locations for the account |\n",
    "| **WritableRegions** | Gets a list of writable locations for the account |\n",
    "| **Consistency** | Gets the default consistency level for the account |"
   ]
  },
  {
   "cell_type": "code",
   "execution_count": null,
   "metadata": {
    "dotnet_interactive": {
     "language": "csharp"
    }
   },
   "outputs": [],
   "source": [
    "AccountProperties account = await client.ReadAccountAsync();\n",
    "\n",
    "account"
   ]
  },
  {
   "cell_type": "markdown",
   "metadata": {},
   "source": [
    "### Interact with a database"
   ]
  },
  {
   "cell_type": "code",
   "execution_count": null,
   "metadata": {
    "dotnet_interactive": {
     "language": "csharp"
    }
   },
   "outputs": [],
   "source": [
    "// Retrieve an existing database\n",
    "Database database = client.GetDatabase(\"cosmicworks\");\n",
    "\n",
    "database"
   ]
  },
  {
   "cell_type": "code",
   "execution_count": null,
   "metadata": {
    "dotnet_interactive": {
     "language": "csharp"
    }
   },
   "outputs": [],
   "source": [
    "// Create a new database\n",
    "Database database = await client.CreateDatabaseAsync(\"cosmicworks\");\n",
    "\n",
    "// Note there can be an exception when the database already exists...\n",
    "// Error: Microsoft.Azure.Cosmos.CosmosException : Response status code does not indicate success: Conflict (409)"
   ]
  },
  {
   "cell_type": "code",
   "execution_count": null,
   "metadata": {
    "dotnet_interactive": {
     "language": "csharp"
    }
   },
   "outputs": [],
   "source": [
    "// Create database if it doesn't already exist\n",
    "Database database = await client.CreateDatabaseIfNotExistsAsync(\"cosmicworks\");\n",
    "\n",
    "database"
   ]
  },
  {
   "cell_type": "markdown",
   "metadata": {},
   "source": [
    "### Interact with a container"
   ]
  },
  {
   "cell_type": "code",
   "execution_count": null,
   "metadata": {
    "dotnet_interactive": {
     "language": "csharp"
    }
   },
   "outputs": [],
   "source": [
    "// Retrieve an existing container\n",
    "Container container = database.GetContainer(\"products\");\n",
    "\n",
    "container"
   ]
  },
  {
   "cell_type": "code",
   "execution_count": null,
   "metadata": {
    "dotnet_interactive": {
     "language": "csharp"
    }
   },
   "outputs": [],
   "source": [
    "// Create a new container\n",
    "Container container = await database.CreateContainerAsync(\n",
    "    \"cosmicworks\", \n",
    "    \"/categoryId\", \n",
    "    400 \n",
    ");\n",
    "\n",
    "container"
   ]
  },
  {
   "cell_type": "code",
   "execution_count": null,
   "metadata": {
    "dotnet_interactive": {
     "language": "csharp"
    }
   },
   "outputs": [],
   "source": [
    "// Create container if it doesn't already exist\n",
    "Container container = await database.CreateContainerIfNotExistsAsync(\n",
    "    \"cosmicworks\", \n",
    "    \"/categoryId\", \n",
    "    400 \n",
    ");\n",
    "\n",
    "container"
   ]
  },
  {
   "cell_type": "markdown",
   "metadata": {},
   "source": [
    "## Implement client singleton\n",
    "\n",
    "Each instance of the CosmosClient class has a few features that are already implemented on your behalf:\n",
    "\n",
    "- Instances are already thread-safe\n",
    "- Instances efficiently manage connections\n",
    "- Instances cache addresses when operating in direct mode\n",
    "\n",
    "For ASP.NET web applications, you should review how to create a singleton instance using the dependency injection framework of your choice."
   ]
  },
  {
   "cell_type": "markdown",
   "metadata": {},
   "source": [
    "## Configure connectivity mode\n",
    "\n",
    "![image](https://docs.microsoft.com/en-us/azure/cosmos-db/sql/media/performance-tips/connection-policy.png)"
   ]
  },
  {
   "cell_type": "code",
   "execution_count": null,
   "metadata": {
    "dotnet_interactive": {
     "language": "csharp"
    }
   },
   "outputs": [],
   "source": [
    "// Configures the client to use Direct connection mode.\n",
    "CosmosClientOptions options = new () { ConnectionMode = ConnectionMode.Direct };\n",
    "CosmosClient client = new (documentEndpoint, primaryMasterKey, options);\n",
    "\n",
    "client"
   ]
  },
  {
   "cell_type": "code",
   "execution_count": null,
   "metadata": {
    "dotnet_interactive": {
     "language": "csharp"
    }
   },
   "outputs": [],
   "source": [
    "// Configures the client to use Gateway connection mode.\n",
    "CosmosClientOptions options = new () { ConnectionMode = ConnectionMode.Gateway };\n",
    "CosmosClient client = new (documentEndpoint, primaryMasterKey, options);\n",
    "\n",
    "client"
   ]
  },
  {
   "cell_type": "markdown",
   "metadata": {},
   "source": [
    "### Setting the preferred application region[s]"
   ]
  },
  {
   "cell_type": "code",
   "execution_count": null,
   "metadata": {
    "dotnet_interactive": {
     "language": "csharp"
    }
   },
   "outputs": [],
   "source": [
    "// Configs single preferred region for client to connect to.\n",
    "CosmosClientOptions options = new () { ApplicationRegion = Regions.WestEurope };\n",
    "CosmosClient client = new (documentEndpoint, primaryMasterKey, options);\n",
    "\n",
    "client"
   ]
  },
  {
   "cell_type": "code",
   "execution_count": null,
   "metadata": {
    "dotnet_interactive": {
     "language": "csharp"
    }
   },
   "outputs": [],
   "source": [
    "// Configs the client to use custom failover/priority list.\n",
    "CosmosClientOptions options = new () { ApplicationPreferredRegions = new List<string> { Regions.WestEurope, Regions.NorthEurope } };\n",
    "CosmosClient client = new (documentEndpoint, primaryMasterKey, options);\n",
    "\n",
    "client"
   ]
  },
  {
   "cell_type": "markdown",
   "metadata": {},
   "source": [
    "## DEMO Tear down"
   ]
  },
  {
   "cell_type": "code",
   "execution_count": null,
   "metadata": {
    "dotnet_interactive": {
     "language": "csharp"
    }
   },
   "outputs": [],
   "source": [
    "await database.DeleteAsync();"
   ]
  }
 ],
 "metadata": {
  "kernelspec": {
   "display_name": ".NET (C#)",
   "language": "C#",
   "name": ".net-csharp"
  },
  "language_info": {
   "name": "C#"
  }
 },
 "nbformat": 4,
 "nbformat_minor": 2
}

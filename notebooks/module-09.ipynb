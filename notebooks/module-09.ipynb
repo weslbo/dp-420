{
 "cells": [
  {
   "cell_type": "markdown",
   "metadata": {
    "dotnet_interactive": {
     "language": "csharp"
    }
   },
   "source": [
    "# Module 09: Design and implement a replication strategy for Azure Cosmos DB SQL API\n",
    "\n",
    "- [[Learning path]](https://docs.microsoft.com/en-us/learn/paths/design-implement-replication-strategy-cosmos-db-sql-api/?ns-enrollment-type=Collection&ns-enrollment-id=1k8wcz8zooj2nx)\n",
    "- [[Lab]](https://microsoftlearning.github.io/dp-420-cosmos-db-dev/instructions/20-sdk-regions.html): Connect to different regions with the Azure Cosmos DB SQL API SDK\n",
    "- [[Lab]](https://microsoftlearning.github.io/dp-420-cosmos-db-dev/instructions/21-sdk-consistency-model.html): Configure consistency models in the portal and the Azure Cosmos DB SQL API SDK\n",
    "- [[Lab]](https://microsoftlearning.github.io/dp-420-cosmos-db-dev/instructions/22-sdk-multi-region.html): Connect to a multi-region write account with the Azure Cosmos DB SQL API SDK"
   ]
  },
  {
   "cell_type": "markdown",
   "metadata": {},
   "source": [
    "## Demo setup"
   ]
  },
  {
   "cell_type": "code",
   "execution_count": null,
   "metadata": {
    "dotnet_interactive": {
     "language": "pwsh"
    },
    "vscode": {
     "languageId": "dotnet-interactive.pwsh"
    }
   },
   "outputs": [],
   "source": [
    "Connect-AzAccount\n",
    "Set-AzContext -Subscription \"b895a719-7034-411a-9944-ff196d1f450f\"\n",
    "$connectionString = (Get-AzCosmosDBAccountKey -ResourceGroupName rg-dp-420 -Name cosmos-dp-420-sql-provisioned -Type \"ConnectionStrings\")[\"Primary SQL Connection String\"]\n",
    "$primaryMasterKey = (Get-AzCosmosDBAccountKey -ResourceGroupName rg-dp-420 -Name cosmos-dp-420-sql-provisioned -Type \"Keys\")[\"PrimaryMasterKey\"]\n",
    "$documentEndpoint = (Get-AzCosmosDBAccount -ResourceGroupName rg-dp-420 -Name cosmos-dp-420-sql-provisioned).DocumentEndpoint"
   ]
  },
  {
   "cell_type": "code",
   "execution_count": null,
   "metadata": {
    "dotnet_interactive": {
     "language": "csharp"
    },
    "vscode": {
     "languageId": "dotnet-interactive.csharp"
    }
   },
   "outputs": [],
   "source": [
    "#r \"nuget: Newtonsoft.Json, 13.0.1\"\n",
    "#r \"nuget: Microsoft.Azure.Cosmos, 3.26.0\"\n",
    "\n",
    "#!share --from pwsh connectionString\n",
    "#!share --from pwsh primaryMasterKey\n",
    "#!share --from pwsh documentEndpoint\n",
    "\n",
    "public class Product\n",
    "{\n",
    "\tpublic string id { get; set; }\n",
    "\tpublic string categoryId { get; set; }\n",
    "\tpublic string categoryName { get; set; }\n",
    "\tpublic string sku { get; set; }\n",
    "\tpublic string name { get; set; }\n",
    "\tpublic string description { get; set; }\n",
    "\tpublic double price { get; set; }\n",
    "}"
   ]
  },
  {
   "cell_type": "markdown",
   "metadata": {},
   "source": [
    "## Configure replication and manage failovers in Azure Cosmos DB"
   ]
  },
  {
   "cell_type": "markdown",
   "metadata": {},
   "source": [
    "### Understand replication\n",
    "\n",
    "A replica set is a group of replicas that can dynamically grow and shrink to meet the needs of the database platform.\n",
    "\n",
    "Each replica set will have other geographically distant replica sets that manage the same partition keys if data is distributed globally. These replica sets can then forward data to other replica sets in different regions to create replica copies of the data.\n",
    "\n",
    "![image](https://docs.microsoft.com/en-us/learn/wwl-data-ai/configure-replication-manage-failovers-azure-cosmos-db/media/2-replica-sets.png)\n",
    "\n",
    "An Azure Cosmos DB account replicates data within a region (local distribution) among different replica sets servicing various partition key values. Replica sets that manage the same partition key value are referred to as a partition set as they will forward data between each other (global distribution).\n",
    "\n",
    "![image](https://docs.microsoft.com/en-us/learn/wwl-data-ai/configure-replication-manage-failovers-azure-cosmos-db/media/2-partition-sets.png)"
   ]
  },
  {
   "cell_type": "markdown",
   "metadata": {},
   "source": [
    "### Distribute data across regions\n",
    "\n",
    "Configuring global distribution in Azure Cosmos DB is a turnkey operation that is performed when an account is created or afterward.\n",
    "\n",
    "Configuring geo-redundancy for a new account:\n",
    "\n",
    "![image](https://docs.microsoft.com/en-us/learn/wwl-data-ai/configure-replication-manage-failovers-azure-cosmos-db/media/3-geo-redundancy.png)\n",
    "\n",
    "Configuring geo-redundancy for an existing account:\n",
    "\n",
    "![image](https://docs.microsoft.com/en-us/learn/wwl-data-ai/configure-replication-manage-failovers-azure-cosmos-db/media/3-replication-map.png)\n",
    "\n",
    "The cost of distributing data globally is **RU/s x # of regions**.\n",
    "\n",
    "For example, consider a solution that uses approximately 1,000 RU/s per hour; data is written to one Azure region and replicated to five more regions. The formula for this would be:\n",
    "\n",
    "```bash\n",
    "1,000 x (1+5) = 6,000\n",
    "```\n",
    "\n",
    "The account would be billed for **6,000 RU/s** used at a per-hour rate."
   ]
  },
  {
   "cell_type": "markdown",
   "metadata": {},
   "source": [
    "### Azure Cosmos DB failovers\n",
    "\n",
    "An automatic failover plan can transfer the write region to one of the read regions in the case of an outage.\n",
    "\n",
    "Define automatic failover policies:\n",
    "\n",
    "![image](https://docs.microsoft.com/en-us/learn/wwl-data-ai/configure-replication-manage-failovers-azure-cosmos-db/media/5-automatic-failover.png)\n",
    "\n",
    "Perform manual failovers:\n",
    "\n",
    "![image](https://docs.microsoft.com/en-us/learn/wwl-data-ai/configure-replication-manage-failovers-azure-cosmos-db/media/6-manual-failover.png)"
   ]
  },
  {
   "cell_type": "markdown",
   "metadata": {},
   "source": [
    "### Configure SDK region\n",
    "\n",
    "Use the ApplicationRegion or ApplicationPreferredRegions properties to configure preferred regions."
   ]
  },
  {
   "cell_type": "code",
   "execution_count": null,
   "metadata": {
    "dotnet_interactive": {
     "language": "csharp"
    },
    "vscode": {
     "languageId": "dotnet-interactive.csharp"
    }
   },
   "outputs": [],
   "source": [
    "// Setting an application region\n",
    "\n",
    "using Microsoft.Azure.Cosmos;\n",
    "\n",
    "CosmosClientOptions options = new () { ApplicationRegion = Regions.UKSouth }; \n",
    "CosmosClient client = new (connectionString, options);"
   ]
  },
  {
   "cell_type": "code",
   "execution_count": null,
   "metadata": {
    "dotnet_interactive": {
     "language": "csharp"
    },
    "vscode": {
     "languageId": "dotnet-interactive.csharp"
    }
   },
   "outputs": [],
   "source": [
    "//  Or using the CosmosClientBuilder class\n",
    "\n",
    "using Microsoft.Azure.Cosmos.Fluent;\n",
    "\n",
    "CosmosClient client = new CosmosClientBuilder(connectionString) \n",
    "    .WithApplicationRegion(Regions.UKSouth) \n",
    "    .Build();"
   ]
  },
  {
   "cell_type": "code",
   "execution_count": null,
   "metadata": {
    "dotnet_interactive": {
     "language": "csharp"
    },
    "vscode": {
     "languageId": "dotnet-interactive.csharp"
    }
   },
   "outputs": [],
   "source": [
    "// Setting a list of preferred application regions\n",
    "\n",
    "List<string> regions = new() { \"East Asia\", \"South Africa North\", \"West US\" }; \n",
    "CosmosClientOptions options = new () { ApplicationPreferredRegions = regions }; \n",
    "CosmosClient client = new (connectionString, options);"
   ]
  },
  {
   "cell_type": "code",
   "execution_count": null,
   "metadata": {
    "dotnet_interactive": {
     "language": "csharp"
    },
    "vscode": {
     "languageId": "dotnet-interactive.csharp"
    }
   },
   "outputs": [],
   "source": [
    "//  Or using the CosmosClientBuilder class\n",
    "\n",
    "CosmosClient client = new CosmosClientBuilder(connectionString) \n",
    "  .WithApplicationPreferredRegions( new List<string> \n",
    "    { \n",
    "        Regions.EastAsia, \n",
    "        Regions.SouthAfricaNorth, \n",
    "        Regions.WestUS \n",
    "    } ) .Build();"
   ]
  },
  {
   "cell_type": "markdown",
   "metadata": {},
   "source": [
    "## Use consistency models in Azure Cosmos DB SQL API"
   ]
  },
  {
   "cell_type": "markdown",
   "metadata": {},
   "source": [
    "### Understand consistency models\n",
    "\n",
    "In a distributed database system, tradeoffs are often made between highly consistent data with extended latency and speedy data operations that may not be consistent immediately.\n",
    "\n",
    "![image](https://docs.microsoft.com/en-us/learn/wwl-data-ai/use-consistency-models-azure-cosmos-db-sql-api/media/2-sliding-scale.png)\n",
    "\n",
    "Each of the five consistency levels is well-defined with clear tradeoffs when compared with each other:\n",
    "\n",
    "| **Consistency Level** | **Description** |\n",
    "| ---: | --- |\n",
    "| **Strong** | Linear consistency. Data is replicated and committed in all configured regions before acknowledged as committed and visible to all clients. |\n",
    "| **Bounded Staleness** | Reads lag behind writes by a configured threshold in time or items. |\n",
    "| **Session** | Within a specific session (SDK instance), users can read their own writes. |\n",
    "| **Consistent Prefix** | Reads may lag behind writes, but reads will never appear out of order. |\n",
    "| **Eventual** | Reads will eventually be consistent with writes. |"
   ]
  },
  {
   "cell_type": "markdown",
   "metadata": {},
   "source": [
    "### Configure default consistency model in the portal\n",
    "\n",
    "In the Azure portal, the Default consistency pane is used to configure a new default consistency level for the entire account.\n",
    "\n",
    "![image](https://docs.microsoft.com/en-us/learn/wwl-data-ai/use-consistency-models-azure-cosmos-db-sql-api/media/3-default-consistency.png)"
   ]
  },
  {
   "cell_type": "markdown",
   "metadata": {},
   "source": [
    "### Change consistency model with the SDK\n",
    "\n",
    "Using the **ItemRequestOptions** class, you can relax the current default consistency level to a weaker one."
   ]
  },
  {
   "cell_type": "code",
   "execution_count": null,
   "metadata": {
    "dotnet_interactive": {
     "language": "csharp"
    },
    "vscode": {
     "languageId": "dotnet-interactive.csharp"
    }
   },
   "outputs": [],
   "source": [
    "// Set the item request Consistency Level option\n",
    "ItemRequestOptions options = new() \n",
    "{ \n",
    "    ConsistencyLevel = ConsistencyLevel.Eventual \n",
    "};\n",
    "\n",
    "// Assign the option to the create item operation\n",
    "var item = new Product \n",
    "{ \n",
    "    id = $\"{Guid.NewGuid()}\", \n",
    "    categoryId = $\"{Guid.NewGuid()}\", \n",
    "    name = \"Reflective Handlebar\"\n",
    "}; \n",
    "\n",
    "CosmosClient client = new (connectionString);\n",
    "Database database = await client.CreateDatabaseIfNotExistsAsync(\"cosmicworks\");\n",
    "Container container = await database.CreateContainerAsync(\"cosmicworks\", \"/categoryId\", 400 );\n",
    "\n",
    "await container.CreateItemAsync<Product>(item, requestOptions: options);"
   ]
  },
  {
   "cell_type": "markdown",
   "metadata": {},
   "source": [
    "### Use session tokens\n",
    "\n",
    "Using the .NET SDK classes, the session token can be manually extracted and passed back to the Azure Cosmos DB resource."
   ]
  },
  {
   "cell_type": "code",
   "execution_count": null,
   "metadata": {
    "dotnet_interactive": {
     "language": "csharp"
    },
    "vscode": {
     "languageId": "dotnet-interactive.csharp"
    }
   },
   "outputs": [],
   "source": [
    "// Create an item with an Item Response\n",
    "var id = $\"{Guid.NewGuid()}\";\n",
    "var categoryId = $\"{Guid.NewGuid()}\";\n",
    "var item = new Product \n",
    "{ \n",
    "    id = id, \n",
    "    categoryId = categoryId, \n",
    "    name = \"Reflective Handlebar 2\"\n",
    "}; \n",
    "ItemResponse<Product> response = await container.CreateItemAsync<Product>(item); \n",
    "\n",
    "// Get the session token from the item response\n",
    "string token = response.Headers.Session;\n",
    "\n",
    "// Set the item request option session token to the previous token\n",
    "ItemRequestOptions options = new() \n",
    "{ \n",
    "    SessionToken = token \n",
    "}; \n",
    "\n",
    "// Use the token on the new request\n",
    "ItemResponse<Product> readResponse = await container.ReadItemAsync<Product>(\n",
    "    id, new PartitionKey(categoryId), requestOptions: options);\n",
    "\n",
    "Console.WriteLine($\"Session token: {token}\");"
   ]
  },
  {
   "cell_type": "markdown",
   "metadata": {},
   "source": [
    "## Configure multi-region write in Azure Cosmos DB SQL API"
   ]
  },
  {
   "cell_type": "markdown",
   "metadata": {},
   "source": [
    "### Understand multi-region write\n",
    "\n",
    "With Azure Cosmos DB, every region supports both writes and reads. \n",
    "\n",
    "![image](https://docs.microsoft.com/en-us/learn/wwl-data-ai/configure-multi-region-write-azure-cosmos-db-sql-api/media/2-enable-multi-write.png)"
   ]
  },
  {
   "cell_type": "markdown",
   "metadata": {},
   "source": [
    "### Understand conflict resolution policies\n",
    "\n",
    "Azure Cosmos DB’s multi-region write feature has automatic conflict management built in. The default policy is known as Last Write Wins that uses the _ts property by default.\n",
    "\n",
    "Replace the default _ts property configuring any numeric property as a conflict resolution path on the .NET SDK"
   ]
  },
  {
   "cell_type": "code",
   "execution_count": null,
   "metadata": {
    "dotnet_interactive": {
     "language": "csharp"
    },
    "vscode": {
     "languageId": "dotnet-interactive.csharp"
    }
   },
   "outputs": [],
   "source": [
    "Database database = client.GetDatabase(\"cosmicworks\"); \n",
    "\n",
    "// Define a default custom conflict resolution path as /metadata/sortableTimestamp.\n",
    "ContainerProperties properties = new(\"products\", \"/categoryId\") \n",
    "{ \n",
    "    ConflictResolutionPolicy = new ConflictResolutionPolicy() \n",
    "    { \n",
    "        Mode = ConflictResolutionMode.LastWriterWins, \n",
    "        ResolutionPath = \"/sortableTimestamp\"  // \"/metadata/sortableTimestamp\"  will return Invalid path '\\/metadata\\/sortableTimestamp' for last writer wins conflict resolution\n",
    "    } \n",
    "}; \n",
    "\n",
    "// Note: You can only set a conflict resolution policy on newly created containers.\n",
    "//await container.DeleteContainerAsync();\n",
    "container = await database.CreateContainerIfNotExistsAsync(properties);"
   ]
  },
  {
   "cell_type": "markdown",
   "metadata": {},
   "source": [
    "### Create a custom conflict resolution policy step 1: JavaScript SP\n",
    "\n",
    "Create a custom conflict resolution policy when you wish to write your own logic to resolve conflicts between items. Let’s first define the custom JavaScript SP that resolves the conflicts.\n",
    "\n",
    "```javascript\n",
    "function <function-name>(incomingItem, existingItem, isTombstone, conflictingItems)\n",
    "```\n",
    "\n",
    "| **Parameter** | **Description** |\n",
    "| --- | :--- |\n",
    "| **existingItem** | The item that is already committed |\n",
    "| **incomingItem** | The item that's being inserted or updated that generated the conflict |\n",
    "| **isTombstone** | Boolean indicating if the incoming item was previously deleted |\n",
    "| **conflictingItems** | Array of all committed items in the container that conflicts with incomingItem |\n",
    "\n",
    "This sample stored procedure resolves conflicts by selecting the lowest value from the /myCustomId path.\n",
    "\n",
    "```javascript\n",
    "function resolver(incomingItem, existingItem, isTombstone, conflictingItems) {\n",
    "  var collection = getContext().getCollection();\n",
    "\n",
    "  if (!incomingItem) {\n",
    "      if (existingItem) {\n",
    "\n",
    "          collection.deleteDocument(existingItem._self, {}, function (err, responseOptions) {\n",
    "              if (err) throw err;\n",
    "          });\n",
    "      }\n",
    "  } else if (isTombstone) {\n",
    "      // delete always wins.\n",
    "  } else {\n",
    "      if (existingItem) {\n",
    "          if (incomingItem.myCustomId > existingItem.myCustomId) {\n",
    "              return; // existing item wins\n",
    "          }\n",
    "      }\n",
    "\n",
    "      var i;\n",
    "      for (i = 0; i < conflictingItems.length; i++) {\n",
    "          if (incomingItem.myCustomId > conflictingItems[i].myCustomId) {\n",
    "              return; // existing conflict item wins\n",
    "          }\n",
    "      }\n",
    "\n",
    "      // incoming item wins - clear conflicts and replace existing with incoming.\n",
    "      tryDelete(conflictingItems, incomingItem, existingItem);\n",
    "  }\n",
    "\n",
    "  function tryDelete(documents, incoming, existing) {\n",
    "      if (documents.length > 0) {\n",
    "          collection.deleteDocument(documents[0]._self, {}, function (err, responseOptions) {\n",
    "              if (err) throw err;\n",
    "\n",
    "              documents.shift();\n",
    "              tryDelete(documents, incoming, existing);\n",
    "          });\n",
    "      } else if (existing) {\n",
    "          collection.replaceDocument(existing._self, incoming,\n",
    "              function (err, documentCreated) {\n",
    "                  if (err) throw err;\n",
    "              });\n",
    "      } else {\n",
    "          collection.createDocument(collection.getSelfLink(), incoming,\n",
    "              function (err, documentCreated) {\n",
    "                  if (err) throw err;\n",
    "              });\n",
    "      }\n",
    "  }\n",
    "}\n",
    "```"
   ]
  },
  {
   "cell_type": "markdown",
   "metadata": {},
   "source": [
    "### Create a custom conflict resolution policy step 2: .NET SDK\n",
    "\n",
    "Once the JavaScript SP code has been defined, let’s assume it was written to the resolver.js file."
   ]
  },
  {
   "cell_type": "code",
   "execution_count": null,
   "metadata": {
    "dotnet_interactive": {
     "language": "csharp"
    },
    "vscode": {
     "languageId": "dotnet-interactive.csharp"
    }
   },
   "outputs": [],
   "source": [
    "using Microsoft.Azure.Cosmos.Scripts;\n",
    "\n",
    "Database database = client.GetDatabase(\"cosmicworks\"); \n",
    "\n",
    "// Define the custom conflict resolution path as /metadata/sortableTimestamp.\n",
    "ContainerProperties properties = new(\"productswithconflict\", \"/categoryId\") \n",
    "{ \n",
    "    ConflictResolutionPolicy = new ConflictResolutionPolicy() \n",
    "    { \n",
    "        Mode = ConflictResolutionMode.Custom, \n",
    "        ResolutionProcedure = string.Format(\"dbs/{0}/colls/{1}/sprocs/{2}\",\n",
    "                                                \"cosmicworks\",\n",
    "                                                \"productswithconflict\",\n",
    "                                                \"resolver\") \n",
    " \n",
    "    } \n",
    "}; \n",
    "\n",
    "// Note: You can only set a conflict resolution policy on newly created containers.\n",
    "Container container = await database.CreateContainerIfNotExistsAsync(properties);\n",
    "\n",
    "await container.Scripts.CreateStoredProcedureAsync( \n",
    "    new StoredProcedureProperties(\"resolver\", \"function resolver(incomingItem, existingItem, isTombstone, conflictingItems) {\\n    var collection = getContext().getCollection();\\n\\n    if (!incomingItem) {\\n        if (existingItem) {\\n\\n            collection.deleteDocument(existingItem._self, {}, function (err, responseOptions) {\\n                if (err) throw err;\\n            });\\n        }\\n    } else if (isTombstone) {\\n        // delete always wins.\\n    } else {\\n        if (existingItem) {\\n            if (incomingItem.myCustomId > existingItem.myCustomId) {\\n                return; // existing item wins\\n            }\\n        }\\n\\n        var i;\\n        for (i = 0; i < conflictingItems.length; i++) {\\n            if (incomingItem.myCustomId > conflictingItems[i].myCustomId) {\\n                return; // existing conflict item wins\\n            }\\n        }\\n\\n        // incoming item wins - clear conflicts and replace existing with incoming.\\n        tryDelete(conflictingItems, incomingItem, existingItem);\\n    }\\n\\n    function tryDelete(documents, incoming, existing) {\\n        if (documents.length > 0) {\\n            collection.deleteDocument(documents[0]._self, {}, function (err, responseOptions) {\\n                if (err) throw err;\\n\\n                documents.shift();\\n                tryDelete(documents, incoming, existing);\\n            });\\n        } else if (existing) {\\n            collection.replaceDocument(existing._self, incoming,\\n                function (err, documentCreated) {\\n                    if (err) throw err;\\n                });\\n        } else {\\n            collection.createDocument(collection.getSelfLink(), incoming,\\n                function (err, documentCreated) {\\n                    if (err) throw err;\\n                });\\n        }\\n    }\\n}\") \n",
    ");\n"
   ]
  },
  {
   "cell_type": "markdown",
   "metadata": {},
   "source": [
    "### Create a custom conflict resolution policy\n",
    "\n",
    "These samples show how to set up a container with a custom conflict resolution policy. These conflicts show up in the **conflict feed**."
   ]
  },
  {
   "cell_type": "code",
   "execution_count": null,
   "metadata": {
    "dotnet_interactive": {
     "language": "csharp"
    },
    "vscode": {
     "languageId": "dotnet-interactive.csharp"
    }
   },
   "outputs": [],
   "source": [
    "Container container = await client.GetDatabase(\"cosmicworks\")\n",
    "    .CreateContainerIfNotExistsAsync(new ContainerProperties(\"productscustom\", \"/categoryId\")\n",
    "    {\n",
    "        ConflictResolutionPolicy = new ConflictResolutionPolicy()\n",
    "        {\n",
    "            Mode = ConflictResolutionMode.Custom\n",
    "        }\n",
    "    });\n",
    "\n",
    "container"
   ]
  },
  {
   "cell_type": "markdown",
   "metadata": {},
   "source": [
    "## Demo teardown"
   ]
  },
  {
   "cell_type": "code",
   "execution_count": null,
   "metadata": {
    "dotnet_interactive": {
     "language": "csharp"
    },
    "vscode": {
     "languageId": "dotnet-interactive.csharp"
    }
   },
   "outputs": [],
   "source": [
    "CosmosClient client = new (connectionString);\n",
    "Database database = client.GetDatabase(\"cosmicworks\");\n",
    "\n",
    "await database.DeleteAsync();"
   ]
  }
 ],
 "metadata": {
  "kernelspec": {
   "display_name": ".NET (C#)",
   "language": "C#",
   "name": ".net-csharp"
  },
  "language_info": {
   "name": "C#"
  }
 },
 "nbformat": 4,
 "nbformat_minor": 2
}
